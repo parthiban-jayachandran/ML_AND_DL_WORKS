{
 "cells": [
  {
   "cell_type": "markdown",
   "metadata": {},
   "source": [
    "<h1 style='color:Orange' align='center'> Lending Club Loan Data Analysis </h4>"
   ]
  },
  {
   "cell_type": "markdown",
   "metadata": {},
   "source": [
    "#### Load the dataset"
   ]
  },
  {
   "cell_type": "code",
   "execution_count": 1,
   "metadata": {},
   "outputs": [],
   "source": [
    "import pandas as pd\n",
    "import numpy as np\n",
    "import matplotlib.pyplot as plt\n",
    "import seaborn as sns\n",
    "from sklearn.preprocessing import LabelEncoder,MinMaxScaler\n",
    "import tensorflow as tf\n",
    "from tensorflow import keras\n",
    "from sklearn.metrics import classification_report, confusion_matrix\n",
    "from catboost import CatBoostClassifier\n",
    "from lightgbm import LGBMClassifier\n",
    "import random, os\n",
    "\n",
    "import warnings\n",
    "warnings.simplefilter(action='ignore', category=FutureWarning)\n",
    "warnings.simplefilter(action='ignore', category=DeprecationWarning)\n",
    "%matplotlib inline"
   ]
  },
  {
   "cell_type": "code",
   "execution_count": 2,
   "metadata": {},
   "outputs": [],
   "source": [
    "df = pd.read_csv(\"loan_data.csv\")"
   ]
  },
  {
   "cell_type": "code",
   "execution_count": 3,
   "metadata": {},
   "outputs": [
    {
     "data": {
      "text/plain": [
       "(9578, 14)"
      ]
     },
     "execution_count": 3,
     "metadata": {},
     "output_type": "execute_result"
    }
   ],
   "source": [
    "df.shape"
   ]
  },
  {
   "cell_type": "code",
   "execution_count": 4,
   "metadata": {},
   "outputs": [
    {
     "data": {
      "text/html": [
       "<div>\n",
       "<style scoped>\n",
       "    .dataframe tbody tr th:only-of-type {\n",
       "        vertical-align: middle;\n",
       "    }\n",
       "\n",
       "    .dataframe tbody tr th {\n",
       "        vertical-align: top;\n",
       "    }\n",
       "\n",
       "    .dataframe thead th {\n",
       "        text-align: right;\n",
       "    }\n",
       "</style>\n",
       "<table border=\"1\" class=\"dataframe\">\n",
       "  <thead>\n",
       "    <tr style=\"text-align: right;\">\n",
       "      <th></th>\n",
       "      <th>credit.policy</th>\n",
       "      <th>purpose</th>\n",
       "      <th>int.rate</th>\n",
       "      <th>installment</th>\n",
       "      <th>log.annual.inc</th>\n",
       "      <th>dti</th>\n",
       "      <th>fico</th>\n",
       "      <th>days.with.cr.line</th>\n",
       "      <th>revol.bal</th>\n",
       "      <th>revol.util</th>\n",
       "      <th>inq.last.6mths</th>\n",
       "      <th>delinq.2yrs</th>\n",
       "      <th>pub.rec</th>\n",
       "      <th>not.fully.paid</th>\n",
       "    </tr>\n",
       "  </thead>\n",
       "  <tbody>\n",
       "    <tr>\n",
       "      <th>0</th>\n",
       "      <td>1</td>\n",
       "      <td>debt_consolidation</td>\n",
       "      <td>0.1189</td>\n",
       "      <td>829.10</td>\n",
       "      <td>11.350407</td>\n",
       "      <td>19.48</td>\n",
       "      <td>737</td>\n",
       "      <td>5639.958333</td>\n",
       "      <td>28854</td>\n",
       "      <td>52.1</td>\n",
       "      <td>0</td>\n",
       "      <td>0</td>\n",
       "      <td>0</td>\n",
       "      <td>0</td>\n",
       "    </tr>\n",
       "    <tr>\n",
       "      <th>1</th>\n",
       "      <td>1</td>\n",
       "      <td>credit_card</td>\n",
       "      <td>0.1071</td>\n",
       "      <td>228.22</td>\n",
       "      <td>11.082143</td>\n",
       "      <td>14.29</td>\n",
       "      <td>707</td>\n",
       "      <td>2760.000000</td>\n",
       "      <td>33623</td>\n",
       "      <td>76.7</td>\n",
       "      <td>0</td>\n",
       "      <td>0</td>\n",
       "      <td>0</td>\n",
       "      <td>0</td>\n",
       "    </tr>\n",
       "    <tr>\n",
       "      <th>2</th>\n",
       "      <td>1</td>\n",
       "      <td>debt_consolidation</td>\n",
       "      <td>0.1357</td>\n",
       "      <td>366.86</td>\n",
       "      <td>10.373491</td>\n",
       "      <td>11.63</td>\n",
       "      <td>682</td>\n",
       "      <td>4710.000000</td>\n",
       "      <td>3511</td>\n",
       "      <td>25.6</td>\n",
       "      <td>1</td>\n",
       "      <td>0</td>\n",
       "      <td>0</td>\n",
       "      <td>0</td>\n",
       "    </tr>\n",
       "    <tr>\n",
       "      <th>3</th>\n",
       "      <td>1</td>\n",
       "      <td>debt_consolidation</td>\n",
       "      <td>0.1008</td>\n",
       "      <td>162.34</td>\n",
       "      <td>11.350407</td>\n",
       "      <td>8.10</td>\n",
       "      <td>712</td>\n",
       "      <td>2699.958333</td>\n",
       "      <td>33667</td>\n",
       "      <td>73.2</td>\n",
       "      <td>1</td>\n",
       "      <td>0</td>\n",
       "      <td>0</td>\n",
       "      <td>0</td>\n",
       "    </tr>\n",
       "    <tr>\n",
       "      <th>4</th>\n",
       "      <td>1</td>\n",
       "      <td>credit_card</td>\n",
       "      <td>0.1426</td>\n",
       "      <td>102.92</td>\n",
       "      <td>11.299732</td>\n",
       "      <td>14.97</td>\n",
       "      <td>667</td>\n",
       "      <td>4066.000000</td>\n",
       "      <td>4740</td>\n",
       "      <td>39.5</td>\n",
       "      <td>0</td>\n",
       "      <td>1</td>\n",
       "      <td>0</td>\n",
       "      <td>0</td>\n",
       "    </tr>\n",
       "  </tbody>\n",
       "</table>\n",
       "</div>"
      ],
      "text/plain": [
       "   credit.policy             purpose  int.rate  installment  log.annual.inc  \\\n",
       "0              1  debt_consolidation    0.1189       829.10       11.350407   \n",
       "1              1         credit_card    0.1071       228.22       11.082143   \n",
       "2              1  debt_consolidation    0.1357       366.86       10.373491   \n",
       "3              1  debt_consolidation    0.1008       162.34       11.350407   \n",
       "4              1         credit_card    0.1426       102.92       11.299732   \n",
       "\n",
       "     dti  fico  days.with.cr.line  revol.bal  revol.util  inq.last.6mths  \\\n",
       "0  19.48   737        5639.958333      28854        52.1               0   \n",
       "1  14.29   707        2760.000000      33623        76.7               0   \n",
       "2  11.63   682        4710.000000       3511        25.6               1   \n",
       "3   8.10   712        2699.958333      33667        73.2               1   \n",
       "4  14.97   667        4066.000000       4740        39.5               0   \n",
       "\n",
       "   delinq.2yrs  pub.rec  not.fully.paid  \n",
       "0            0        0               0  \n",
       "1            0        0               0  \n",
       "2            0        0               0  \n",
       "3            0        0               0  \n",
       "4            1        0               0  "
      ]
     },
     "execution_count": 4,
     "metadata": {},
     "output_type": "execute_result"
    }
   ],
   "source": [
    "df.head()"
   ]
  },
  {
   "cell_type": "code",
   "execution_count": 5,
   "metadata": {},
   "outputs": [
    {
     "data": {
      "text/plain": [
       "credit.policy          int64\n",
       "purpose               object\n",
       "int.rate             float64\n",
       "installment          float64\n",
       "log.annual.inc       float64\n",
       "dti                  float64\n",
       "fico                   int64\n",
       "days.with.cr.line    float64\n",
       "revol.bal              int64\n",
       "revol.util           float64\n",
       "inq.last.6mths         int64\n",
       "delinq.2yrs            int64\n",
       "pub.rec                int64\n",
       "not.fully.paid         int64\n",
       "dtype: object"
      ]
     },
     "execution_count": 5,
     "metadata": {},
     "output_type": "execute_result"
    }
   ],
   "source": [
    "df.dtypes"
   ]
  },
  {
   "cell_type": "markdown",
   "metadata": {},
   "source": [
    "####  Feature Transformation"
   ]
  },
  {
   "cell_type": "code",
   "execution_count": 6,
   "metadata": {},
   "outputs": [],
   "source": [
    "df['purpose'] = LabelEncoder().fit_transform(df['purpose'])"
   ]
  },
  {
   "cell_type": "code",
   "execution_count": 7,
   "metadata": {},
   "outputs": [
    {
     "name": "stdout",
     "output_type": "stream",
     "text": [
      "credit.policy : [1 0]\n",
      "purpose : [2 1 0 4 6 5 3]\n",
      "int.rate : [0.1189 0.1071 0.1357 0.1008 0.1426 0.0788 0.1496 0.1114 0.1134 0.1221\n",
      " 0.1347 0.1324 0.0859 0.0714 0.0863 0.1103 0.1317 0.0894 0.1039 0.1513\n",
      " 0.08   0.1355 0.1229 0.0901 0.0743 0.1375 0.0807 0.1028 0.087  0.1122\n",
      " 0.0996 0.0933 0.0838 0.0775 0.1059 0.1596 0.1154 0.1343 0.1249 0.0964\n",
      " 0.1186 0.1501 0.128  0.1091 0.1217 0.1533 0.0712 0.1438 0.1565 0.1467\n",
      " 0.1312 0.147  0.1407 0.1014 0.1046 0.133  0.0983 0.1393 0.092  0.1236\n",
      " 0.1362 0.1078 0.1583 0.1109 0.1141 0.1267 0.1204 0.0951 0.1172 0.1299\n",
      " 0.1488 0.152  0.1425 0.1836 0.1615 0.06   0.0832 0.1261 0.0945 0.1197\n",
      " 0.1387 0.0976 0.1292 0.0737 0.0768 0.1166 0.1418 0.1545 0.1482 0.1703\n",
      " 0.145  0.1671 0.1576 0.1608 0.164  0.1734 0.1051 0.157  0.1222 0.1273\n",
      " 0.1379 0.1253 0.1128 0.1286 0.1287 0.097  0.1001 0.1538 0.1191 0.1254\n",
      " 0.1159 0.138  0.1096 0.1064 0.1349 0.1033 0.1475 0.1601 0.1507 0.1412\n",
      " 0.1633 0.1696 0.1146 0.1304 0.1272 0.1209 0.1083 0.1178 0.1241 0.1588\n",
      " 0.0907 0.102  0.1336 0.1557 0.0938 0.1493 0.1462 0.1367 0.0963 0.1126\n",
      " 0.1442 0.1148 0.1399 0.1525 0.143  0.1392 0.1904 0.1872 0.162  0.1715\n",
      " 0.1568 0.0988 0.1062 0.1746 0.0932 0.1411 0.1505 0.1316 0.16   0.1158\n",
      " 0.1284 0.1095 0.1695 0.1474 0.1537 0.1632 0.0751 0.1422 0.1218 0.1663\n",
      " 0.1726 0.1853 0.1348 0.1531 0.1635 0.179  0.1758 0.1843 0.1821 0.1183\n",
      " 0.074  0.1682 0.0774 0.1322 0.2086 0.1461 0.1311 0.1916 0.1884 0.1607\n",
      " 0.2011 0.167  0.1979 0.1739 0.1704 0.1913 0.1774 0.0705 0.1878 0.1809\n",
      " 0.2017 0.1982 0.1947 0.2121 0.1459 0.1385 0.1025 0.1099 0.1136 0.2052\n",
      " 0.1719 0.0639 0.1645 0.0676 0.1793 0.209  0.2016 0.183  0.1941 0.1756\n",
      " 0.1691 0.1754 0.1722 0.1628 0.1786 0.1659 0.1741 0.1709 0.1457 0.1804\n",
      " 0.1646 0.1551 0.1772 0.1829 0.1861 0.1797 0.1766 0.1854 0.1665 0.1791\n",
      " 0.1886 0.1759 0.1443 0.1728 0.1936 0.1683 0.1778 0.2164 0.1867]\n",
      "installment : [829.1  228.22 366.86 ... 161.01 257.7  853.43]\n",
      "log.annual.inc : [11.35040654 11.08214255 10.37349118 ... 12.29225034 10.99909533\n",
      " 10.11047245]\n",
      "dti : [19.48 14.29 11.63 ... 10.31 23.74 24.05]\n",
      "fico : [737 707 682 712 667 727 722 677 662 767 747 702 672 797 772 782 802 812\n",
      " 742 692 777 762 757 787 717 752 792 627 687 697 732 822 632 807 817 827\n",
      " 642 647 652 657 637 612 617 622]\n",
      "days.with.cr.line : [ 5639.958333  2760.        4710.       ...  3423.041667  5916.\n",
      " 10474.      ]\n",
      "revol.bal : [28854 33623  3511 ...   184 10036 37879]\n",
      "revol.util : [ 52.1   76.7   25.6  ... 104.3  106.4   69.14]\n",
      "inq.last.6mths : [ 0  1  2  3  4  5  6  8  7 33  9 18 14 15 13 12 10 19 11 16 20 27 25 28\n",
      " 31 24 17 32]\n",
      "delinq.2yrs : [ 0  1  2  4  3  5  6 13  7  8 11]\n",
      "pub.rec : [0 1 2 3 4 5]\n",
      "not.fully.paid : [0 1]\n"
     ]
    }
   ],
   "source": [
    "for i in df:\n",
    "    print(f'{i} : {df[i].unique()}')"
   ]
  },
  {
   "cell_type": "code",
   "execution_count": 8,
   "metadata": {},
   "outputs": [],
   "source": [
    "mms_cols = ['installment','log.annual.inc','dti','fico','days.with.cr.line','revol.bal','revol.util']\n",
    "\n",
    "mms = MinMaxScaler()\n",
    "df[mms_cols] = mms.fit_transform(df[mms_cols])"
   ]
  },
  {
   "cell_type": "code",
   "execution_count": 9,
   "metadata": {},
   "outputs": [
    {
     "data": {
      "text/html": [
       "<div>\n",
       "<style scoped>\n",
       "    .dataframe tbody tr th:only-of-type {\n",
       "        vertical-align: middle;\n",
       "    }\n",
       "\n",
       "    .dataframe tbody tr th {\n",
       "        vertical-align: top;\n",
       "    }\n",
       "\n",
       "    .dataframe thead th {\n",
       "        text-align: right;\n",
       "    }\n",
       "</style>\n",
       "<table border=\"1\" class=\"dataframe\">\n",
       "  <thead>\n",
       "    <tr style=\"text-align: right;\">\n",
       "      <th></th>\n",
       "      <th>credit.policy</th>\n",
       "      <th>purpose</th>\n",
       "      <th>int.rate</th>\n",
       "      <th>installment</th>\n",
       "      <th>log.annual.inc</th>\n",
       "      <th>dti</th>\n",
       "      <th>fico</th>\n",
       "      <th>days.with.cr.line</th>\n",
       "      <th>revol.bal</th>\n",
       "      <th>revol.util</th>\n",
       "      <th>inq.last.6mths</th>\n",
       "      <th>delinq.2yrs</th>\n",
       "      <th>pub.rec</th>\n",
       "      <th>not.fully.paid</th>\n",
       "    </tr>\n",
       "  </thead>\n",
       "  <tbody>\n",
       "    <tr>\n",
       "      <th>0</th>\n",
       "      <td>1</td>\n",
       "      <td>2</td>\n",
       "      <td>0.1189</td>\n",
       "      <td>0.879888</td>\n",
       "      <td>0.544762</td>\n",
       "      <td>0.650200</td>\n",
       "      <td>0.581395</td>\n",
       "      <td>0.312754</td>\n",
       "      <td>0.023898</td>\n",
       "      <td>0.437815</td>\n",
       "      <td>0</td>\n",
       "      <td>0</td>\n",
       "      <td>0</td>\n",
       "      <td>0</td>\n",
       "    </tr>\n",
       "    <tr>\n",
       "      <th>1</th>\n",
       "      <td>1</td>\n",
       "      <td>1</td>\n",
       "      <td>0.1071</td>\n",
       "      <td>0.229916</td>\n",
       "      <td>0.506334</td>\n",
       "      <td>0.476969</td>\n",
       "      <td>0.441860</td>\n",
       "      <td>0.147818</td>\n",
       "      <td>0.027848</td>\n",
       "      <td>0.644538</td>\n",
       "      <td>0</td>\n",
       "      <td>0</td>\n",
       "      <td>0</td>\n",
       "      <td>0</td>\n",
       "    </tr>\n",
       "    <tr>\n",
       "      <th>2</th>\n",
       "      <td>1</td>\n",
       "      <td>2</td>\n",
       "      <td>0.1357</td>\n",
       "      <td>0.379883</td>\n",
       "      <td>0.404820</td>\n",
       "      <td>0.388184</td>\n",
       "      <td>0.325581</td>\n",
       "      <td>0.259495</td>\n",
       "      <td>0.002908</td>\n",
       "      <td>0.215126</td>\n",
       "      <td>1</td>\n",
       "      <td>0</td>\n",
       "      <td>0</td>\n",
       "      <td>0</td>\n",
       "    </tr>\n",
       "    <tr>\n",
       "      <th>3</th>\n",
       "      <td>1</td>\n",
       "      <td>2</td>\n",
       "      <td>0.1008</td>\n",
       "      <td>0.158653</td>\n",
       "      <td>0.544762</td>\n",
       "      <td>0.270360</td>\n",
       "      <td>0.465116</td>\n",
       "      <td>0.144379</td>\n",
       "      <td>0.027885</td>\n",
       "      <td>0.615126</td>\n",
       "      <td>1</td>\n",
       "      <td>0</td>\n",
       "      <td>0</td>\n",
       "      <td>0</td>\n",
       "    </tr>\n",
       "    <tr>\n",
       "      <th>4</th>\n",
       "      <td>1</td>\n",
       "      <td>1</td>\n",
       "      <td>0.1426</td>\n",
       "      <td>0.094378</td>\n",
       "      <td>0.537503</td>\n",
       "      <td>0.499666</td>\n",
       "      <td>0.255814</td>\n",
       "      <td>0.222613</td>\n",
       "      <td>0.003926</td>\n",
       "      <td>0.331933</td>\n",
       "      <td>0</td>\n",
       "      <td>1</td>\n",
       "      <td>0</td>\n",
       "      <td>0</td>\n",
       "    </tr>\n",
       "  </tbody>\n",
       "</table>\n",
       "</div>"
      ],
      "text/plain": [
       "   credit.policy  purpose  int.rate  installment  log.annual.inc       dti  \\\n",
       "0              1        2    0.1189     0.879888        0.544762  0.650200   \n",
       "1              1        1    0.1071     0.229916        0.506334  0.476969   \n",
       "2              1        2    0.1357     0.379883        0.404820  0.388184   \n",
       "3              1        2    0.1008     0.158653        0.544762  0.270360   \n",
       "4              1        1    0.1426     0.094378        0.537503  0.499666   \n",
       "\n",
       "       fico  days.with.cr.line  revol.bal  revol.util  inq.last.6mths  \\\n",
       "0  0.581395           0.312754   0.023898    0.437815               0   \n",
       "1  0.441860           0.147818   0.027848    0.644538               0   \n",
       "2  0.325581           0.259495   0.002908    0.215126               1   \n",
       "3  0.465116           0.144379   0.027885    0.615126               1   \n",
       "4  0.255814           0.222613   0.003926    0.331933               0   \n",
       "\n",
       "   delinq.2yrs  pub.rec  not.fully.paid  \n",
       "0            0        0               0  \n",
       "1            0        0               0  \n",
       "2            0        0               0  \n",
       "3            0        0               0  \n",
       "4            1        0               0  "
      ]
     },
     "execution_count": 9,
     "metadata": {},
     "output_type": "execute_result"
    }
   ],
   "source": [
    "df.head()"
   ]
  },
  {
   "cell_type": "code",
   "execution_count": 10,
   "metadata": {},
   "outputs": [
    {
     "data": {
      "text/plain": [
       "credit.policy        0\n",
       "purpose              0\n",
       "int.rate             0\n",
       "installment          0\n",
       "log.annual.inc       0\n",
       "dti                  0\n",
       "fico                 0\n",
       "days.with.cr.line    0\n",
       "revol.bal            0\n",
       "revol.util           0\n",
       "inq.last.6mths       0\n",
       "delinq.2yrs          0\n",
       "pub.rec              0\n",
       "not.fully.paid       0\n",
       "dtype: int64"
      ]
     },
     "execution_count": 10,
     "metadata": {},
     "output_type": "execute_result"
    }
   ],
   "source": [
    "df.isnull().sum()"
   ]
  },
  {
   "cell_type": "markdown",
   "metadata": {},
   "source": [
    "#### Exploratory data analysis of different factors of the dataset"
   ]
  },
  {
   "cell_type": "code",
   "execution_count": 11,
   "metadata": {},
   "outputs": [
    {
     "data": {
      "text/plain": [
       "<matplotlib.axes._subplots.AxesSubplot at 0x1ebe3da2908>"
      ]
     },
     "execution_count": 11,
     "metadata": {},
     "output_type": "execute_result"
    },
    {
     "data": {
      "image/png": "[encoded data removed]",
      "text/plain": [
       "<Figure size 792x504 with 1 Axes>"
      ]
     },
     "metadata": {
      "needs_background": "light"
     },
     "output_type": "display_data"
    }
   ],
   "source": [
    "plt.figure(figsize=(11,7))\n",
    "sns.countplot(x='purpose',hue='not.fully.paid',data=df,palette='rocket_r')"
   ]
  },
  {
   "cell_type": "code",
   "execution_count": 12,
   "metadata": {},
   "outputs": [
    {
     "data": {
      "text/plain": [
       "<seaborn.axisgrid.JointGrid at 0x1ebe5530ac8>"
      ]
     },
     "execution_count": 12,
     "metadata": {},
     "output_type": "execute_result"
    },
    {
     "data": {
      "image/png": "[encoded data removed]",
      "text/plain": [
       "<Figure size 432x432 with 3 Axes>"
      ]
     },
     "metadata": {
      "needs_background": "light"
     },
     "output_type": "display_data"
    }
   ],
   "source": [
    "sns.jointplot(x='fico',y='int.rate',data=df,color='grey')"
   ]
  },
  {
   "cell_type": "code",
   "execution_count": 13,
   "metadata": {},
   "outputs": [
    {
     "data": {
      "text/plain": [
       "<seaborn.axisgrid.FacetGrid at 0x1ebe5782f48>"
      ]
     },
     "execution_count": 13,
     "metadata": {},
     "output_type": "execute_result"
    },
    {
     "data": {
      "text/plain": [
       "<Figure size 792x504 with 0 Axes>"
      ]
     },
     "metadata": {},
     "output_type": "display_data"
    },
    {
     "data": {
      "image/png": "[encoded data removed]",
      "text/plain": [
       "<Figure size 789.5x360 with 2 Axes>"
      ]
     },
     "metadata": {
      "needs_background": "light"
     },
     "output_type": "display_data"
    }
   ],
   "source": [
    "plt.figure(figsize=(11,7))\n",
    "sns.lmplot(y='int.rate',x='fico',data=df,hue='credit.policy',\n",
    "           col='not.fully.paid',palette='rocket_r')"
   ]
  },
  {
   "cell_type": "code",
   "execution_count": 14,
   "metadata": {},
   "outputs": [
    {
     "data": {
      "text/plain": [
       "<matplotlib.axes._subplots.AxesSubplot at 0x1ebe5a01808>"
      ]
     },
     "execution_count": 14,
     "metadata": {},
     "output_type": "execute_result"
    },
    {
     "data": {
      "image/png": "[encoded data removed]",
      "text/plain": [
       "<Figure size 792x648 with 2 Axes>"
      ]
     },
     "metadata": {
      "needs_background": "light"
     },
     "output_type": "display_data"
    }
   ],
   "source": [
    "corr = df.corr()\n",
    "mask = np.triu(np.ones_like(corr, dtype=bool))\n",
    "\n",
    "f, ax = plt.subplots(figsize=(11, 9))\n",
    "cmap = sns.diverging_palette(230, 20, as_cmap=True)\n",
    "sns.heatmap(corr, mask=mask, cmap=cmap, vmax=.3, center=0,\n",
    "            square=True, linewidths=.5, cbar_kws={\"shrink\": .5})"
   ]
  },
  {
   "cell_type": "markdown",
   "metadata": {},
   "source": [
    "#### Modeling"
   ]
  },
  {
   "cell_type": "code",
   "execution_count": 15,
   "metadata": {},
   "outputs": [],
   "source": [
    "df_train = df.drop('not.fully.paid',axis=1)\n",
    "df_test = df['not.fully.paid']"
   ]
  },
  {
   "cell_type": "code",
   "execution_count": 16,
   "metadata": {},
   "outputs": [
    {
     "data": {
      "text/plain": [
       "Text(0.5, 1.0, 'Target count')"
      ]
     },
     "execution_count": 16,
     "metadata": {},
     "output_type": "execute_result"
    },
    {
     "data": {
      "image/png": "[encoded data removed]",
      "text/plain": [
       "<Figure size 432x288 with 1 Axes>"
      ]
     },
     "metadata": {
      "needs_background": "light"
     },
     "output_type": "display_data"
    }
   ],
   "source": [
    "plt.hist(df_test)\n",
    "plt.title(\"Target count\")"
   ]
  },
  {
   "cell_type": "code",
   "execution_count": 17,
   "metadata": {},
   "outputs": [
    {
     "data": {
      "text/plain": [
       "0    8045\n",
       "1    1533\n",
       "Name: not.fully.paid, dtype: int64"
      ]
     },
     "execution_count": 17,
     "metadata": {},
     "output_type": "execute_result"
    }
   ],
   "source": [
    "df_test.value_counts()"
   ]
  },
  {
   "cell_type": "code",
   "execution_count": 18,
   "metadata": {},
   "outputs": [],
   "source": [
    "from imblearn.over_sampling import SMOTE\n",
    "smote = SMOTE(sampling_strategy = 'minority')\n",
    "x, y = smote.fit_sample(df_train,df_test)"
   ]
  },
  {
   "cell_type": "code",
   "execution_count": 19,
   "metadata": {},
   "outputs": [
    {
     "data": {
      "text/plain": [
       "Text(0.5, 1.0, 'Target counts after scaling')"
      ]
     },
     "execution_count": 19,
     "metadata": {},
     "output_type": "execute_result"
    },
    {
     "data": {
      "image/png": "[encoded data removed]",
      "text/plain": [
       "<Figure size 432x288 with 1 Axes>"
      ]
     },
     "metadata": {
      "needs_background": "light"
     },
     "output_type": "display_data"
    }
   ],
   "source": [
    "plt.hist(y)\n",
    "plt.title(\"Target counts after scaling\")"
   ]
  },
  {
   "cell_type": "code",
   "execution_count": 20,
   "metadata": {},
   "outputs": [
    {
     "name": "stdout",
     "output_type": "stream",
     "text": [
      "\n",
      "Shape of train test split\n",
      "\n",
      "(12067, 13)\n",
      "(4023, 13)\n",
      "(12067,)\n",
      "(4023,)\n"
     ]
    }
   ],
   "source": [
    "from sklearn.model_selection import train_test_split\n",
    "xtrain,xtest,ytrain,ytest = train_test_split(x, y)\n",
    "print(\"\\nShape of train test split\\n\")\n",
    "print(xtrain.shape)\n",
    "print(xtest.shape)\n",
    "print(ytrain.shape)\n",
    "print(ytest.shape)"
   ]
  },
  {
   "cell_type": "markdown",
   "metadata": {},
   "source": [
    "<h3 style='color:Blue' align='center'> Light GBM </h3>"
   ]
  },
  {
   "cell_type": "code",
   "execution_count": 21,
   "metadata": {},
   "outputs": [],
   "source": [
    "SEED = 2021\n",
    "random.seed(SEED)\n",
    "np.random.seed(SEED)\n",
    "os.environ['PYTHONHASHSEED']=str(SEED)"
   ]
  },
  {
   "cell_type": "code",
   "execution_count": 22,
   "metadata": {},
   "outputs": [],
   "source": [
    "NUM_OF_BOOST_ROUND = 10000\n",
    "EARLY_STOPPING = 300\n",
    "params = {\n",
    "    'metric': 'auc',\n",
    "    'seed': SEED,\n",
    "    'n_estimators': NUM_OF_BOOST_ROUND\n",
    "}"
   ]
  },
  {
   "cell_type": "code",
   "execution_count": 23,
   "metadata": {},
   "outputs": [],
   "source": [
    "bst = LGBMClassifier(**params, early_stopping_rounds=EARLY_STOPPING)"
   ]
  },
  {
   "cell_type": "code",
   "execution_count": 24,
   "metadata": {},
   "outputs": [
    {
     "name": "stdout",
     "output_type": "stream",
     "text": [
      "[LightGBM] [Warning] early_stopping_round is set=300, early_stopping_rounds=300 will be ignored. Current value: early_stopping_round=300\n",
      "Training until validation scores don't improve for 300 rounds\n"
     ]
    },
    {
     "name": "stderr",
     "output_type": "stream",
     "text": [
      "C:\\Users\\HP\\anaconda3\\lib\\site-packages\\lightgbm\\engine.py:156: UserWarning: Found `early_stopping_rounds` in params. Will use it instead of argument\n",
      "  warnings.warn(\"Found `{}` in params. Will use it instead of argument\".format(alias))\n"
     ]
    },
    {
     "name": "stdout",
     "output_type": "stream",
     "text": [
      "Early stopping, best iteration is:\n",
      "[3281]\tvalid_0's auc: 0.954984\n"
     ]
    },
    {
     "data": {
      "text/plain": [
       "LGBMClassifier(early_stopping_rounds=300, metric='auc', n_estimators=10000,\n",
       "               seed=2021)"
      ]
     },
     "execution_count": 24,
     "metadata": {},
     "output_type": "execute_result"
    }
   ],
   "source": [
    "bst.fit(xtrain, ytrain,  eval_set=(xtest, ytest), early_stopping_rounds=100, verbose=-1)"
   ]
  },
  {
   "cell_type": "code",
   "execution_count": 25,
   "metadata": {},
   "outputs": [
    {
     "data": {
      "text/plain": [
       "array([0., 0., 0., ..., 1., 1., 1.])"
      ]
     },
     "execution_count": 25,
     "metadata": {},
     "output_type": "execute_result"
    }
   ],
   "source": [
    "ypred_lgb = bst.predict_proba(xtest)[:,1]\n",
    "\n",
    "ypred_lgb = ypred_lgb.flatten()\n",
    "ypred_lgb = np.round(ypred_lgb)\n",
    "\n",
    "ypred_lgb"
   ]
  },
  {
   "cell_type": "code",
   "execution_count": 26,
   "metadata": {},
   "outputs": [
    {
     "name": "stdout",
     "output_type": "stream",
     "text": [
      "Classification Report: \n",
      "               precision    recall  f1-score   support\n",
      "\n",
      "           0       0.86      0.93      0.90      2021\n",
      "           1       0.93      0.85      0.89      2002\n",
      "\n",
      "    accuracy                           0.89      4023\n",
      "   macro avg       0.89      0.89      0.89      4023\n",
      "weighted avg       0.89      0.89      0.89      4023\n",
      "\n"
     ]
    }
   ],
   "source": [
    "print(\"Classification Report: \\n\", classification_report(ytest, ypred_lgb))"
   ]
  },
  {
   "cell_type": "code",
   "execution_count": 27,
   "metadata": {},
   "outputs": [
    {
     "name": "stdout",
     "output_type": "stream",
     "text": [
      "Confusion Matrix : \n",
      " [[1884  137]\n",
      " [ 301 1701]]\n",
      "Accuracy :  0.8911260253542133\n",
      "Sensitivity :  0.9322117763483424\n",
      "Specificity :  0.8496503496503497\n"
     ]
    }
   ],
   "source": [
    "from sklearn.metrics import confusion_matrix\n",
    "\n",
    "cm1 = confusion_matrix(ytest, ypred_lgb)\n",
    "print('Confusion Matrix : \\n', cm1)\n",
    "\n",
    "total1=sum(sum(cm1))\n",
    "accuracy1=(cm1[0,0]+cm1[1,1])/total1\n",
    "print ('Accuracy : ', accuracy1)\n",
    "\n",
    "sensitivity1 = cm1[0,0]/(cm1[0,0]+cm1[0,1])\n",
    "print('Sensitivity : ', sensitivity1 )\n",
    "\n",
    "specificity1 = cm1[1,1]/(cm1[1,0]+cm1[1,1])\n",
    "print('Specificity : ', specificity1)"
   ]
  },
  {
   "cell_type": "code",
   "execution_count": 28,
   "metadata": {},
   "outputs": [
    {
     "data": {
      "text/plain": [
       "array([1.27578357e-04, 2.34683785e-04, 5.75631740e-06, ...,\n",
       "       9.99963388e-01, 9.99986240e-01, 7.95545442e-01])"
      ]
     },
     "execution_count": 28,
     "metadata": {},
     "output_type": "execute_result"
    }
   ],
   "source": [
    "probs = bst.predict_proba(xtest)\n",
    "preds = probs[:,1]\n",
    "\n",
    "preds"
   ]
  },
  {
   "cell_type": "code",
   "execution_count": 29,
   "metadata": {},
   "outputs": [
    {
     "data": {
      "text/plain": [
       "0.954984154885194"
      ]
     },
     "execution_count": 29,
     "metadata": {},
     "output_type": "execute_result"
    }
   ],
   "source": [
    "from sklearn import metrics\n",
    "fpr, tpr, threshold = metrics.roc_curve(ytest, preds)\n",
    "roc_auc = metrics.auc(fpr, tpr)\n",
    "\n",
    "roc_auc"
   ]
  },
  {
   "cell_type": "code",
   "execution_count": 30,
   "metadata": {},
   "outputs": [
    {
     "data": {
      "image/png": "[encoded data removed]",
      "text/plain": [
       "<Figure size 432x288 with 1 Axes>"
      ]
     },
     "metadata": {
      "needs_background": "light"
     },
     "output_type": "display_data"
    }
   ],
   "source": [
    "plt.title('AUC & ROC Curve for Light GBM')\n",
    "plt.plot(fpr, tpr, 'b', label = 'AUC = %0.2f' % roc_auc)\n",
    "plt.legend(loc = 'lower right')\n",
    "plt.plot([0, 1], [0, 1],'r--')\n",
    "plt.xlim([0, 1])\n",
    "plt.ylim([0, 1])\n",
    "plt.ylabel('True Positive Rate')\n",
    "plt.xlabel('False Positive Rate')\n",
    "plt.show()"
   ]
  },
  {
   "cell_type": "markdown",
   "metadata": {},
   "source": [
    "<h3 style='color:Blue' align='center'> Artificial Neural Network (ANN) </h3>"
   ]
  },
  {
   "cell_type": "code",
   "execution_count": 31,
   "metadata": {},
   "outputs": [
    {
     "name": "stdout",
     "output_type": "stream",
     "text": [
      "\n",
      " Neural network starts\n",
      "\n",
      "Epoch 1/100\n",
      "378/378 [==============================] - 2s 2ms/step - loss: 0.7260 - accuracy: 0.4987\n",
      "Epoch 2/100\n",
      "378/378 [==============================] - 1s 2ms/step - loss: 0.6562 - accuracy: 0.6142\n",
      "Epoch 3/100\n",
      "378/378 [==============================] - 1s 2ms/step - loss: 0.6556 - accuracy: 0.6071\n",
      "Epoch 4/100\n",
      "378/378 [==============================] - 1s 2ms/step - loss: 0.6506 - accuracy: 0.6178\n",
      "Epoch 5/100\n",
      "378/378 [==============================] - 1s 2ms/step - loss: 0.6486 - accuracy: 0.6134\n",
      "Epoch 6/100\n",
      "378/378 [==============================] - 1s 2ms/step - loss: 0.6413 - accuracy: 0.6176\n",
      "Epoch 7/100\n",
      "378/378 [==============================] - 1s 2ms/step - loss: 0.6411 - accuracy: 0.6201\n",
      "Epoch 8/100\n",
      "378/378 [==============================] - 1s 2ms/step - loss: 0.6400 - accuracy: 0.6200\n",
      "Epoch 9/100\n",
      "378/378 [==============================] - 1s 2ms/step - loss: 0.6359 - accuracy: 0.6304\n",
      "Epoch 10/100\n",
      "378/378 [==============================] - 1s 2ms/step - loss: 0.6333 - accuracy: 0.6277\n",
      "Epoch 11/100\n",
      "378/378 [==============================] - 1s 2ms/step - loss: 0.6296 - accuracy: 0.6303\n",
      "Epoch 12/100\n",
      "378/378 [==============================] - 1s 2ms/step - loss: 0.6324 - accuracy: 0.6301\n",
      "Epoch 13/100\n",
      "378/378 [==============================] - 1s 2ms/step - loss: 0.6348 - accuracy: 0.6221\n",
      "Epoch 14/100\n",
      "378/378 [==============================] - 1s 2ms/step - loss: 0.6292 - accuracy: 0.6309\n",
      "Epoch 15/100\n",
      "378/378 [==============================] - 1s 2ms/step - loss: 0.6298 - accuracy: 0.6354\n",
      "Epoch 16/100\n",
      "378/378 [==============================] - 1s 2ms/step - loss: 0.6266 - accuracy: 0.6370\n",
      "Epoch 17/100\n",
      "378/378 [==============================] - 1s 2ms/step - loss: 0.6247 - accuracy: 0.6352\n",
      "Epoch 18/100\n",
      "378/378 [==============================] - 1s 2ms/step - loss: 0.6303 - accuracy: 0.6318\n",
      "Epoch 19/100\n",
      "378/378 [==============================] - 1s 2ms/step - loss: 0.6212 - accuracy: 0.6422\n",
      "Epoch 20/100\n",
      "378/378 [==============================] - 1s 2ms/step - loss: 0.6289 - accuracy: 0.6381\n",
      "Epoch 21/100\n",
      "378/378 [==============================] - 1s 2ms/step - loss: 0.6226 - accuracy: 0.6462\n",
      "Epoch 22/100\n",
      "378/378 [==============================] - 1s 2ms/step - loss: 0.6241 - accuracy: 0.6414\n",
      "Epoch 23/100\n",
      "378/378 [==============================] - 1s 2ms/step - loss: 0.6165 - accuracy: 0.6500\n",
      "Epoch 24/100\n",
      "378/378 [==============================] - 1s 2ms/step - loss: 0.6314 - accuracy: 0.6281\n",
      "Epoch 25/100\n",
      "378/378 [==============================] - 1s 2ms/step - loss: 0.6202 - accuracy: 0.6438\n",
      "Epoch 26/100\n",
      "378/378 [==============================] - 1s 2ms/step - loss: 0.6248 - accuracy: 0.6381\n",
      "Epoch 27/100\n",
      "378/378 [==============================] - 1s 2ms/step - loss: 0.6207 - accuracy: 0.6403\n",
      "Epoch 28/100\n",
      "378/378 [==============================] - 1s 2ms/step - loss: 0.6227 - accuracy: 0.6438\n",
      "Epoch 29/100\n",
      "378/378 [==============================] - 1s 2ms/step - loss: 0.6193 - accuracy: 0.6486\n",
      "Epoch 30/100\n",
      "378/378 [==============================] - 1s 2ms/step - loss: 0.6176 - accuracy: 0.6516\n",
      "Epoch 31/100\n",
      "378/378 [==============================] - 1s 2ms/step - loss: 0.6146 - accuracy: 0.6524\n",
      "Epoch 32/100\n",
      "378/378 [==============================] - 1s 2ms/step - loss: 0.6247 - accuracy: 0.6388\n",
      "Epoch 33/100\n",
      "378/378 [==============================] - 1s 2ms/step - loss: 0.6136 - accuracy: 0.6534\n",
      "Epoch 34/100\n",
      "378/378 [==============================] - 1s 2ms/step - loss: 0.6191 - accuracy: 0.6447\n",
      "Epoch 35/100\n",
      "378/378 [==============================] - 1s 2ms/step - loss: 0.6235 - accuracy: 0.6458\n",
      "Epoch 36/100\n",
      "378/378 [==============================] - 1s 2ms/step - loss: 0.6185 - accuracy: 0.6521\n",
      "Epoch 37/100\n",
      "378/378 [==============================] - 1s 2ms/step - loss: 0.6140 - accuracy: 0.6541\n",
      "Epoch 38/100\n",
      "378/378 [==============================] - 1s 2ms/step - loss: 0.6221 - accuracy: 0.6430\n",
      "Epoch 39/100\n",
      "378/378 [==============================] - 1s 2ms/step - loss: 0.6213 - accuracy: 0.6430\n",
      "Epoch 40/100\n",
      "378/378 [==============================] - 1s 2ms/step - loss: 0.6187 - accuracy: 0.6497\n",
      "Epoch 41/100\n",
      "378/378 [==============================] - 1s 2ms/step - loss: 0.6146 - accuracy: 0.6521\n",
      "Epoch 42/100\n",
      "378/378 [==============================] - 1s 2ms/step - loss: 0.6226 - accuracy: 0.6472\n",
      "Epoch 43/100\n",
      "378/378 [==============================] - 1s 2ms/step - loss: 0.6186 - accuracy: 0.6482\n",
      "Epoch 44/100\n",
      "378/378 [==============================] - 1s 2ms/step - loss: 0.6160 - accuracy: 0.6514\n",
      "Epoch 45/100\n",
      "378/378 [==============================] - 1s 2ms/step - loss: 0.6208 - accuracy: 0.6411\n",
      "Epoch 46/100\n",
      "378/378 [==============================] - 1s 2ms/step - loss: 0.6137 - accuracy: 0.6555\n",
      "Epoch 47/100\n",
      "378/378 [==============================] - 1s 2ms/step - loss: 0.6173 - accuracy: 0.6505\n",
      "Epoch 48/100\n",
      "378/378 [==============================] - 1s 2ms/step - loss: 0.6099 - accuracy: 0.6527\n",
      "Epoch 49/100\n",
      "378/378 [==============================] - 1s 2ms/step - loss: 0.6109 - accuracy: 0.6589\n",
      "Epoch 50/100\n",
      "378/378 [==============================] - 1s 2ms/step - loss: 0.6101 - accuracy: 0.6561\n",
      "Epoch 51/100\n",
      "378/378 [==============================] - 1s 2ms/step - loss: 0.6194 - accuracy: 0.6450\n",
      "Epoch 52/100\n",
      "378/378 [==============================] - 1s 2ms/step - loss: 0.6113 - accuracy: 0.6571\n",
      "Epoch 53/100\n",
      "378/378 [==============================] - 1s 2ms/step - loss: 0.6129 - accuracy: 0.6521\n",
      "Epoch 54/100\n",
      "378/378 [==============================] - 1s 2ms/step - loss: 0.6152 - accuracy: 0.6503\n",
      "Epoch 55/100\n",
      "378/378 [==============================] - 1s 2ms/step - loss: 0.6073 - accuracy: 0.6552\n",
      "Epoch 56/100\n",
      "378/378 [==============================] - 1s 2ms/step - loss: 0.6171 - accuracy: 0.6527\n",
      "Epoch 57/100\n",
      "378/378 [==============================] - 1s 2ms/step - loss: 0.6120 - accuracy: 0.6560\n",
      "Epoch 58/100\n",
      "378/378 [==============================] - 1s 2ms/step - loss: 0.6132 - accuracy: 0.6518\n",
      "Epoch 59/100\n",
      "378/378 [==============================] - 1s 2ms/step - loss: 0.6108 - accuracy: 0.6549\n",
      "Epoch 60/100\n",
      "378/378 [==============================] - 1s 2ms/step - loss: 0.6098 - accuracy: 0.6565\n",
      "Epoch 61/100\n",
      "378/378 [==============================] - 1s 2ms/step - loss: 0.6122 - accuracy: 0.6560\n",
      "Epoch 62/100\n",
      "378/378 [==============================] - 1s 2ms/step - loss: 0.6122 - accuracy: 0.6584\n",
      "Epoch 63/100\n",
      "378/378 [==============================] - 1s 2ms/step - loss: 0.6125 - accuracy: 0.6510\n",
      "Epoch 64/100\n",
      "378/378 [==============================] - 1s 2ms/step - loss: 0.6078 - accuracy: 0.6589\n",
      "Epoch 65/100\n",
      "378/378 [==============================] - 1s 2ms/step - loss: 0.6097 - accuracy: 0.6562\n",
      "Epoch 66/100\n",
      "378/378 [==============================] - 1s 2ms/step - loss: 0.6080 - accuracy: 0.6593\n",
      "Epoch 67/100\n",
      "378/378 [==============================] - 1s 2ms/step - loss: 0.6050 - accuracy: 0.6612\n",
      "Epoch 68/100\n",
      "378/378 [==============================] - 1s 2ms/step - loss: 0.6028 - accuracy: 0.6589\n",
      "Epoch 69/100\n",
      "378/378 [==============================] - 1s 2ms/step - loss: 0.6129 - accuracy: 0.6559\n",
      "Epoch 70/100\n",
      "378/378 [==============================] - 1s 2ms/step - loss: 0.6058 - accuracy: 0.6633\n",
      "Epoch 71/100\n",
      "378/378 [==============================] - 1s 2ms/step - loss: 0.6115 - accuracy: 0.6554\n",
      "Epoch 72/100\n",
      "378/378 [==============================] - 1s 2ms/step - loss: 0.6094 - accuracy: 0.6557\n",
      "Epoch 73/100\n",
      "378/378 [==============================] - 1s 2ms/step - loss: 0.6071 - accuracy: 0.6637\n",
      "Epoch 74/100\n",
      "378/378 [==============================] - 1s 2ms/step - loss: 0.6058 - accuracy: 0.6637\n",
      "Epoch 75/100\n",
      "378/378 [==============================] - 1s 2ms/step - loss: 0.6101 - accuracy: 0.6541\n",
      "Epoch 76/100\n",
      "378/378 [==============================] - 1s 2ms/step - loss: 0.6028 - accuracy: 0.6634\n",
      "Epoch 77/100\n",
      "378/378 [==============================] - 1s 2ms/step - loss: 0.6075 - accuracy: 0.6563\n",
      "Epoch 78/100\n",
      "378/378 [==============================] - 1s 2ms/step - loss: 0.6058 - accuracy: 0.6580\n",
      "Epoch 79/100\n",
      "378/378 [==============================] - 1s 2ms/step - loss: 0.6073 - accuracy: 0.6474\n",
      "Epoch 80/100\n",
      "378/378 [==============================] - 1s 2ms/step - loss: 0.6083 - accuracy: 0.6558\n",
      "Epoch 81/100\n"
     ]
    },
    {
     "name": "stdout",
     "output_type": "stream",
     "text": [
      "378/378 [==============================] - 1s 2ms/step - loss: 0.6053 - accuracy: 0.6548\n",
      "Epoch 82/100\n",
      "378/378 [==============================] - 1s 2ms/step - loss: 0.6056 - accuracy: 0.6618\n",
      "Epoch 83/100\n",
      "378/378 [==============================] - 1s 2ms/step - loss: 0.6037 - accuracy: 0.6597\n",
      "Epoch 84/100\n",
      "378/378 [==============================] - 1s 2ms/step - loss: 0.6044 - accuracy: 0.6642\n",
      "Epoch 85/100\n",
      "378/378 [==============================] - 1s 2ms/step - loss: 0.6035 - accuracy: 0.6581\n",
      "Epoch 86/100\n",
      "378/378 [==============================] - 1s 2ms/step - loss: 0.5989 - accuracy: 0.6674\n",
      "Epoch 87/100\n",
      "378/378 [==============================] - 1s 2ms/step - loss: 0.6062 - accuracy: 0.6602\n",
      "Epoch 88/100\n",
      "378/378 [==============================] - 1s 2ms/step - loss: 0.6041 - accuracy: 0.6605\n",
      "Epoch 89/100\n",
      "378/378 [==============================] - 1s 2ms/step - loss: 0.6030 - accuracy: 0.6640\n",
      "Epoch 90/100\n",
      "378/378 [==============================] - 1s 2ms/step - loss: 0.6007 - accuracy: 0.6617\n",
      "Epoch 91/100\n",
      "378/378 [==============================] - 1s 2ms/step - loss: 0.6022 - accuracy: 0.6630\n",
      "Epoch 92/100\n",
      "378/378 [==============================] - 1s 2ms/step - loss: 0.6060 - accuracy: 0.6626\n",
      "Epoch 93/100\n",
      "378/378 [==============================] - 1s 2ms/step - loss: 0.5976 - accuracy: 0.6655\n",
      "Epoch 94/100\n",
      "378/378 [==============================] - 1s 2ms/step - loss: 0.6024 - accuracy: 0.6616\n",
      "Epoch 95/100\n",
      "378/378 [==============================] - 1s 2ms/step - loss: 0.5983 - accuracy: 0.6635\n",
      "Epoch 96/100\n",
      "378/378 [==============================] - 1s 2ms/step - loss: 0.6069 - accuracy: 0.6558\n",
      "Epoch 97/100\n",
      "378/378 [==============================] - 1s 2ms/step - loss: 0.6086 - accuracy: 0.6581\n",
      "Epoch 98/100\n",
      "378/378 [==============================] - 1s 2ms/step - loss: 0.6022 - accuracy: 0.6599\n",
      "Epoch 99/100\n",
      "378/378 [==============================] - 1s 2ms/step - loss: 0.6093 - accuracy: 0.6510\n",
      "Epoch 100/100\n",
      "378/378 [==============================] - 1s 2ms/step - loss: 0.6011 - accuracy: 0.6612\n"
     ]
    },
    {
     "data": {
      "text/plain": [
       "<tensorflow.python.keras.callbacks.History at 0x1ebe74f3848>"
      ]
     },
     "execution_count": 31,
     "metadata": {},
     "output_type": "execute_result"
    }
   ],
   "source": [
    "print('\\n Neural network starts\\n')\n",
    "\n",
    "ann_regular = keras.Sequential([\n",
    "keras.layers.Dense(13, input_shape=(13,),activation='relu'),\n",
    "keras.layers.Dense(5,activation='relu'),\n",
    "keras.layers.Dense(1,activation='sigmoid')\n",
    "])\n",
    "\n",
    "ann_regular.compile(optimizer='adam',\n",
    "loss='binary_crossentropy',\n",
    "metrics=['accuracy'])\n",
    "\n",
    "ann_regular.fit(xtrain,ytrain,epochs=100)"
   ]
  },
  {
   "cell_type": "code",
   "execution_count": 32,
   "metadata": {},
   "outputs": [
    {
     "name": "stdout",
     "output_type": "stream",
     "text": [
      "126/126 [==============================] - 0s 1ms/step - loss: 0.6165 - accuracy: 0.6468\n"
     ]
    },
    {
     "data": {
      "text/plain": [
       "[0.6164591908454895, 0.6467810273170471]"
      ]
     },
     "execution_count": 32,
     "metadata": {},
     "output_type": "execute_result"
    }
   ],
   "source": [
    "ann_regular.evaluate(xtest,ytest)"
   ]
  },
  {
   "cell_type": "code",
   "execution_count": 33,
   "metadata": {},
   "outputs": [],
   "source": [
    "ypred_ann = ann_regular.predict(xtest)\n",
    "ypred_ann = np.round(ypred_ann)"
   ]
  },
  {
   "cell_type": "code",
   "execution_count": 34,
   "metadata": {},
   "outputs": [
    {
     "name": "stdout",
     "output_type": "stream",
     "text": [
      "Classification Report: \n",
      "               precision    recall  f1-score   support\n",
      "\n",
      "           0       0.66      0.62      0.64      2021\n",
      "           1       0.64      0.68      0.66      2002\n",
      "\n",
      "    accuracy                           0.65      4023\n",
      "   macro avg       0.65      0.65      0.65      4023\n",
      "weighted avg       0.65      0.65      0.65      4023\n",
      "\n"
     ]
    }
   ],
   "source": [
    "print(\"Classification Report: \\n\", classification_report(ytest, ypred_ann))"
   ]
  },
  {
   "cell_type": "code",
   "execution_count": 35,
   "metadata": {},
   "outputs": [
    {
     "name": "stdout",
     "output_type": "stream",
     "text": [
      "Confusion Matrix : \n",
      " [[1243  778]\n",
      " [ 643 1359]]\n",
      "Accuracy :  0.6467810091971166\n",
      "Sensitivity :  0.6150420583869372\n",
      "Specificity :  0.6788211788211789\n"
     ]
    }
   ],
   "source": [
    "cm2 = confusion_matrix(ytest, ypred_ann)\n",
    "print('Confusion Matrix : \\n', cm2)\n",
    "\n",
    "total1=sum(sum(cm2))\n",
    "accuracy1=(cm2[0,0]+cm2[1,1])/total1\n",
    "print ('Accuracy : ', accuracy1)\n",
    "\n",
    "sensitivity1 = cm2[0,0]/(cm2[0,0]+cm2[0,1])\n",
    "print('Sensitivity : ', sensitivity1 )\n",
    "\n",
    "specificity1 = cm2[1,1]/(cm2[1,0]+cm2[1,1])\n",
    "print('Specificity : ', specificity1)\n"
   ]
  },
  {
   "cell_type": "code",
   "execution_count": 36,
   "metadata": {},
   "outputs": [
    {
     "name": "stderr",
     "output_type": "stream",
     "text": [
      "C:\\Users\\HP\\anaconda3\\lib\\site-packages\\tensorflow\\python\\keras\\engine\\sequential.py:425: UserWarning: `model.predict_proba()` is deprecated and will be removed after 2021-01-01. Please use `model.predict()` instead.\n",
      "  warnings.warn('`model.predict_proba()` is deprecated and '\n"
     ]
    }
   ],
   "source": [
    "probs = ann_regular.predict_proba(xtest)\n",
    "preds = probs[::1]\n"
   ]
  },
  {
   "cell_type": "code",
   "execution_count": 37,
   "metadata": {},
   "outputs": [
    {
     "data": {
      "text/plain": [
       "0.7154989987746049"
      ]
     },
     "execution_count": 37,
     "metadata": {},
     "output_type": "execute_result"
    }
   ],
   "source": [
    "fpr, tpr, threshold = metrics.roc_curve(ytest, preds)\n",
    "roc_auc = metrics.auc(fpr, tpr)\n",
    "\n",
    "roc_auc\n"
   ]
  },
  {
   "cell_type": "code",
   "execution_count": 38,
   "metadata": {},
   "outputs": [
    {
     "data": {
      "image/png": "[encoded data removed]",
      "text/plain": [
       "<Figure size 432x288 with 1 Axes>"
      ]
     },
     "metadata": {
      "needs_background": "light"
     },
     "output_type": "display_data"
    }
   ],
   "source": [
    "plt.title('AUC & ROC Curve for ANN')\n",
    "plt.plot(fpr, tpr, 'b', label = 'AUC = %0.2f' % roc_auc)\n",
    "plt.legend(loc = 'lower right')\n",
    "plt.plot([0, 1], [0, 1],'r--')\n",
    "plt.xlim([0, 1])\n",
    "plt.ylim([0, 1])\n",
    "plt.ylabel('True Positive Rate')\n",
    "plt.xlabel('False Positive Rate')\n",
    "plt.show()"
   ]
  },
  {
   "cell_type": "markdown",
   "metadata": {},
   "source": [
    "<h3 style='color:Black' font='Bold' align='left'> According the reports and prediction scores, LightGBM model given the best scores </h3>"
   ]
  },
  {
   "cell_type": "code",
   "execution_count": null,
   "metadata": {},
   "outputs": [],
   "source": []
  }
 ],
 "metadata": {
  "kernelspec": {
   "display_name": "Python 3",
   "language": "python",
   "name": "python3"
  },
  "language_info": {
   "codemirror_mode": {
    "name": "ipython",
    "version": 3
   },
   "file_extension": ".py",
   "mimetype": "text/x-python",
   "name": "python",
   "nbconvert_exporter": "python",
   "pygments_lexer": "ipython3",
   "version": "3.7.6"
  }
 },
 "nbformat": 4,
 "nbformat_minor": 4
}
