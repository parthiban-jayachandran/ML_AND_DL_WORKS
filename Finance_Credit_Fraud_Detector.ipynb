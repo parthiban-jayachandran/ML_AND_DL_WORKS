{
 "cells": [
  {
   "cell_type": "markdown",
   "metadata": {},
   "source": [
    "## Simplilearn : Finance Project"
   ]
  },
  {
   "cell_type": "markdown",
   "metadata": {},
   "source": [
    "#### Importing all the required libraries and files"
   ]
  },
  {
   "cell_type": "code",
   "execution_count": 1,
   "metadata": {},
   "outputs": [],
   "source": [
    "import pandas as pd\n",
    "import numpy as np\n",
    "import matplotlib.pyplot as plt\n",
    "import seaborn as sns\n",
    "%matplotlib inline\n",
    "\n",
    "from sklearn.model_selection import train_test_split\n",
    "from sklearn.preprocessing import MinMaxScaler,LabelEncoder,StandardScaler\n",
    "from sklearn.decomposition import PCA\n",
    "from sklearn.discriminant_analysis import LinearDiscriminantAnalysis as LDA\n",
    "le = LabelEncoder()\n",
    "pca=PCA()\n",
    "sc=StandardScaler()\n",
    "\n",
    "from sklearn.metrics import mean_squared_error, roc_auc_score, roc_curve, classification_report, confusion_matrix\n",
    "from sklearn.model_selection import KFold, StratifiedKFold\n",
    "\n",
    "import warnings\n",
    "warnings.filterwarnings('ignore')\n",
    "\n",
    "import random\n",
    "import os\n",
    "import time"
   ]
  },
  {
   "cell_type": "code",
   "execution_count": 2,
   "metadata": {},
   "outputs": [],
   "source": [
    "train = pd.read_csv('train_data.csv')\n",
    "test = pd.read_csv('test_data.csv')"
   ]
  },
  {
   "cell_type": "markdown",
   "metadata": {},
   "source": [
    "#### Exploring the data"
   ]
  },
  {
   "cell_type": "code",
   "execution_count": 3,
   "metadata": {},
   "outputs": [
    {
     "data": {
      "text/plain": [
       "Index(['Time', 'V1', 'V2', 'V3', 'V4', 'V5', 'V6', 'V7', 'V8', 'V9', 'V10',\n",
       "       'V11', 'V12', 'V13', 'V14', 'V15', 'V16', 'V17', 'V18', 'V19', 'V20',\n",
       "       'V21', 'V22', 'V23', 'V24', 'V25', 'V26', 'V27', 'V28', 'Amount',\n",
       "       'Class'],\n",
       "      dtype='object')"
      ]
     },
     "execution_count": 3,
     "metadata": {},
     "output_type": "execute_result"
    }
   ],
   "source": [
    "train.columns"
   ]
  },
  {
   "cell_type": "code",
   "execution_count": 4,
   "metadata": {},
   "outputs": [
    {
     "data": {
      "text/html": [
       "<div>\n",
       "<style scoped>\n",
       "    .dataframe tbody tr th:only-of-type {\n",
       "        vertical-align: middle;\n",
       "    }\n",
       "\n",
       "    .dataframe tbody tr th {\n",
       "        vertical-align: top;\n",
       "    }\n",
       "\n",
       "    .dataframe thead th {\n",
       "        text-align: right;\n",
       "    }\n",
       "</style>\n",
       "<table border=\"1\" class=\"dataframe\">\n",
       "  <thead>\n",
       "    <tr style=\"text-align: right;\">\n",
       "      <th></th>\n",
       "      <th>Time</th>\n",
       "      <th>V1</th>\n",
       "      <th>V2</th>\n",
       "      <th>V3</th>\n",
       "      <th>V4</th>\n",
       "      <th>V5</th>\n",
       "      <th>V6</th>\n",
       "      <th>V7</th>\n",
       "      <th>V8</th>\n",
       "      <th>V9</th>\n",
       "      <th>...</th>\n",
       "      <th>V21</th>\n",
       "      <th>V22</th>\n",
       "      <th>V23</th>\n",
       "      <th>V24</th>\n",
       "      <th>V25</th>\n",
       "      <th>V26</th>\n",
       "      <th>V27</th>\n",
       "      <th>V28</th>\n",
       "      <th>Amount</th>\n",
       "      <th>Class</th>\n",
       "    </tr>\n",
       "  </thead>\n",
       "  <tbody>\n",
       "    <tr>\n",
       "      <th>0</th>\n",
       "      <td>38355.0</td>\n",
       "      <td>1.043949</td>\n",
       "      <td>0.318555</td>\n",
       "      <td>1.045810</td>\n",
       "      <td>2.805989</td>\n",
       "      <td>-0.561113</td>\n",
       "      <td>-0.367956</td>\n",
       "      <td>0.032736</td>\n",
       "      <td>-0.042333</td>\n",
       "      <td>-0.322674</td>\n",
       "      <td>...</td>\n",
       "      <td>-0.240105</td>\n",
       "      <td>-0.680315</td>\n",
       "      <td>0.085328</td>\n",
       "      <td>0.684812</td>\n",
       "      <td>0.318620</td>\n",
       "      <td>-0.204963</td>\n",
       "      <td>0.001662</td>\n",
       "      <td>0.037894</td>\n",
       "      <td>49.67</td>\n",
       "      <td>0</td>\n",
       "    </tr>\n",
       "    <tr>\n",
       "      <th>1</th>\n",
       "      <td>22555.0</td>\n",
       "      <td>-1.665159</td>\n",
       "      <td>0.808440</td>\n",
       "      <td>1.805627</td>\n",
       "      <td>1.903416</td>\n",
       "      <td>-0.821627</td>\n",
       "      <td>0.934790</td>\n",
       "      <td>-0.824802</td>\n",
       "      <td>0.975890</td>\n",
       "      <td>1.747469</td>\n",
       "      <td>...</td>\n",
       "      <td>-0.335332</td>\n",
       "      <td>-0.510994</td>\n",
       "      <td>0.035839</td>\n",
       "      <td>0.147565</td>\n",
       "      <td>-0.529358</td>\n",
       "      <td>-0.566950</td>\n",
       "      <td>-0.595998</td>\n",
       "      <td>-0.220086</td>\n",
       "      <td>16.94</td>\n",
       "      <td>0</td>\n",
       "    </tr>\n",
       "    <tr>\n",
       "      <th>2</th>\n",
       "      <td>2431.0</td>\n",
       "      <td>-0.324096</td>\n",
       "      <td>0.601836</td>\n",
       "      <td>0.865329</td>\n",
       "      <td>-2.138000</td>\n",
       "      <td>0.294663</td>\n",
       "      <td>-1.251553</td>\n",
       "      <td>1.072114</td>\n",
       "      <td>-0.334896</td>\n",
       "      <td>1.071268</td>\n",
       "      <td>...</td>\n",
       "      <td>0.012220</td>\n",
       "      <td>0.352856</td>\n",
       "      <td>-0.341505</td>\n",
       "      <td>-0.145791</td>\n",
       "      <td>0.094194</td>\n",
       "      <td>-0.804026</td>\n",
       "      <td>0.229428</td>\n",
       "      <td>-0.021623</td>\n",
       "      <td>1.00</td>\n",
       "      <td>0</td>\n",
       "    </tr>\n",
       "    <tr>\n",
       "      <th>3</th>\n",
       "      <td>86773.0</td>\n",
       "      <td>-0.258270</td>\n",
       "      <td>1.217501</td>\n",
       "      <td>-0.585348</td>\n",
       "      <td>-0.875347</td>\n",
       "      <td>1.222481</td>\n",
       "      <td>-0.311027</td>\n",
       "      <td>1.073860</td>\n",
       "      <td>-0.161408</td>\n",
       "      <td>0.200665</td>\n",
       "      <td>...</td>\n",
       "      <td>-0.424626</td>\n",
       "      <td>-0.781158</td>\n",
       "      <td>0.019316</td>\n",
       "      <td>0.178614</td>\n",
       "      <td>-0.315616</td>\n",
       "      <td>0.096665</td>\n",
       "      <td>0.269740</td>\n",
       "      <td>-0.020635</td>\n",
       "      <td>10.78</td>\n",
       "      <td>0</td>\n",
       "    </tr>\n",
       "    <tr>\n",
       "      <th>4</th>\n",
       "      <td>127202.0</td>\n",
       "      <td>2.142162</td>\n",
       "      <td>-0.494988</td>\n",
       "      <td>-1.936511</td>\n",
       "      <td>-0.818288</td>\n",
       "      <td>-0.025213</td>\n",
       "      <td>-1.027245</td>\n",
       "      <td>-0.151627</td>\n",
       "      <td>-0.305750</td>\n",
       "      <td>-0.869482</td>\n",
       "      <td>...</td>\n",
       "      <td>0.010115</td>\n",
       "      <td>0.021722</td>\n",
       "      <td>0.079463</td>\n",
       "      <td>-0.480899</td>\n",
       "      <td>0.023846</td>\n",
       "      <td>-0.279076</td>\n",
       "      <td>-0.030121</td>\n",
       "      <td>-0.043888</td>\n",
       "      <td>39.96</td>\n",
       "      <td>0</td>\n",
       "    </tr>\n",
       "  </tbody>\n",
       "</table>\n",
       "<p>5 rows × 31 columns</p>\n",
       "</div>"
      ],
      "text/plain": [
       "       Time        V1        V2        V3        V4        V5        V6  \\\n",
       "0   38355.0  1.043949  0.318555  1.045810  2.805989 -0.561113 -0.367956   \n",
       "1   22555.0 -1.665159  0.808440  1.805627  1.903416 -0.821627  0.934790   \n",
       "2    2431.0 -0.324096  0.601836  0.865329 -2.138000  0.294663 -1.251553   \n",
       "3   86773.0 -0.258270  1.217501 -0.585348 -0.875347  1.222481 -0.311027   \n",
       "4  127202.0  2.142162 -0.494988 -1.936511 -0.818288 -0.025213 -1.027245   \n",
       "\n",
       "         V7        V8        V9  ...       V21       V22       V23       V24  \\\n",
       "0  0.032736 -0.042333 -0.322674  ... -0.240105 -0.680315  0.085328  0.684812   \n",
       "1 -0.824802  0.975890  1.747469  ... -0.335332 -0.510994  0.035839  0.147565   \n",
       "2  1.072114 -0.334896  1.071268  ...  0.012220  0.352856 -0.341505 -0.145791   \n",
       "3  1.073860 -0.161408  0.200665  ... -0.424626 -0.781158  0.019316  0.178614   \n",
       "4 -0.151627 -0.305750 -0.869482  ...  0.010115  0.021722  0.079463 -0.480899   \n",
       "\n",
       "        V25       V26       V27       V28  Amount  Class  \n",
       "0  0.318620 -0.204963  0.001662  0.037894   49.67      0  \n",
       "1 -0.529358 -0.566950 -0.595998 -0.220086   16.94      0  \n",
       "2  0.094194 -0.804026  0.229428 -0.021623    1.00      0  \n",
       "3 -0.315616  0.096665  0.269740 -0.020635   10.78      0  \n",
       "4  0.023846 -0.279076 -0.030121 -0.043888   39.96      0  \n",
       "\n",
       "[5 rows x 31 columns]"
      ]
     },
     "execution_count": 4,
     "metadata": {},
     "output_type": "execute_result"
    }
   ],
   "source": [
    "train.head()"
   ]
  },
  {
   "cell_type": "code",
   "execution_count": 5,
   "metadata": {},
   "outputs": [
    {
     "data": {
      "text/html": [
       "<div>\n",
       "<style scoped>\n",
       "    .dataframe tbody tr th:only-of-type {\n",
       "        vertical-align: middle;\n",
       "    }\n",
       "\n",
       "    .dataframe tbody tr th {\n",
       "        vertical-align: top;\n",
       "    }\n",
       "\n",
       "    .dataframe thead th {\n",
       "        text-align: right;\n",
       "    }\n",
       "</style>\n",
       "<table border=\"1\" class=\"dataframe\">\n",
       "  <thead>\n",
       "    <tr style=\"text-align: right;\">\n",
       "      <th></th>\n",
       "      <th>Time</th>\n",
       "      <th>V1</th>\n",
       "      <th>V2</th>\n",
       "      <th>V3</th>\n",
       "      <th>V4</th>\n",
       "      <th>V5</th>\n",
       "      <th>V6</th>\n",
       "      <th>V7</th>\n",
       "      <th>V8</th>\n",
       "      <th>V9</th>\n",
       "      <th>...</th>\n",
       "      <th>V21</th>\n",
       "      <th>V22</th>\n",
       "      <th>V23</th>\n",
       "      <th>V24</th>\n",
       "      <th>V25</th>\n",
       "      <th>V26</th>\n",
       "      <th>V27</th>\n",
       "      <th>V28</th>\n",
       "      <th>Amount</th>\n",
       "      <th>Class</th>\n",
       "    </tr>\n",
       "  </thead>\n",
       "  <tbody>\n",
       "    <tr>\n",
       "      <th>count</th>\n",
       "      <td>227845.000000</td>\n",
       "      <td>227845.000000</td>\n",
       "      <td>227845.000000</td>\n",
       "      <td>227845.000000</td>\n",
       "      <td>227845.000000</td>\n",
       "      <td>227845.000000</td>\n",
       "      <td>227845.000000</td>\n",
       "      <td>227845.000000</td>\n",
       "      <td>227845.000000</td>\n",
       "      <td>227845.000000</td>\n",
       "      <td>...</td>\n",
       "      <td>227845.000000</td>\n",
       "      <td>227845.000000</td>\n",
       "      <td>227845.000000</td>\n",
       "      <td>227845.000000</td>\n",
       "      <td>227845.000000</td>\n",
       "      <td>227845.000000</td>\n",
       "      <td>227845.000000</td>\n",
       "      <td>227845.000000</td>\n",
       "      <td>227845.000000</td>\n",
       "      <td>227845.000000</td>\n",
       "    </tr>\n",
       "    <tr>\n",
       "      <th>mean</th>\n",
       "      <td>94752.853076</td>\n",
       "      <td>-0.003321</td>\n",
       "      <td>-0.001652</td>\n",
       "      <td>0.001066</td>\n",
       "      <td>-0.000374</td>\n",
       "      <td>0.000877</td>\n",
       "      <td>0.000770</td>\n",
       "      <td>-0.000035</td>\n",
       "      <td>0.001625</td>\n",
       "      <td>-0.000391</td>\n",
       "      <td>...</td>\n",
       "      <td>0.000563</td>\n",
       "      <td>0.001234</td>\n",
       "      <td>-0.001002</td>\n",
       "      <td>0.000254</td>\n",
       "      <td>0.000218</td>\n",
       "      <td>-0.001128</td>\n",
       "      <td>-0.000346</td>\n",
       "      <td>0.000498</td>\n",
       "      <td>88.522327</td>\n",
       "      <td>0.001729</td>\n",
       "    </tr>\n",
       "    <tr>\n",
       "      <th>std</th>\n",
       "      <td>47500.410602</td>\n",
       "      <td>1.963028</td>\n",
       "      <td>1.661178</td>\n",
       "      <td>1.516107</td>\n",
       "      <td>1.415061</td>\n",
       "      <td>1.367074</td>\n",
       "      <td>1.325341</td>\n",
       "      <td>1.220384</td>\n",
       "      <td>1.192648</td>\n",
       "      <td>1.097367</td>\n",
       "      <td>...</td>\n",
       "      <td>0.734187</td>\n",
       "      <td>0.724544</td>\n",
       "      <td>0.625165</td>\n",
       "      <td>0.606012</td>\n",
       "      <td>0.521348</td>\n",
       "      <td>0.482314</td>\n",
       "      <td>0.400286</td>\n",
       "      <td>0.331184</td>\n",
       "      <td>248.100141</td>\n",
       "      <td>0.041548</td>\n",
       "    </tr>\n",
       "    <tr>\n",
       "      <th>min</th>\n",
       "      <td>0.000000</td>\n",
       "      <td>-56.407510</td>\n",
       "      <td>-72.715728</td>\n",
       "      <td>-32.965346</td>\n",
       "      <td>-5.683171</td>\n",
       "      <td>-42.147898</td>\n",
       "      <td>-26.160506</td>\n",
       "      <td>-43.557242</td>\n",
       "      <td>-73.216718</td>\n",
       "      <td>-13.434066</td>\n",
       "      <td>...</td>\n",
       "      <td>-34.830382</td>\n",
       "      <td>-10.933144</td>\n",
       "      <td>-44.807735</td>\n",
       "      <td>-2.836627</td>\n",
       "      <td>-10.295397</td>\n",
       "      <td>-2.604551</td>\n",
       "      <td>-22.565679</td>\n",
       "      <td>-11.710896</td>\n",
       "      <td>0.000000</td>\n",
       "      <td>0.000000</td>\n",
       "    </tr>\n",
       "    <tr>\n",
       "      <th>25%</th>\n",
       "      <td>54182.000000</td>\n",
       "      <td>-0.922851</td>\n",
       "      <td>-0.598040</td>\n",
       "      <td>-0.889246</td>\n",
       "      <td>-0.848884</td>\n",
       "      <td>-0.690811</td>\n",
       "      <td>-0.767803</td>\n",
       "      <td>-0.554761</td>\n",
       "      <td>-0.207838</td>\n",
       "      <td>-0.643365</td>\n",
       "      <td>...</td>\n",
       "      <td>-0.228031</td>\n",
       "      <td>-0.540792</td>\n",
       "      <td>-0.162264</td>\n",
       "      <td>-0.354099</td>\n",
       "      <td>-0.317450</td>\n",
       "      <td>-0.327910</td>\n",
       "      <td>-0.070986</td>\n",
       "      <td>-0.053117</td>\n",
       "      <td>5.590000</td>\n",
       "      <td>0.000000</td>\n",
       "    </tr>\n",
       "    <tr>\n",
       "      <th>50%</th>\n",
       "      <td>84607.000000</td>\n",
       "      <td>0.012663</td>\n",
       "      <td>0.066665</td>\n",
       "      <td>0.182170</td>\n",
       "      <td>-0.019309</td>\n",
       "      <td>-0.055243</td>\n",
       "      <td>-0.273025</td>\n",
       "      <td>0.040409</td>\n",
       "      <td>0.022928</td>\n",
       "      <td>-0.050932</td>\n",
       "      <td>...</td>\n",
       "      <td>-0.028807</td>\n",
       "      <td>0.008697</td>\n",
       "      <td>-0.011614</td>\n",
       "      <td>0.041212</td>\n",
       "      <td>0.016221</td>\n",
       "      <td>-0.053257</td>\n",
       "      <td>0.001315</td>\n",
       "      <td>0.011216</td>\n",
       "      <td>22.000000</td>\n",
       "      <td>0.000000</td>\n",
       "    </tr>\n",
       "    <tr>\n",
       "      <th>75%</th>\n",
       "      <td>139340.000000</td>\n",
       "      <td>1.314821</td>\n",
       "      <td>0.804401</td>\n",
       "      <td>1.029449</td>\n",
       "      <td>0.744822</td>\n",
       "      <td>0.610852</td>\n",
       "      <td>0.400298</td>\n",
       "      <td>0.570631</td>\n",
       "      <td>0.327854</td>\n",
       "      <td>0.596671</td>\n",
       "      <td>...</td>\n",
       "      <td>0.186852</td>\n",
       "      <td>0.529535</td>\n",
       "      <td>0.147067</td>\n",
       "      <td>0.440051</td>\n",
       "      <td>0.351214</td>\n",
       "      <td>0.239885</td>\n",
       "      <td>0.091105</td>\n",
       "      <td>0.078458</td>\n",
       "      <td>77.070000</td>\n",
       "      <td>0.000000</td>\n",
       "    </tr>\n",
       "    <tr>\n",
       "      <th>max</th>\n",
       "      <td>172792.000000</td>\n",
       "      <td>2.454930</td>\n",
       "      <td>22.057729</td>\n",
       "      <td>9.382558</td>\n",
       "      <td>16.875344</td>\n",
       "      <td>34.801666</td>\n",
       "      <td>22.529298</td>\n",
       "      <td>36.877368</td>\n",
       "      <td>20.007208</td>\n",
       "      <td>15.594995</td>\n",
       "      <td>...</td>\n",
       "      <td>27.202839</td>\n",
       "      <td>10.503090</td>\n",
       "      <td>22.528412</td>\n",
       "      <td>4.022866</td>\n",
       "      <td>6.070850</td>\n",
       "      <td>3.463246</td>\n",
       "      <td>12.152401</td>\n",
       "      <td>33.847808</td>\n",
       "      <td>19656.530000</td>\n",
       "      <td>1.000000</td>\n",
       "    </tr>\n",
       "  </tbody>\n",
       "</table>\n",
       "<p>8 rows × 31 columns</p>\n",
       "</div>"
      ],
      "text/plain": [
       "                Time             V1             V2             V3  \\\n",
       "count  227845.000000  227845.000000  227845.000000  227845.000000   \n",
       "mean    94752.853076      -0.003321      -0.001652       0.001066   \n",
       "std     47500.410602       1.963028       1.661178       1.516107   \n",
       "min         0.000000     -56.407510     -72.715728     -32.965346   \n",
       "25%     54182.000000      -0.922851      -0.598040      -0.889246   \n",
       "50%     84607.000000       0.012663       0.066665       0.182170   \n",
       "75%    139340.000000       1.314821       0.804401       1.029449   \n",
       "max    172792.000000       2.454930      22.057729       9.382558   \n",
       "\n",
       "                  V4             V5             V6             V7  \\\n",
       "count  227845.000000  227845.000000  227845.000000  227845.000000   \n",
       "mean       -0.000374       0.000877       0.000770      -0.000035   \n",
       "std         1.415061       1.367074       1.325341       1.220384   \n",
       "min        -5.683171     -42.147898     -26.160506     -43.557242   \n",
       "25%        -0.848884      -0.690811      -0.767803      -0.554761   \n",
       "50%        -0.019309      -0.055243      -0.273025       0.040409   \n",
       "75%         0.744822       0.610852       0.400298       0.570631   \n",
       "max        16.875344      34.801666      22.529298      36.877368   \n",
       "\n",
       "                  V8             V9  ...            V21            V22  \\\n",
       "count  227845.000000  227845.000000  ...  227845.000000  227845.000000   \n",
       "mean        0.001625      -0.000391  ...       0.000563       0.001234   \n",
       "std         1.192648       1.097367  ...       0.734187       0.724544   \n",
       "min       -73.216718     -13.434066  ...     -34.830382     -10.933144   \n",
       "25%        -0.207838      -0.643365  ...      -0.228031      -0.540792   \n",
       "50%         0.022928      -0.050932  ...      -0.028807       0.008697   \n",
       "75%         0.327854       0.596671  ...       0.186852       0.529535   \n",
       "max        20.007208      15.594995  ...      27.202839      10.503090   \n",
       "\n",
       "                 V23            V24            V25            V26  \\\n",
       "count  227845.000000  227845.000000  227845.000000  227845.000000   \n",
       "mean       -0.001002       0.000254       0.000218      -0.001128   \n",
       "std         0.625165       0.606012       0.521348       0.482314   \n",
       "min       -44.807735      -2.836627     -10.295397      -2.604551   \n",
       "25%        -0.162264      -0.354099      -0.317450      -0.327910   \n",
       "50%        -0.011614       0.041212       0.016221      -0.053257   \n",
       "75%         0.147067       0.440051       0.351214       0.239885   \n",
       "max        22.528412       4.022866       6.070850       3.463246   \n",
       "\n",
       "                 V27            V28         Amount          Class  \n",
       "count  227845.000000  227845.000000  227845.000000  227845.000000  \n",
       "mean       -0.000346       0.000498      88.522327       0.001729  \n",
       "std         0.400286       0.331184     248.100141       0.041548  \n",
       "min       -22.565679     -11.710896       0.000000       0.000000  \n",
       "25%        -0.070986      -0.053117       5.590000       0.000000  \n",
       "50%         0.001315       0.011216      22.000000       0.000000  \n",
       "75%         0.091105       0.078458      77.070000       0.000000  \n",
       "max        12.152401      33.847808   19656.530000       1.000000  \n",
       "\n",
       "[8 rows x 31 columns]"
      ]
     },
     "execution_count": 5,
     "metadata": {},
     "output_type": "execute_result"
    }
   ],
   "source": [
    "train.describe()"
   ]
  },
  {
   "cell_type": "code",
   "execution_count": 6,
   "metadata": {},
   "outputs": [
    {
     "data": {
      "text/plain": [
       "0"
      ]
     },
     "execution_count": 6,
     "metadata": {},
     "output_type": "execute_result"
    }
   ],
   "source": [
    "train.isnull().sum().max()"
   ]
  },
  {
   "cell_type": "code",
   "execution_count": 7,
   "metadata": {},
   "outputs": [
    {
     "name": "stdout",
     "output_type": "stream",
     "text": [
      "No Frauds 99.83 % of the dataset\n",
      "Frauds 0.17 % of the dataset\n"
     ]
    }
   ],
   "source": [
    "print('No Frauds', round(train['Class'].value_counts()[0]/len(train) * 100,2), '% of the dataset')\n",
    "print('Frauds', round(train['Class'].value_counts()[1]/len(train) * 100,2), '% of the dataset')"
   ]
  },
  {
   "cell_type": "code",
   "execution_count": 8,
   "metadata": {},
   "outputs": [
    {
     "data": {
      "image/png": "[encoded data removed]",
      "text/plain": [
       "<Figure size 432x288 with 1 Axes>"
      ]
     },
     "metadata": {
      "needs_background": "light"
     },
     "output_type": "display_data"
    }
   ],
   "source": [
    "sns.countplot('Class', data=train, palette=\"Set3\")\n",
    "plt.title('Class Distributions', fontsize=14)\n",
    "\n",
    "plt.show()"
   ]
  },
  {
   "cell_type": "code",
   "execution_count": 9,
   "metadata": {},
   "outputs": [
    {
     "name": "stdout",
     "output_type": "stream",
     "text": [
      "Unique values of the feature Amount is :\n",
      " [4.9670e+01 1.6940e+01 1.0000e+00 ... 5.1189e+02 7.4804e+02 1.7715e+03]\n"
     ]
    }
   ],
   "source": [
    "print(\"Unique values of the feature Amount is :\\n\",train['Amount'].unique())"
   ]
  },
  {
   "cell_type": "code",
   "execution_count": 10,
   "metadata": {},
   "outputs": [
    {
     "name": "stdout",
     "output_type": "stream",
     "text": [
      "Unique values of the feature Amount is :\n",
      " [38355. 22555.  2431. ... 62573. 57317. 32193.]\n"
     ]
    }
   ],
   "source": [
    "print(\"Unique values of the feature Amount is :\\n\",train['Time'].unique())"
   ]
  },
  {
   "cell_type": "code",
   "execution_count": 11,
   "metadata": {
    "scrolled": true
   },
   "outputs": [
    {
     "data": {
      "image/png": "[encoded data removed]",
      "text/plain": [
       "<Figure size 1296x288 with 2 Axes>"
      ]
     },
     "metadata": {
      "needs_background": "light"
     },
     "output_type": "display_data"
    }
   ],
   "source": [
    "fig, ax = plt.subplots(1,2, figsize=(18,4))\n",
    "\n",
    "amount_plot = train['Amount'].values\n",
    "time_plot = train['Time'].values\n",
    "\n",
    "sns.distplot(amount_plot, ax=ax[0], color='r')\n",
    "ax[0].set_title(\"Distribution of Transaction Amount\", fontsize=14)\n",
    "ax[0].set_xlim([min(amount_plot), max(amount_plot)])\n",
    "\n",
    "sns.distplot(time_plot, ax=ax[1], color='b')\n",
    "ax[1].set_title(\"Distribution of Transaction Time\", fontsize=14)\n",
    "ax[1].set_xlim([min(time_plot), max(time_plot)])\n",
    "plt.show()"
   ]
  },
  {
   "cell_type": "markdown",
   "metadata": {},
   "source": [
    "#### Normalizing the columns "
   ]
  },
  {
   "cell_type": "code",
   "execution_count": 12,
   "metadata": {},
   "outputs": [],
   "source": [
    "std_scaler = StandardScaler()\n",
    "\n",
    "train['scaled_amount'] = std_scaler.fit_transform(train['Amount'].values.reshape(-1,1))\n",
    "train['scaled_time'] = std_scaler.fit_transform(train['Time'].values.reshape(-1,1))\n",
    "\n",
    "train.drop(['Time','Amount'], axis=1, inplace=True)"
   ]
  },
  {
   "cell_type": "code",
   "execution_count": 13,
   "metadata": {
    "scrolled": true
   },
   "outputs": [
    {
     "data": {
      "text/html": [
       "<div>\n",
       "<style scoped>\n",
       "    .dataframe tbody tr th:only-of-type {\n",
       "        vertical-align: middle;\n",
       "    }\n",
       "\n",
       "    .dataframe tbody tr th {\n",
       "        vertical-align: top;\n",
       "    }\n",
       "\n",
       "    .dataframe thead th {\n",
       "        text-align: right;\n",
       "    }\n",
       "</style>\n",
       "<table border=\"1\" class=\"dataframe\">\n",
       "  <thead>\n",
       "    <tr style=\"text-align: right;\">\n",
       "      <th></th>\n",
       "      <th>V1</th>\n",
       "      <th>V2</th>\n",
       "      <th>V3</th>\n",
       "      <th>V4</th>\n",
       "      <th>V5</th>\n",
       "      <th>V6</th>\n",
       "      <th>V7</th>\n",
       "      <th>V8</th>\n",
       "      <th>V9</th>\n",
       "      <th>V10</th>\n",
       "      <th>...</th>\n",
       "      <th>V22</th>\n",
       "      <th>V23</th>\n",
       "      <th>V24</th>\n",
       "      <th>V25</th>\n",
       "      <th>V26</th>\n",
       "      <th>V27</th>\n",
       "      <th>V28</th>\n",
       "      <th>Class</th>\n",
       "      <th>scaled_amount</th>\n",
       "      <th>scaled_time</th>\n",
       "    </tr>\n",
       "  </thead>\n",
       "  <tbody>\n",
       "    <tr>\n",
       "      <th>0</th>\n",
       "      <td>1.043949</td>\n",
       "      <td>0.318555</td>\n",
       "      <td>1.045810</td>\n",
       "      <td>2.805989</td>\n",
       "      <td>-0.561113</td>\n",
       "      <td>-0.367956</td>\n",
       "      <td>0.032736</td>\n",
       "      <td>-0.042333</td>\n",
       "      <td>-0.322674</td>\n",
       "      <td>0.499167</td>\n",
       "      <td>...</td>\n",
       "      <td>-0.680315</td>\n",
       "      <td>0.085328</td>\n",
       "      <td>0.684812</td>\n",
       "      <td>0.318620</td>\n",
       "      <td>-0.204963</td>\n",
       "      <td>0.001662</td>\n",
       "      <td>0.037894</td>\n",
       "      <td>0</td>\n",
       "      <td>-0.156600</td>\n",
       "      <td>-1.187316</td>\n",
       "    </tr>\n",
       "    <tr>\n",
       "      <th>1</th>\n",
       "      <td>-1.665159</td>\n",
       "      <td>0.808440</td>\n",
       "      <td>1.805627</td>\n",
       "      <td>1.903416</td>\n",
       "      <td>-0.821627</td>\n",
       "      <td>0.934790</td>\n",
       "      <td>-0.824802</td>\n",
       "      <td>0.975890</td>\n",
       "      <td>1.747469</td>\n",
       "      <td>-0.658751</td>\n",
       "      <td>...</td>\n",
       "      <td>-0.510994</td>\n",
       "      <td>0.035839</td>\n",
       "      <td>0.147565</td>\n",
       "      <td>-0.529358</td>\n",
       "      <td>-0.566950</td>\n",
       "      <td>-0.595998</td>\n",
       "      <td>-0.220086</td>\n",
       "      <td>0</td>\n",
       "      <td>-0.288523</td>\n",
       "      <td>-1.519945</td>\n",
       "    </tr>\n",
       "    <tr>\n",
       "      <th>2</th>\n",
       "      <td>-0.324096</td>\n",
       "      <td>0.601836</td>\n",
       "      <td>0.865329</td>\n",
       "      <td>-2.138000</td>\n",
       "      <td>0.294663</td>\n",
       "      <td>-1.251553</td>\n",
       "      <td>1.072114</td>\n",
       "      <td>-0.334896</td>\n",
       "      <td>1.071268</td>\n",
       "      <td>-1.109522</td>\n",
       "      <td>...</td>\n",
       "      <td>0.352856</td>\n",
       "      <td>-0.341505</td>\n",
       "      <td>-0.145791</td>\n",
       "      <td>0.094194</td>\n",
       "      <td>-0.804026</td>\n",
       "      <td>0.229428</td>\n",
       "      <td>-0.021623</td>\n",
       "      <td>0</td>\n",
       "      <td>-0.352771</td>\n",
       "      <td>-1.943605</td>\n",
       "    </tr>\n",
       "    <tr>\n",
       "      <th>3</th>\n",
       "      <td>-0.258270</td>\n",
       "      <td>1.217501</td>\n",
       "      <td>-0.585348</td>\n",
       "      <td>-0.875347</td>\n",
       "      <td>1.222481</td>\n",
       "      <td>-0.311027</td>\n",
       "      <td>1.073860</td>\n",
       "      <td>-0.161408</td>\n",
       "      <td>0.200665</td>\n",
       "      <td>0.154307</td>\n",
       "      <td>...</td>\n",
       "      <td>-0.781158</td>\n",
       "      <td>0.019316</td>\n",
       "      <td>0.178614</td>\n",
       "      <td>-0.315616</td>\n",
       "      <td>0.096665</td>\n",
       "      <td>0.269740</td>\n",
       "      <td>-0.020635</td>\n",
       "      <td>0</td>\n",
       "      <td>-0.313351</td>\n",
       "      <td>-0.167996</td>\n",
       "    </tr>\n",
       "    <tr>\n",
       "      <th>4</th>\n",
       "      <td>2.142162</td>\n",
       "      <td>-0.494988</td>\n",
       "      <td>-1.936511</td>\n",
       "      <td>-0.818288</td>\n",
       "      <td>-0.025213</td>\n",
       "      <td>-1.027245</td>\n",
       "      <td>-0.151627</td>\n",
       "      <td>-0.305750</td>\n",
       "      <td>-0.869482</td>\n",
       "      <td>0.428729</td>\n",
       "      <td>...</td>\n",
       "      <td>0.021722</td>\n",
       "      <td>0.079463</td>\n",
       "      <td>-0.480899</td>\n",
       "      <td>0.023846</td>\n",
       "      <td>-0.279076</td>\n",
       "      <td>-0.030121</td>\n",
       "      <td>-0.043888</td>\n",
       "      <td>0</td>\n",
       "      <td>-0.195737</td>\n",
       "      <td>0.683136</td>\n",
       "    </tr>\n",
       "  </tbody>\n",
       "</table>\n",
       "<p>5 rows × 31 columns</p>\n",
       "</div>"
      ],
      "text/plain": [
       "         V1        V2        V3        V4        V5        V6        V7  \\\n",
       "0  1.043949  0.318555  1.045810  2.805989 -0.561113 -0.367956  0.032736   \n",
       "1 -1.665159  0.808440  1.805627  1.903416 -0.821627  0.934790 -0.824802   \n",
       "2 -0.324096  0.601836  0.865329 -2.138000  0.294663 -1.251553  1.072114   \n",
       "3 -0.258270  1.217501 -0.585348 -0.875347  1.222481 -0.311027  1.073860   \n",
       "4  2.142162 -0.494988 -1.936511 -0.818288 -0.025213 -1.027245 -0.151627   \n",
       "\n",
       "         V8        V9       V10  ...       V22       V23       V24       V25  \\\n",
       "0 -0.042333 -0.322674  0.499167  ... -0.680315  0.085328  0.684812  0.318620   \n",
       "1  0.975890  1.747469 -0.658751  ... -0.510994  0.035839  0.147565 -0.529358   \n",
       "2 -0.334896  1.071268 -1.109522  ...  0.352856 -0.341505 -0.145791  0.094194   \n",
       "3 -0.161408  0.200665  0.154307  ... -0.781158  0.019316  0.178614 -0.315616   \n",
       "4 -0.305750 -0.869482  0.428729  ...  0.021722  0.079463 -0.480899  0.023846   \n",
       "\n",
       "        V26       V27       V28  Class  scaled_amount  scaled_time  \n",
       "0 -0.204963  0.001662  0.037894      0      -0.156600    -1.187316  \n",
       "1 -0.566950 -0.595998 -0.220086      0      -0.288523    -1.519945  \n",
       "2 -0.804026  0.229428 -0.021623      0      -0.352771    -1.943605  \n",
       "3  0.096665  0.269740 -0.020635      0      -0.313351    -0.167996  \n",
       "4 -0.279076 -0.030121 -0.043888      0      -0.195737     0.683136  \n",
       "\n",
       "[5 rows x 31 columns]"
      ]
     },
     "execution_count": 13,
     "metadata": {},
     "output_type": "execute_result"
    }
   ],
   "source": [
    "train.head()"
   ]
  },
  {
   "cell_type": "code",
   "execution_count": 14,
   "metadata": {},
   "outputs": [
    {
     "data": {
      "image/png": "[encoded data removed]",
      "text/plain": [
       "<Figure size 1296x288 with 2 Axes>"
      ]
     },
     "metadata": {
      "needs_background": "light"
     },
     "output_type": "display_data"
    }
   ],
   "source": [
    "fig, ax = plt.subplots(1,2, figsize=(18,4))\n",
    "\n",
    "scaled_amount_plot = train['scaled_amount'].values\n",
    "scaled_time_plot = train['scaled_time'].values\n",
    "\n",
    "sns.distplot(scaled_amount_plot, ax=ax[0], color='violet')\n",
    "ax[0].set_title(\"Distribution of Transaction Amount after scalling\", fontsize=14)\n",
    "ax[0].set_xlim([min(scaled_amount_plot), max(scaled_amount_plot)])\n",
    "\n",
    "sns.distplot(scaled_time_plot, ax=ax[1], color='yellow')\n",
    "ax[1].set_title(\"Distribution of Transaction Time after scalling\", fontsize=14)\n",
    "ax[1].set_xlim([min(scaled_time_plot), max(scaled_time_plot)])\n",
    "plt.show()"
   ]
  },
  {
   "cell_type": "code",
   "execution_count": 15,
   "metadata": {},
   "outputs": [
    {
     "data": {
      "text/plain": [
       "0    227451\n",
       "1       394\n",
       "Name: Class, dtype: int64"
      ]
     },
     "execution_count": 15,
     "metadata": {},
     "output_type": "execute_result"
    }
   ],
   "source": [
    "train['Class'].value_counts()"
   ]
  },
  {
   "cell_type": "code",
   "execution_count": 16,
   "metadata": {},
   "outputs": [
    {
     "data": {
      "image/png": "[encoded data removed]",
      "text/plain": [
       "<Figure size 1728x1440 with 2 Axes>"
      ]
     },
     "metadata": {
      "needs_background": "light"
     },
     "output_type": "display_data"
    }
   ],
   "source": [
    "plt.subplots(figsize=(24,20))\n",
    "corr = train.corr()\n",
    "sns.heatmap(corr, cmap='coolwarm_r', annot_kws={'size':20})\n",
    "plt.show()"
   ]
  },
  {
   "cell_type": "code",
   "execution_count": 17,
   "metadata": {},
   "outputs": [
    {
     "data": {
      "text/plain": [
       "Index(['V1', 'V2', 'V3', 'V4', 'V5', 'V6', 'V7', 'V8', 'V9', 'V10', 'V11',\n",
       "       'V12', 'V13', 'V14', 'V15', 'V16', 'V17', 'V18', 'V19', 'V20', 'V21',\n",
       "       'V22', 'V23', 'V24', 'V25', 'V26', 'V27', 'V28', 'Class',\n",
       "       'scaled_amount', 'scaled_time'],\n",
       "      dtype='object')"
      ]
     },
     "execution_count": 17,
     "metadata": {},
     "output_type": "execute_result"
    }
   ],
   "source": [
    "train.columns"
   ]
  },
  {
   "cell_type": "code",
   "execution_count": 18,
   "metadata": {},
   "outputs": [],
   "source": [
    "x = train.drop(['Class'],axis=1)\n",
    "y = train['Class']"
   ]
  },
  {
   "cell_type": "markdown",
   "metadata": {},
   "source": [
    "### Sampling the dataset since that is imbalanced"
   ]
  },
  {
   "cell_type": "code",
   "execution_count": 19,
   "metadata": {},
   "outputs": [],
   "source": [
    "x.set_index(\"scaled_time\",inplace=True)"
   ]
  },
  {
   "cell_type": "markdown",
   "metadata": {},
   "source": [
    "#### Applying SMOTE technique to balance the dataset"
   ]
  },
  {
   "cell_type": "code",
   "execution_count": 20,
   "metadata": {},
   "outputs": [
    {
     "data": {
      "text/plain": [
       "1    227451\n",
       "0    227451\n",
       "Name: Class, dtype: int64"
      ]
     },
     "execution_count": 20,
     "metadata": {},
     "output_type": "execute_result"
    }
   ],
   "source": [
    "from imblearn.over_sampling import SMOTE\n",
    "smote = SMOTE(sampling_strategy='minority')\n",
    "x_train, y_train = smote.fit_sample(x,y)\n",
    "\n",
    "y_train.value_counts()"
   ]
  },
  {
   "cell_type": "code",
   "execution_count": 21,
   "metadata": {},
   "outputs": [],
   "source": [
    "xtrain,xtest,ytrain,ytest = train_test_split(x_train, y_train, test_size=0.2,random_state=2021)"
   ]
  },
  {
   "cell_type": "code",
   "execution_count": 22,
   "metadata": {
    "scrolled": true
   },
   "outputs": [
    {
     "data": {
      "text/plain": [
       "<matplotlib.axes._subplots.AxesSubplot at 0x1cb13af6b48>"
      ]
     },
     "execution_count": 22,
     "metadata": {},
     "output_type": "execute_result"
    },
    {
     "data": {
      "image/png": "[encoded data removed]",
      "text/plain": [
       "<Figure size 432x288 with 1 Axes>"
      ]
     },
     "metadata": {
      "needs_background": "light"
     },
     "output_type": "display_data"
    }
   ],
   "source": [
    "sns.countplot(y_train,palette=\"pastel\")"
   ]
  },
  {
   "cell_type": "markdown",
   "metadata": {},
   "source": [
    "### Applying Ensemble technique : XGBoost, to predict the result"
   ]
  },
  {
   "cell_type": "code",
   "execution_count": 24,
   "metadata": {},
   "outputs": [],
   "source": [
    "from sklearn.model_selection import RandomizedSearchCV, GridSearchCV\n",
    "import xgboost\n",
    "classifier=xgboost.XGBClassifier()"
   ]
  },
  {
   "cell_type": "code",
   "execution_count": 25,
   "metadata": {},
   "outputs": [],
   "source": [
    "classifier=xgboost.XGBClassifier(base_score=0.5, booster='gbtree', colsample_bylevel=1,\n",
    "              colsample_bynode=1, colsample_bytree=0.7, gamma=0.4, gpu_id=-1,\n",
    "              importance_type='gain', interaction_constraints='',\n",
    "              learning_rate=0.05, max_delta_step=0, max_depth=15,\n",
    "              min_child_weight=3, missing=None, monotone_constraints='()',\n",
    "              n_estimators=100, n_jobs=4, num_parallel_tree=1, random_state=0,\n",
    "              reg_alpha=0, reg_lambda=1, scale_pos_weight=1, subsample=1,\n",
    "              tree_method='exact', validate_parameters=1, verbosity=0)"
   ]
  },
  {
   "cell_type": "code",
   "execution_count": 26,
   "metadata": {},
   "outputs": [
    {
     "data": {
      "text/plain": [
       "XGBClassifier(base_score=0.5, booster='gbtree', colsample_bylevel=1,\n",
       "              colsample_bynode=1, colsample_bytree=0.7, gamma=0.4, gpu_id=-1,\n",
       "              importance_type='gain', interaction_constraints='',\n",
       "              learning_rate=0.05, max_delta_step=0, max_depth=15,\n",
       "              min_child_weight=3, missing=None, monotone_constraints='()',\n",
       "              n_estimators=100, n_jobs=4, num_parallel_tree=1, random_state=0,\n",
       "              reg_alpha=0, reg_lambda=1, scale_pos_weight=1, subsample=1,\n",
       "              tree_method='exact', validate_parameters=1, verbosity=0)"
      ]
     },
     "execution_count": 26,
     "metadata": {},
     "output_type": "execute_result"
    }
   ],
   "source": [
    "classifier.fit(xtrain, ytrain)"
   ]
  },
  {
   "cell_type": "code",
   "execution_count": 27,
   "metadata": {},
   "outputs": [],
   "source": [
    "xgb_pred = classifier.predict(xtest)\n",
    "xgb_pred = np.round(xgb_pred, decimals=2)"
   ]
  },
  {
   "cell_type": "code",
   "execution_count": 28,
   "metadata": {},
   "outputs": [
    {
     "name": "stdout",
     "output_type": "stream",
     "text": [
      "Classification Report: \n",
      "               precision    recall  f1-score   support\n",
      "\n",
      "           0       1.00      1.00      1.00     45385\n",
      "           1       1.00      1.00      1.00     45596\n",
      "\n",
      "    accuracy                           1.00     90981\n",
      "   macro avg       1.00      1.00      1.00     90981\n",
      "weighted avg       1.00      1.00      1.00     90981\n",
      "\n"
     ]
    }
   ],
   "source": [
    "print(\"Classification Report: \\n\", classification_report(ytest, xgb_pred))"
   ]
  },
  {
   "cell_type": "markdown",
   "metadata": {},
   "source": [
    "### Applying Neural networks to predict the outcome"
   ]
  },
  {
   "cell_type": "code",
   "execution_count": 29,
   "metadata": {},
   "outputs": [],
   "source": [
    "import tensorflow as tf\n",
    "from tensorflow import keras"
   ]
  },
  {
   "cell_type": "code",
   "execution_count": 30,
   "metadata": {},
   "outputs": [
    {
     "data": {
      "text/plain": [
       "(363921, 29)"
      ]
     },
     "execution_count": 30,
     "metadata": {},
     "output_type": "execute_result"
    }
   ],
   "source": [
    "xtrain.shape"
   ]
  },
  {
   "cell_type": "code",
   "execution_count": 32,
   "metadata": {
    "scrolled": true
   },
   "outputs": [
    {
     "name": "stdout",
     "output_type": "stream",
     "text": [
      "Epoch 1/20\n",
      "11373/11373 [==============================] - 18s 2ms/step - loss: 0.2063 - accuracy: 0.9134\n",
      "Epoch 2/20\n",
      "11373/11373 [==============================] - 15s 1ms/step - loss: 0.0834 - accuracy: 0.9640\n",
      "Epoch 3/20\n",
      "11373/11373 [==============================] - 15s 1ms/step - loss: 0.0565 - accuracy: 0.9786\n",
      "Epoch 4/20\n",
      "11373/11373 [==============================] - 15s 1ms/step - loss: 0.0397 - accuracy: 0.9875\n",
      "Epoch 5/20\n",
      "11373/11373 [==============================] - 15s 1ms/step - loss: 0.0304 - accuracy: 0.9915\n",
      "Epoch 6/20\n",
      "11373/11373 [==============================] - 15s 1ms/step - loss: 0.0259 - accuracy: 0.9928\n",
      "Epoch 7/20\n",
      "11373/11373 [==============================] - 15s 1ms/step - loss: 0.0229 - accuracy: 0.9939\n",
      "Epoch 8/20\n",
      "11373/11373 [==============================] - 15s 1ms/step - loss: 0.0203 - accuracy: 0.9946\n",
      "Epoch 9/20\n",
      "11373/11373 [==============================] - 15s 1ms/step - loss: 0.0174 - accuracy: 0.9955\n",
      "Epoch 10/20\n",
      "11373/11373 [==============================] - 15s 1ms/step - loss: 0.0158 - accuracy: 0.9960\n",
      "Epoch 11/20\n",
      "11373/11373 [==============================] - 15s 1ms/step - loss: 0.0148 - accuracy: 0.9962\n",
      "Epoch 12/20\n",
      "11373/11373 [==============================] - 15s 1ms/step - loss: 0.0135 - accuracy: 0.9968\n",
      "Epoch 13/20\n",
      "11373/11373 [==============================] - 14s 1ms/step - loss: 0.0127 - accuracy: 0.9968\n",
      "Epoch 14/20\n",
      "11373/11373 [==============================] - 15s 1ms/step - loss: 0.0124 - accuracy: 0.9972\n",
      "Epoch 15/20\n",
      "11373/11373 [==============================] - 16s 1ms/step - loss: 0.0115 - accuracy: 0.9973\n",
      "Epoch 16/20\n",
      "11373/11373 [==============================] - 16s 1ms/step - loss: 0.0107 - accuracy: 0.9975\n",
      "Epoch 17/20\n",
      "11373/11373 [==============================] - 17s 1ms/step - loss: 0.0105 - accuracy: 0.9975\n",
      "Epoch 18/20\n",
      "11373/11373 [==============================] - 19s 2ms/step - loss: 0.0102 - accuracy: 0.9976\n",
      "Epoch 19/20\n",
      "11373/11373 [==============================] - 18s 2ms/step - loss: 0.0099 - accuracy: 0.9978\n",
      "Epoch 20/20\n",
      "11373/11373 [==============================] - 18s 2ms/step - loss: 0.0088 - accuracy: 0.9979\n"
     ]
    },
    {
     "data": {
      "text/plain": [
       "<tensorflow.python.keras.callbacks.History at 0x1cb2fb73c88>"
      ]
     },
     "execution_count": 32,
     "metadata": {},
     "output_type": "execute_result"
    }
   ],
   "source": [
    "ann = keras.Sequential([\n",
    "    keras.layers.Dense(29, input_shape=(29,),activation='relu'),\n",
    "    keras.layers.Dropout(0.2),\n",
    "    keras.layers.Dense(15,activation='relu'),\n",
    "    keras.layers.Dropout(0.2),\n",
    "    keras.layers.Dense(1,activation='sigmoid')\n",
    "])\n",
    "\n",
    "ann.compile(optimizer='SGD',\n",
    "           loss='binary_crossentropy',\n",
    "           metrics=['accuracy'])\n",
    "\n",
    "ann.fit(xtrain, ytrain,epochs=20)"
   ]
  },
  {
   "cell_type": "code",
   "execution_count": 33,
   "metadata": {},
   "outputs": [],
   "source": [
    "ann_pred = ann.predict(xtest)\n",
    "ann_pred = np.round(ann_pred).astype(int)"
   ]
  },
  {
   "cell_type": "code",
   "execution_count": 34,
   "metadata": {},
   "outputs": [],
   "source": [
    "ann_pred = ann_pred.flatten()"
   ]
  },
  {
   "cell_type": "code",
   "execution_count": 35,
   "metadata": {},
   "outputs": [
    {
     "name": "stdout",
     "output_type": "stream",
     "text": [
      "Classification Report with ANN model: \n",
      "               precision    recall  f1-score   support\n",
      "\n",
      "           0       1.00      1.00      1.00     45385\n",
      "           1       1.00      1.00      1.00     45596\n",
      "\n",
      "    accuracy                           1.00     90981\n",
      "   macro avg       1.00      1.00      1.00     90981\n",
      "weighted avg       1.00      1.00      1.00     90981\n",
      "\n"
     ]
    }
   ],
   "source": [
    "print(\"Classification Report with ANN model: \\n\", classification_report(ytest, ann_pred))"
   ]
  },
  {
   "cell_type": "markdown",
   "metadata": {},
   "source": [
    "### Comparing the model"
   ]
  },
  {
   "cell_type": "code",
   "execution_count": 37,
   "metadata": {},
   "outputs": [
    {
     "name": "stdout",
     "output_type": "stream",
     "text": [
      "ROC score for ANN model :  0.9992398369505343\n",
      "ROC score for XGBoost model :  0.9997136637126565\n"
     ]
    }
   ],
   "source": [
    "print(\"ROC score for ANN model : \",roc_auc_score(ytest, ann_pred))\n",
    "print(\"ROC score for XGBoost model : \",roc_auc_score(ytest, xgb_pred))"
   ]
  },
  {
   "cell_type": "code",
   "execution_count": 48,
   "metadata": {},
   "outputs": [
    {
     "data": {
      "image/png": "[encoded data removed]",
      "text/plain": [
       "<Figure size 1296x432 with 4 Axes>"
      ]
     },
     "metadata": {
      "needs_background": "light"
     },
     "output_type": "display_data"
    }
   ],
   "source": [
    "from sklearn.metrics import confusion_matrix\n",
    "\n",
    "\n",
    "ann_cf = confusion_matrix(ytest, ann_pred)\n",
    "xgb_cf = confusion_matrix(ytest, xgb_pred)\n",
    "\n",
    "fig, ax = plt.subplots(1, 2,figsize=(18,6))\n",
    "\n",
    "\n",
    "sns.heatmap(ann_cf, ax=ax[0], annot=True, cmap=plt.cm.copper)\n",
    "ax[0].set_title(\"Artificial Neural Network Model\\n Confusion Matrix\", fontsize=14)\n",
    "ax[0].set_xticklabels(['', ''], fontsize=14, rotation=90)\n",
    "ax[0].set_yticklabels(['', ''], fontsize=14, rotation=360)\n",
    "\n",
    "sns.heatmap(xgb_cf, ax=ax[1], annot=True, cmap=plt.cm.copper)\n",
    "ax[1].set_title(\"XGBoost model\\n Confusion Matrix\", fontsize=14)\n",
    "ax[1].set_xticklabels(['', ''], fontsize=14, rotation=90)\n",
    "ax[1].set_yticklabels(['', ''], fontsize=14, rotation=360)\n",
    "\n",
    "plt.show()"
   ]
  },
  {
   "cell_type": "markdown",
   "metadata": {},
   "source": [
    "### After comparing the both XGBoost and ANN model, we can conclude the below.\n",
    "Both the model given the best result. But comparing the ROC score and confusion matrix, ANN given the best result"
   ]
  },
  {
   "cell_type": "markdown",
   "metadata": {},
   "source": [
    "##### ***End of the document"
   ]
  }
 ],
 "metadata": {
  "kernelspec": {
   "display_name": "Python 3",
   "language": "python",
   "name": "python3"
  },
  "language_info": {
   "codemirror_mode": {
    "name": "ipython",
    "version": 3
   },
   "file_extension": ".py",
   "mimetype": "text/x-python",
   "name": "python",
   "nbconvert_exporter": "python",
   "pygments_lexer": "ipython3",
   "version": "3.7.6"
  }
 },
 "nbformat": 4,
 "nbformat_minor": 4
}
