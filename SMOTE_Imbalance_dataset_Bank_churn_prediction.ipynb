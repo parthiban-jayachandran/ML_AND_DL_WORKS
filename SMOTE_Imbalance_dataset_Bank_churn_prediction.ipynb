{
 "cells": [
  {
   "cell_type": "code",
   "execution_count": 1,
   "metadata": {},
   "outputs": [],
   "source": [
    "import pandas as pd\n",
    "df = pd.read_csv('bank_customer_churn_modeling.csv')"
   ]
  },
  {
   "cell_type": "code",
   "execution_count": 2,
   "metadata": {},
   "outputs": [],
   "source": [
    "import warnings\n",
    "warnings.filterwarnings('ignore')"
   ]
  },
  {
   "cell_type": "code",
   "execution_count": 3,
   "metadata": {},
   "outputs": [
    {
     "data": {
      "text/plain": [
       "Index(['RowNumber', 'CustomerId', 'Surname', 'CreditScore', 'Geography',\n",
       "       'Gender', 'Age', 'Tenure', 'Balance', 'NumOfProducts', 'HasCrCard',\n",
       "       'IsActiveMember', 'EstimatedSalary', 'Exited'],\n",
       "      dtype='object')"
      ]
     },
     "execution_count": 3,
     "metadata": {},
     "output_type": "execute_result"
    }
   ],
   "source": [
    "df.columns"
   ]
  },
  {
   "cell_type": "code",
   "execution_count": 4,
   "metadata": {},
   "outputs": [
    {
     "data": {
      "text/plain": [
       "RowNumber            int64\n",
       "CustomerId           int64\n",
       "Surname             object\n",
       "CreditScore          int64\n",
       "Geography           object\n",
       "Gender              object\n",
       "Age                  int64\n",
       "Tenure               int64\n",
       "Balance            float64\n",
       "NumOfProducts        int64\n",
       "HasCrCard            int64\n",
       "IsActiveMember       int64\n",
       "EstimatedSalary    float64\n",
       "Exited               int64\n",
       "dtype: object"
      ]
     },
     "execution_count": 4,
     "metadata": {},
     "output_type": "execute_result"
    }
   ],
   "source": [
    "df.dtypes"
   ]
  },
  {
   "cell_type": "code",
   "execution_count": 5,
   "metadata": {},
   "outputs": [
    {
     "data": {
      "text/html": [
       "<div>\n",
       "<style scoped>\n",
       "    .dataframe tbody tr th:only-of-type {\n",
       "        vertical-align: middle;\n",
       "    }\n",
       "\n",
       "    .dataframe tbody tr th {\n",
       "        vertical-align: top;\n",
       "    }\n",
       "\n",
       "    .dataframe thead th {\n",
       "        text-align: right;\n",
       "    }\n",
       "</style>\n",
       "<table border=\"1\" class=\"dataframe\">\n",
       "  <thead>\n",
       "    <tr style=\"text-align: right;\">\n",
       "      <th></th>\n",
       "      <th>RowNumber</th>\n",
       "      <th>CustomerId</th>\n",
       "      <th>Surname</th>\n",
       "      <th>CreditScore</th>\n",
       "      <th>Geography</th>\n",
       "      <th>Gender</th>\n",
       "      <th>Age</th>\n",
       "      <th>Tenure</th>\n",
       "      <th>Balance</th>\n",
       "      <th>NumOfProducts</th>\n",
       "      <th>HasCrCard</th>\n",
       "      <th>IsActiveMember</th>\n",
       "      <th>EstimatedSalary</th>\n",
       "      <th>Exited</th>\n",
       "    </tr>\n",
       "  </thead>\n",
       "  <tbody>\n",
       "    <tr>\n",
       "      <th>0</th>\n",
       "      <td>1</td>\n",
       "      <td>15634602</td>\n",
       "      <td>Hargrave</td>\n",
       "      <td>619</td>\n",
       "      <td>France</td>\n",
       "      <td>Female</td>\n",
       "      <td>42</td>\n",
       "      <td>2</td>\n",
       "      <td>0.00</td>\n",
       "      <td>1</td>\n",
       "      <td>1</td>\n",
       "      <td>1</td>\n",
       "      <td>101348.88</td>\n",
       "      <td>1</td>\n",
       "    </tr>\n",
       "    <tr>\n",
       "      <th>1</th>\n",
       "      <td>2</td>\n",
       "      <td>15647311</td>\n",
       "      <td>Hill</td>\n",
       "      <td>608</td>\n",
       "      <td>Spain</td>\n",
       "      <td>Female</td>\n",
       "      <td>41</td>\n",
       "      <td>1</td>\n",
       "      <td>83807.86</td>\n",
       "      <td>1</td>\n",
       "      <td>0</td>\n",
       "      <td>1</td>\n",
       "      <td>112542.58</td>\n",
       "      <td>0</td>\n",
       "    </tr>\n",
       "    <tr>\n",
       "      <th>2</th>\n",
       "      <td>3</td>\n",
       "      <td>15619304</td>\n",
       "      <td>Onio</td>\n",
       "      <td>502</td>\n",
       "      <td>France</td>\n",
       "      <td>Female</td>\n",
       "      <td>42</td>\n",
       "      <td>8</td>\n",
       "      <td>159660.80</td>\n",
       "      <td>3</td>\n",
       "      <td>1</td>\n",
       "      <td>0</td>\n",
       "      <td>113931.57</td>\n",
       "      <td>1</td>\n",
       "    </tr>\n",
       "    <tr>\n",
       "      <th>3</th>\n",
       "      <td>4</td>\n",
       "      <td>15701354</td>\n",
       "      <td>Boni</td>\n",
       "      <td>699</td>\n",
       "      <td>France</td>\n",
       "      <td>Female</td>\n",
       "      <td>39</td>\n",
       "      <td>1</td>\n",
       "      <td>0.00</td>\n",
       "      <td>2</td>\n",
       "      <td>0</td>\n",
       "      <td>0</td>\n",
       "      <td>93826.63</td>\n",
       "      <td>0</td>\n",
       "    </tr>\n",
       "    <tr>\n",
       "      <th>4</th>\n",
       "      <td>5</td>\n",
       "      <td>15737888</td>\n",
       "      <td>Mitchell</td>\n",
       "      <td>850</td>\n",
       "      <td>Spain</td>\n",
       "      <td>Female</td>\n",
       "      <td>43</td>\n",
       "      <td>2</td>\n",
       "      <td>125510.82</td>\n",
       "      <td>1</td>\n",
       "      <td>1</td>\n",
       "      <td>1</td>\n",
       "      <td>79084.10</td>\n",
       "      <td>0</td>\n",
       "    </tr>\n",
       "  </tbody>\n",
       "</table>\n",
       "</div>"
      ],
      "text/plain": [
       "   RowNumber  CustomerId   Surname  CreditScore Geography  Gender  Age  \\\n",
       "0          1    15634602  Hargrave          619    France  Female   42   \n",
       "1          2    15647311      Hill          608     Spain  Female   41   \n",
       "2          3    15619304      Onio          502    France  Female   42   \n",
       "3          4    15701354      Boni          699    France  Female   39   \n",
       "4          5    15737888  Mitchell          850     Spain  Female   43   \n",
       "\n",
       "   Tenure    Balance  NumOfProducts  HasCrCard  IsActiveMember  \\\n",
       "0       2       0.00              1          1               1   \n",
       "1       1   83807.86              1          0               1   \n",
       "2       8  159660.80              3          1               0   \n",
       "3       1       0.00              2          0               0   \n",
       "4       2  125510.82              1          1               1   \n",
       "\n",
       "   EstimatedSalary  Exited  \n",
       "0        101348.88       1  \n",
       "1        112542.58       0  \n",
       "2        113931.57       1  \n",
       "3         93826.63       0  \n",
       "4         79084.10       0  "
      ]
     },
     "execution_count": 5,
     "metadata": {},
     "output_type": "execute_result"
    }
   ],
   "source": [
    "df.head()"
   ]
  },
  {
   "cell_type": "code",
   "execution_count": 6,
   "metadata": {},
   "outputs": [
    {
     "data": {
      "text/plain": [
       "array(['France', 'Spain', 'Germany'], dtype=object)"
      ]
     },
     "execution_count": 6,
     "metadata": {},
     "output_type": "execute_result"
    }
   ],
   "source": [
    "df['Geography'].unique()"
   ]
  },
  {
   "cell_type": "code",
   "execution_count": 7,
   "metadata": {},
   "outputs": [
    {
     "name": "stdout",
     "output_type": "stream",
     "text": [
      "RowNumber : [    1     2     3 ...  9998  9999 10000]\n",
      "CustomerId : [15634602 15647311 15619304 ... 15584532 15682355 15628319]\n",
      "Surname : ['Hargrave' 'Hill' 'Onio' ... 'Kashiwagi' 'Aldridge' 'Burbidge']\n",
      "CreditScore : [619 608 502 699 850 645 822 376 501 684 528 497 476 549 635 616 653 587\n",
      " 726 732 636 510 669 846 577 756 571 574 411 591 533 553 520 722 475 490\n",
      " 804 582 472 465 556 834 660 776 829 637 550 698 585 788 655 601 656 725\n",
      " 511 614 742 687 555 603 751 581 735 661 675 738 813 657 604 519 664 678\n",
      " 757 416 665 777 543 506 493 652 750 729 646 647 808 524 769 730 515 773\n",
      " 814 710 413 623 670 622 785 605 479 685 538 562 721 628 668 828 674 625\n",
      " 432 770 758 795 686 789 589 461 584 579 663 682 793 691 485 650 754 535\n",
      " 716 539 706 586 631 717 800 683 704 615 667 484 480 578 512 606 597 778\n",
      " 514 525 715 580 807 521 759 516 711 618 643 671 689 620 676 572 695 592\n",
      " 567 694 547 594 673 610 767 763 712 703 662 659 523 772 545 634 739 771\n",
      " 681 544 696 766 727 693 557 531 498 651 791 733 811 707 714 782 775 799\n",
      " 602 744 588 747 583 627 731 629 438 642 806 474 559 429 680 749 734 644\n",
      " 626 649 805 718 840 630 654 762 568 613 522 737 648 443 640 540 460 593\n",
      " 801 611 802 745 483 690 492 709 705 560 752 701 537 487 596 702 486 724\n",
      " 548 464 790 534 748 494 590 468 509 818 816 536 753 774 621 569 658 798\n",
      " 641 542 692 639 765 570 638 599 632 779 527 564 833 504 842 508 417 598\n",
      " 741 607 761 848 546 439 755 760 526 713 700 666 566 495 688 612 477 427\n",
      " 839 819 720 459 503 624 529 563 482 796 445 746 786 554 672 787 499 844\n",
      " 450 815 838 803 736 633 600 679 517 792 743 488 421 841 708 507 505 456\n",
      " 435 561 518 565 728 784 552 609 764 697 723 551 444 719 496 541 830 812\n",
      " 677 420 595 617 809 500 826 434 513 478 797 363 399 463 780 452 575 837\n",
      " 794 824 428 823 781 849 489 431 457 768 831 359 820 573 576 558 817 449\n",
      " 440 415 821 530 350 446 425 740 481 783 358 845 451 458 469 423 404 836\n",
      " 473 835 466 491 351 827 843 365 532 414 453 471 401 810 832 470 447 422\n",
      " 825 430 436 426 408 847 418 437 410 454 407 455 462 386 405 383 395 467\n",
      " 433 442 424 448 441 367 412 382 373 419]\n",
      "Geography : ['France' 'Spain' 'Germany']\n",
      "Gender : ['Female' 'Male']\n",
      "Age : [42 41 39 43 44 50 29 27 31 24 34 25 35 45 58 32 38 46 36 33 40 51 61 49\n",
      " 37 19 66 56 26 21 55 75 22 30 28 65 48 52 57 73 47 54 72 20 67 79 62 53\n",
      " 80 59 68 23 60 70 63 64 18 82 69 74 71 76 77 88 85 84 78 81 92 83]\n",
      "Tenure : [ 2  1  8  7  4  6  3 10  5  9  0]\n",
      "Balance : [     0.    83807.86 159660.8  ...  57369.61  75075.31 130142.79]\n",
      "NumOfProducts : [1 3 2 4]\n",
      "HasCrCard : [1 0]\n",
      "IsActiveMember : [1 0]\n",
      "EstimatedSalary : [101348.88 112542.58 113931.57 ...  42085.58  92888.52  38190.78]\n",
      "Exited : [1 0]\n"
     ]
    }
   ],
   "source": [
    "for i in df:\n",
    "    print(f'{i} : {df[i].unique()}')"
   ]
  },
  {
   "cell_type": "code",
   "execution_count": 8,
   "metadata": {},
   "outputs": [
    {
     "data": {
      "text/plain": [
       "RowNumber          0\n",
       "CustomerId         0\n",
       "Surname            0\n",
       "CreditScore        0\n",
       "Geography          0\n",
       "Gender             0\n",
       "Age                0\n",
       "Tenure             0\n",
       "Balance            0\n",
       "NumOfProducts      0\n",
       "HasCrCard          0\n",
       "IsActiveMember     0\n",
       "EstimatedSalary    0\n",
       "Exited             0\n",
       "dtype: int64"
      ]
     },
     "execution_count": 8,
     "metadata": {},
     "output_type": "execute_result"
    }
   ],
   "source": [
    "df.isnull().sum()"
   ]
  },
  {
   "cell_type": "code",
   "execution_count": 9,
   "metadata": {},
   "outputs": [],
   "source": [
    "df['Gender'].replace({'Female':0,'Male':1}, inplace=True)\n",
    "df['Geography'].replace({'France':0, 'Spain':1, 'Germany':2}, inplace=True)"
   ]
  },
  {
   "cell_type": "code",
   "execution_count": 10,
   "metadata": {},
   "outputs": [
    {
     "data": {
      "text/plain": [
       "RowNumber            int64\n",
       "CustomerId           int64\n",
       "Surname             object\n",
       "CreditScore          int64\n",
       "Geography            int64\n",
       "Gender               int64\n",
       "Age                  int64\n",
       "Tenure               int64\n",
       "Balance            float64\n",
       "NumOfProducts        int64\n",
       "HasCrCard            int64\n",
       "IsActiveMember       int64\n",
       "EstimatedSalary    float64\n",
       "Exited               int64\n",
       "dtype: object"
      ]
     },
     "execution_count": 10,
     "metadata": {},
     "output_type": "execute_result"
    }
   ],
   "source": [
    "df.dtypes"
   ]
  },
  {
   "cell_type": "code",
   "execution_count": 11,
   "metadata": {},
   "outputs": [],
   "source": [
    "import matplotlib.pyplot as plt\n",
    "%matplotlib inline"
   ]
  },
  {
   "cell_type": "code",
   "execution_count": 12,
   "metadata": {},
   "outputs": [
    {
     "data": {
      "text/plain": [
       "<matplotlib.legend.Legend at 0x27789e895c8>"
      ]
     },
     "execution_count": 12,
     "metadata": {},
     "output_type": "execute_result"
    },
    {
     "data": {
      "image/png": "[encoded data removed]",
      "text/plain": [
       "<Figure size 432x288 with 1 Axes>"
      ]
     },
     "metadata": {
      "needs_background": "light"
     },
     "output_type": "display_data"
    }
   ],
   "source": [
    "age_female = df[df.Gender == 0].NumOfProducts\n",
    "age_male = df[df.Gender == 1].NumOfProducts\n",
    "plt.xlabel('Gender')\n",
    "plt.ylabel('Customer')\n",
    "plt.title('Bank customer prediction visualization : \"No of Products user vs Gender\" ')\n",
    "plt.hist([age_male,age_female],rwidth=0.8,color=['red','blue'],label=['No.of product user=Male','No.of product user=Female'])\n",
    "plt.legend()"
   ]
  },
  {
   "cell_type": "code",
   "execution_count": 13,
   "metadata": {},
   "outputs": [
    {
     "data": {
      "text/plain": [
       "<matplotlib.legend.Legend at 0x27789f481c8>"
      ]
     },
     "execution_count": 13,
     "metadata": {},
     "output_type": "execute_result"
    },
    {
     "data": {
      "image/png": "[encoded data removed]",
      "text/plain": [
       "<Figure size 432x288 with 1 Axes>"
      ]
     },
     "metadata": {
      "needs_background": "light"
     },
     "output_type": "display_data"
    }
   ],
   "source": [
    "age_female = df[df.Gender == 0].IsActiveMember\n",
    "age_male = df[df.Gender == 1].IsActiveMember\n",
    "plt.xticks([0, 1], ['Female','Male'])\n",
    "plt.xlabel('Gender')\n",
    "plt.ylabel('Customer')\n",
    "plt.title('Bank customer prediction visualization : Active Member VS Gender')\n",
    "plt.hist([age_male,age_female],rwidth=0.8,color=['red','blue'],label=['Active Member : Male','Active Member : Female'])\n",
    "plt.legend()"
   ]
  },
  {
   "cell_type": "code",
   "execution_count": 14,
   "metadata": {},
   "outputs": [
    {
     "data": {
      "text/plain": [
       "<matplotlib.legend.Legend at 0x27789fe4748>"
      ]
     },
     "execution_count": 14,
     "metadata": {},
     "output_type": "execute_result"
    },
    {
     "data": {
      "image/png": "[encoded data removed]",
      "text/plain": [
       "<Figure size 432x288 with 1 Axes>"
      ]
     },
     "metadata": {
      "needs_background": "light"
     },
     "output_type": "display_data"
    }
   ],
   "source": [
    "Churn_no = df[df.Exited == 0].Geography\n",
    "Churn_yes = df[df.Exited == 1].Geography\n",
    "plt.xticks([0, 1,2], ['France', 'Spain', 'Germany'])\n",
    "plt.xlabel('Churn')\n",
    "plt.ylabel('Customer')\n",
    "plt.title('Bank customer prediction visualization : Churn')\n",
    "plt.hist([Churn_no,Churn_yes],rwidth=0.8,color=['Yellow','Blue'],label=['Churn = No','Churn = Yes'])\n",
    "plt.legend()"
   ]
  },
  {
   "cell_type": "code",
   "execution_count": 15,
   "metadata": {},
   "outputs": [
    {
     "data": {
      "text/html": [
       "<div>\n",
       "<style scoped>\n",
       "    .dataframe tbody tr th:only-of-type {\n",
       "        vertical-align: middle;\n",
       "    }\n",
       "\n",
       "    .dataframe tbody tr th {\n",
       "        vertical-align: top;\n",
       "    }\n",
       "\n",
       "    .dataframe thead th {\n",
       "        text-align: right;\n",
       "    }\n",
       "</style>\n",
       "<table border=\"1\" class=\"dataframe\">\n",
       "  <thead>\n",
       "    <tr style=\"text-align: right;\">\n",
       "      <th></th>\n",
       "      <th>RowNumber</th>\n",
       "      <th>CustomerId</th>\n",
       "      <th>Surname</th>\n",
       "      <th>CreditScore</th>\n",
       "      <th>Geography</th>\n",
       "      <th>Gender</th>\n",
       "      <th>Age</th>\n",
       "      <th>Tenure</th>\n",
       "      <th>Balance</th>\n",
       "      <th>NumOfProducts</th>\n",
       "      <th>HasCrCard</th>\n",
       "      <th>IsActiveMember</th>\n",
       "      <th>EstimatedSalary</th>\n",
       "      <th>Exited</th>\n",
       "    </tr>\n",
       "  </thead>\n",
       "  <tbody>\n",
       "    <tr>\n",
       "      <th>0</th>\n",
       "      <td>1</td>\n",
       "      <td>15634602</td>\n",
       "      <td>Hargrave</td>\n",
       "      <td>619</td>\n",
       "      <td>0</td>\n",
       "      <td>0</td>\n",
       "      <td>42</td>\n",
       "      <td>2</td>\n",
       "      <td>0.00</td>\n",
       "      <td>1</td>\n",
       "      <td>1</td>\n",
       "      <td>1</td>\n",
       "      <td>101348.88</td>\n",
       "      <td>1</td>\n",
       "    </tr>\n",
       "    <tr>\n",
       "      <th>1</th>\n",
       "      <td>2</td>\n",
       "      <td>15647311</td>\n",
       "      <td>Hill</td>\n",
       "      <td>608</td>\n",
       "      <td>1</td>\n",
       "      <td>0</td>\n",
       "      <td>41</td>\n",
       "      <td>1</td>\n",
       "      <td>83807.86</td>\n",
       "      <td>1</td>\n",
       "      <td>0</td>\n",
       "      <td>1</td>\n",
       "      <td>112542.58</td>\n",
       "      <td>0</td>\n",
       "    </tr>\n",
       "    <tr>\n",
       "      <th>2</th>\n",
       "      <td>3</td>\n",
       "      <td>15619304</td>\n",
       "      <td>Onio</td>\n",
       "      <td>502</td>\n",
       "      <td>0</td>\n",
       "      <td>0</td>\n",
       "      <td>42</td>\n",
       "      <td>8</td>\n",
       "      <td>159660.80</td>\n",
       "      <td>3</td>\n",
       "      <td>1</td>\n",
       "      <td>0</td>\n",
       "      <td>113931.57</td>\n",
       "      <td>1</td>\n",
       "    </tr>\n",
       "    <tr>\n",
       "      <th>3</th>\n",
       "      <td>4</td>\n",
       "      <td>15701354</td>\n",
       "      <td>Boni</td>\n",
       "      <td>699</td>\n",
       "      <td>0</td>\n",
       "      <td>0</td>\n",
       "      <td>39</td>\n",
       "      <td>1</td>\n",
       "      <td>0.00</td>\n",
       "      <td>2</td>\n",
       "      <td>0</td>\n",
       "      <td>0</td>\n",
       "      <td>93826.63</td>\n",
       "      <td>0</td>\n",
       "    </tr>\n",
       "    <tr>\n",
       "      <th>4</th>\n",
       "      <td>5</td>\n",
       "      <td>15737888</td>\n",
       "      <td>Mitchell</td>\n",
       "      <td>850</td>\n",
       "      <td>1</td>\n",
       "      <td>0</td>\n",
       "      <td>43</td>\n",
       "      <td>2</td>\n",
       "      <td>125510.82</td>\n",
       "      <td>1</td>\n",
       "      <td>1</td>\n",
       "      <td>1</td>\n",
       "      <td>79084.10</td>\n",
       "      <td>0</td>\n",
       "    </tr>\n",
       "  </tbody>\n",
       "</table>\n",
       "</div>"
      ],
      "text/plain": [
       "   RowNumber  CustomerId   Surname  CreditScore  Geography  Gender  Age  \\\n",
       "0          1    15634602  Hargrave          619          0       0   42   \n",
       "1          2    15647311      Hill          608          1       0   41   \n",
       "2          3    15619304      Onio          502          0       0   42   \n",
       "3          4    15701354      Boni          699          0       0   39   \n",
       "4          5    15737888  Mitchell          850          1       0   43   \n",
       "\n",
       "   Tenure    Balance  NumOfProducts  HasCrCard  IsActiveMember  \\\n",
       "0       2       0.00              1          1               1   \n",
       "1       1   83807.86              1          0               1   \n",
       "2       8  159660.80              3          1               0   \n",
       "3       1       0.00              2          0               0   \n",
       "4       2  125510.82              1          1               1   \n",
       "\n",
       "   EstimatedSalary  Exited  \n",
       "0        101348.88       1  \n",
       "1        112542.58       0  \n",
       "2        113931.57       1  \n",
       "3         93826.63       0  \n",
       "4         79084.10       0  "
      ]
     },
     "execution_count": 15,
     "metadata": {},
     "output_type": "execute_result"
    }
   ],
   "source": [
    "df.head()"
   ]
  },
  {
   "cell_type": "code",
   "execution_count": 16,
   "metadata": {},
   "outputs": [],
   "source": [
    "z = df[['CreditScore','Geography',\n",
    "       'Gender', 'Age', 'Tenure', 'Balance', 'NumOfProducts', 'HasCrCard',\n",
    "       'IsActiveMember', 'EstimatedSalary']]"
   ]
  },
  {
   "cell_type": "code",
   "execution_count": 17,
   "metadata": {},
   "outputs": [],
   "source": [
    "from sklearn.preprocessing import MinMaxScaler\n",
    "mms = MinMaxScaler()\n",
    "\n",
    "mms_columns = ['CreditScore', 'Age', 'Balance', 'EstimatedSalary']\n",
    "z[mms_columns] = mms.fit_transform(z[mms_columns])"
   ]
  },
  {
   "cell_type": "code",
   "execution_count": 18,
   "metadata": {},
   "outputs": [
    {
     "name": "stdout",
     "output_type": "stream",
     "text": [
      "CreditScore : [0.538 0.516 0.304 0.698 1.    0.59  0.944 0.052 0.302 0.668 0.356 0.294\n",
      " 0.252 0.398 0.57  0.532 0.606 0.474 0.752 0.764 0.572 0.32  0.638 0.992\n",
      " 0.454 0.812 0.442 0.448 0.122 0.482 0.366 0.406 0.34  0.744 0.25  0.28\n",
      " 0.908 0.464 0.244 0.23  0.412 0.968 0.62  0.852 0.958 0.574 0.4   0.696\n",
      " 0.47  0.876 0.61  0.502 0.612 0.75  0.322 0.528 0.784 0.674 0.41  0.506\n",
      " 0.802 0.462 0.77  0.622 0.65  0.776 0.926 0.614 0.508 0.338 0.628 0.656\n",
      " 0.814 0.132 0.63  0.854 0.386 0.312 0.286 0.604 0.8   0.758 0.592 0.594\n",
      " 0.916 0.348 0.838 0.76  0.33  0.846 0.928 0.72  0.126 0.546 0.64  0.544\n",
      " 0.87  0.51  0.258 0.67  0.376 0.424 0.742 0.556 0.636 0.956 0.648 0.55\n",
      " 0.164 0.84  0.816 0.89  0.672 0.878 0.478 0.222 0.468 0.458 0.626 0.664\n",
      " 0.886 0.682 0.27  0.6   0.808 0.37  0.732 0.378 0.712 0.472 0.562 0.734\n",
      " 0.9   0.666 0.708 0.53  0.634 0.268 0.26  0.456 0.324 0.512 0.494 0.856\n",
      " 0.328 0.35  0.73  0.46  0.914 0.342 0.818 0.332 0.722 0.536 0.586 0.642\n",
      " 0.678 0.54  0.652 0.444 0.69  0.484 0.434 0.688 0.394 0.488 0.646 0.52\n",
      " 0.834 0.826 0.724 0.706 0.624 0.618 0.346 0.844 0.39  0.568 0.778 0.842\n",
      " 0.662 0.388 0.692 0.832 0.754 0.686 0.414 0.362 0.296 0.602 0.882 0.766\n",
      " 0.922 0.714 0.728 0.864 0.85  0.898 0.504 0.788 0.476 0.794 0.466 0.554\n",
      " 0.762 0.558 0.176 0.584 0.912 0.248 0.418 0.158 0.66  0.798 0.768 0.588\n",
      " 0.552 0.598 0.91  0.736 0.98  0.56  0.608 0.824 0.436 0.526 0.344 0.774\n",
      " 0.596 0.186 0.58  0.38  0.22  0.486 0.902 0.522 0.904 0.79  0.266 0.68\n",
      " 0.284 0.718 0.71  0.42  0.804 0.702 0.374 0.274 0.492 0.704 0.272 0.748\n",
      " 0.396 0.228 0.88  0.368 0.796 0.288 0.48  0.236 0.318 0.936 0.932 0.372\n",
      " 0.806 0.848 0.542 0.438 0.616 0.896 0.582 0.384 0.684 0.578 0.83  0.44\n",
      " 0.576 0.498 0.564 0.858 0.354 0.428 0.966 0.308 0.984 0.316 0.134 0.496\n",
      " 0.782 0.514 0.822 0.996 0.392 0.178 0.81  0.82  0.352 0.726 0.7   0.632\n",
      " 0.432 0.29  0.676 0.524 0.254 0.154 0.978 0.938 0.74  0.218 0.306 0.548\n",
      " 0.358 0.426 0.264 0.892 0.19  0.792 0.872 0.408 0.644 0.874 0.298 0.988\n",
      " 0.2   0.93  0.976 0.906 0.772 0.566 0.5   0.658 0.334 0.884 0.786 0.276\n",
      " 0.142 0.982 0.716 0.314 0.31  0.212 0.17  0.422 0.336 0.43  0.756 0.868\n",
      " 0.404 0.518 0.828 0.694 0.746 0.402 0.188 0.738 0.292 0.382 0.96  0.924\n",
      " 0.654 0.14  0.49  0.534 0.918 0.3   0.952 0.168 0.326 0.256 0.894 0.026\n",
      " 0.098 0.226 0.86  0.204 0.45  0.974 0.888 0.948 0.156 0.946 0.862 0.998\n",
      " 0.278 0.162 0.214 0.836 0.962 0.018 0.94  0.446 0.452 0.416 0.934 0.198\n",
      " 0.18  0.13  0.942 0.36  0.    0.192 0.15  0.78  0.262 0.866 0.016 0.99\n",
      " 0.202 0.216 0.238 0.146 0.108 0.972 0.246 0.97  0.232 0.282 0.002 0.954\n",
      " 0.986 0.03  0.364 0.128 0.206 0.242 0.102 0.92  0.964 0.24  0.194 0.144\n",
      " 0.95  0.16  0.172 0.152 0.116 0.994 0.136 0.174 0.12  0.208 0.114 0.21\n",
      " 0.224 0.072 0.11  0.066 0.09  0.234 0.166 0.184 0.148 0.196 0.182 0.034\n",
      " 0.124 0.064 0.046 0.138]\n",
      "Geography : [0 1 2]\n",
      "Gender : [0 1]\n",
      "Age : [0.32432432 0.31081081 0.28378378 0.33783784 0.35135135 0.43243243\n",
      " 0.14864865 0.12162162 0.17567568 0.08108108 0.21621622 0.09459459\n",
      " 0.22972973 0.36486486 0.54054054 0.18918919 0.27027027 0.37837838\n",
      " 0.24324324 0.2027027  0.2972973  0.44594595 0.58108108 0.41891892\n",
      " 0.25675676 0.01351351 0.64864865 0.51351351 0.10810811 0.04054054\n",
      " 0.5        0.77027027 0.05405405 0.16216216 0.13513514 0.63513514\n",
      " 0.40540541 0.45945946 0.52702703 0.74324324 0.39189189 0.48648649\n",
      " 0.72972973 0.02702703 0.66216216 0.82432432 0.59459459 0.47297297\n",
      " 0.83783784 0.55405405 0.67567568 0.06756757 0.56756757 0.7027027\n",
      " 0.60810811 0.62162162 0.         0.86486486 0.68918919 0.75675676\n",
      " 0.71621622 0.78378378 0.7972973  0.94594595 0.90540541 0.89189189\n",
      " 0.81081081 0.85135135 1.         0.87837838]\n",
      "Tenure : [ 2  1  8  7  4  6  3 10  5  9  0]\n",
      "Balance : [0.         0.33403148 0.63635718 ... 0.22865702 0.29922631 0.51870777]\n",
      "NumOfProducts : [1 3 2 4]\n",
      "HasCrCard : [1 0]\n",
      "IsActiveMember : [1 0]\n",
      "EstimatedSalary : [0.50673489 0.56270874 0.56965435 ... 0.21039009 0.46442905 0.19091423]\n"
     ]
    }
   ],
   "source": [
    "def unique_identifier(df):\n",
    "    for i in df:\n",
    "        print(f'{i} : {df[i].unique()}')\n",
    "\n",
    "unique_identifier(z)"
   ]
  },
  {
   "cell_type": "code",
   "execution_count": 19,
   "metadata": {},
   "outputs": [],
   "source": [
    "y=df['Exited']"
   ]
  },
  {
   "cell_type": "code",
   "execution_count": 20,
   "metadata": {},
   "outputs": [
    {
     "data": {
      "text/plain": [
       "0    7963\n",
       "1    2037\n",
       "Name: Exited, dtype: int64"
      ]
     },
     "execution_count": 20,
     "metadata": {},
     "output_type": "execute_result"
    }
   ],
   "source": [
    "y.value_counts()"
   ]
  },
  {
   "cell_type": "code",
   "execution_count": 21,
   "metadata": {},
   "outputs": [
    {
     "name": "stdout",
     "output_type": "stream",
     "text": [
      "(7500, 10)\n",
      "(2500, 10)\n",
      "(7500,)\n",
      "(2500,)\n"
     ]
    }
   ],
   "source": [
    "from sklearn.model_selection import train_test_split\n",
    "ztrain,ztest,ytrain,ytest = train_test_split(z,y)\n",
    "print(ztrain.shape)\n",
    "print(ztest.shape)\n",
    "print(ytrain.shape)\n",
    "print(ytest.shape)"
   ]
  },
  {
   "cell_type": "code",
   "execution_count": 22,
   "metadata": {},
   "outputs": [],
   "source": [
    "import tensorflow as tf\n",
    "from tensorflow import keras\n",
    "from sklearn.metrics import classification_report, confusion_matrix"
   ]
  },
  {
   "cell_type": "code",
   "execution_count": 23,
   "metadata": {},
   "outputs": [],
   "source": [
    "ann_regular = keras.Sequential([\n",
    "    keras.layers.Dense(10, input_shape=(10,),activation='relu'),\n",
    "    keras.layers.Dense(10,activation='relu'),\n",
    "    keras.layers.Dense(1,activation='sigmoid')\n",
    "])\n",
    "ann_regular.compile(optimizer='adam',\n",
    "                   loss='binary_crossentropy',\n",
    "                   metrics=['accuracy'])"
   ]
  },
  {
   "cell_type": "code",
   "execution_count": 24,
   "metadata": {},
   "outputs": [
    {
     "name": "stdout",
     "output_type": "stream",
     "text": [
      "Epoch 1/100\n",
      "235/235 [==============================] - 1s 1ms/step - loss: 0.5232 - accuracy: 0.7914\n",
      "Epoch 2/100\n",
      "235/235 [==============================] - 0s 1ms/step - loss: 0.4821 - accuracy: 0.7987\n",
      "Epoch 3/100\n",
      "235/235 [==============================] - 0s 1ms/step - loss: 0.4612 - accuracy: 0.8047\n",
      "Epoch 4/100\n",
      "235/235 [==============================] - 0s 2ms/step - loss: 0.4497 - accuracy: 0.8069\n",
      "Epoch 5/100\n",
      "235/235 [==============================] - 0s 1ms/step - loss: 0.4394 - accuracy: 0.8111\n",
      "Epoch 6/100\n",
      "235/235 [==============================] - 0s 1ms/step - loss: 0.4366 - accuracy: 0.8091\n",
      "Epoch 7/100\n",
      "235/235 [==============================] - 0s 1ms/step - loss: 0.4150 - accuracy: 0.8179\n",
      "Epoch 8/100\n",
      "235/235 [==============================] - 0s 1ms/step - loss: 0.4131 - accuracy: 0.8217\n",
      "Epoch 9/100\n",
      "235/235 [==============================] - 0s 1ms/step - loss: 0.3963 - accuracy: 0.8294\n",
      "Epoch 10/100\n",
      "235/235 [==============================] - 0s 1ms/step - loss: 0.3966 - accuracy: 0.8298\n",
      "Epoch 11/100\n",
      "235/235 [==============================] - 0s 1ms/step - loss: 0.3790 - accuracy: 0.8401\n",
      "Epoch 12/100\n",
      "235/235 [==============================] - 0s 1ms/step - loss: 0.3784 - accuracy: 0.8388\n",
      "Epoch 13/100\n",
      "235/235 [==============================] - 0s 2ms/step - loss: 0.3755 - accuracy: 0.8382\n",
      "Epoch 14/100\n",
      "235/235 [==============================] - 0s 1ms/step - loss: 0.3714 - accuracy: 0.8414\n",
      "Epoch 15/100\n",
      "235/235 [==============================] - 0s 1ms/step - loss: 0.3754 - accuracy: 0.8380\n",
      "Epoch 16/100\n",
      "235/235 [==============================] - 0s 1ms/step - loss: 0.3612 - accuracy: 0.8500\n",
      "Epoch 17/100\n",
      "235/235 [==============================] - 0s 1ms/step - loss: 0.3663 - accuracy: 0.8404\n",
      "Epoch 18/100\n",
      "235/235 [==============================] - 0s 1ms/step - loss: 0.3486 - accuracy: 0.8509\n",
      "Epoch 19/100\n",
      "235/235 [==============================] - 0s 1ms/step - loss: 0.3772 - accuracy: 0.8384\n",
      "Epoch 20/100\n",
      "235/235 [==============================] - 0s 1ms/step - loss: 0.3702 - accuracy: 0.8425\n",
      "Epoch 21/100\n",
      "235/235 [==============================] - 0s 1ms/step - loss: 0.3614 - accuracy: 0.8486\n",
      "Epoch 22/100\n",
      "235/235 [==============================] - 0s 1ms/step - loss: 0.3694 - accuracy: 0.8439\n",
      "Epoch 23/100\n",
      "235/235 [==============================] - 0s 1ms/step - loss: 0.3557 - accuracy: 0.8500\n",
      "Epoch 24/100\n",
      "235/235 [==============================] - 0s 1ms/step - loss: 0.3593 - accuracy: 0.8427\n",
      "Epoch 25/100\n",
      "235/235 [==============================] - 0s 1ms/step - loss: 0.3644 - accuracy: 0.8416\n",
      "Epoch 26/100\n",
      "235/235 [==============================] - 0s 1ms/step - loss: 0.3595 - accuracy: 0.8363\n",
      "Epoch 27/100\n",
      "235/235 [==============================] - 0s 1ms/step - loss: 0.3600 - accuracy: 0.8454\n",
      "Epoch 28/100\n",
      "235/235 [==============================] - 0s 1ms/step - loss: 0.3538 - accuracy: 0.8467\n",
      "Epoch 29/100\n",
      "235/235 [==============================] - 0s 1ms/step - loss: 0.3666 - accuracy: 0.8400\n",
      "Epoch 30/100\n",
      "235/235 [==============================] - 0s 1ms/step - loss: 0.3572 - accuracy: 0.8433\n",
      "Epoch 31/100\n",
      "235/235 [==============================] - 0s 1ms/step - loss: 0.3505 - accuracy: 0.8510\n",
      "Epoch 32/100\n",
      "235/235 [==============================] - 0s 1ms/step - loss: 0.3565 - accuracy: 0.8464\n",
      "Epoch 33/100\n",
      "235/235 [==============================] - 0s 1ms/step - loss: 0.3607 - accuracy: 0.8454\n",
      "Epoch 34/100\n",
      "235/235 [==============================] - 0s 1ms/step - loss: 0.3459 - accuracy: 0.8534\n",
      "Epoch 35/100\n",
      "235/235 [==============================] - 0s 1ms/step - loss: 0.3543 - accuracy: 0.8464\n",
      "Epoch 36/100\n",
      "235/235 [==============================] - 0s 1ms/step - loss: 0.3463 - accuracy: 0.8534\n",
      "Epoch 37/100\n",
      "235/235 [==============================] - 0s 1ms/step - loss: 0.3544 - accuracy: 0.8491\n",
      "Epoch 38/100\n",
      "235/235 [==============================] - 0s 1ms/step - loss: 0.3525 - accuracy: 0.8511\n",
      "Epoch 39/100\n",
      "235/235 [==============================] - 0s 1ms/step - loss: 0.3544 - accuracy: 0.8466\n",
      "Epoch 40/100\n",
      "235/235 [==============================] - 0s 1ms/step - loss: 0.3567 - accuracy: 0.8472\n",
      "Epoch 41/100\n",
      "235/235 [==============================] - 0s 1ms/step - loss: 0.3499 - accuracy: 0.8496\n",
      "Epoch 42/100\n",
      "235/235 [==============================] - 0s 1ms/step - loss: 0.3584 - accuracy: 0.8463\n",
      "Epoch 43/100\n",
      "235/235 [==============================] - 0s 1ms/step - loss: 0.3544 - accuracy: 0.8513\n",
      "Epoch 44/100\n",
      "235/235 [==============================] - 0s 1ms/step - loss: 0.3388 - accuracy: 0.8570\n",
      "Epoch 45/100\n",
      "235/235 [==============================] - 0s 1ms/step - loss: 0.3521 - accuracy: 0.8462\n",
      "Epoch 46/100\n",
      "235/235 [==============================] - 0s 1ms/step - loss: 0.3552 - accuracy: 0.8554\n",
      "Epoch 47/100\n",
      "235/235 [==============================] - 0s 1ms/step - loss: 0.3455 - accuracy: 0.8554\n",
      "Epoch 48/100\n",
      "235/235 [==============================] - 0s 1ms/step - loss: 0.3469 - accuracy: 0.8591\n",
      "Epoch 49/100\n",
      "235/235 [==============================] - 0s 1ms/step - loss: 0.3511 - accuracy: 0.8533\n",
      "Epoch 50/100\n",
      "235/235 [==============================] - 0s 1ms/step - loss: 0.3527 - accuracy: 0.8534\n",
      "Epoch 51/100\n",
      "235/235 [==============================] - 0s 1ms/step - loss: 0.3473 - accuracy: 0.8574\n",
      "Epoch 52/100\n",
      "235/235 [==============================] - 0s 1ms/step - loss: 0.3499 - accuracy: 0.8561\n",
      "Epoch 53/100\n",
      "235/235 [==============================] - 0s 1ms/step - loss: 0.3430 - accuracy: 0.8552\n",
      "Epoch 54/100\n",
      "235/235 [==============================] - 0s 1ms/step - loss: 0.3511 - accuracy: 0.8546\n",
      "Epoch 55/100\n",
      "235/235 [==============================] - 0s 1ms/step - loss: 0.3417 - accuracy: 0.8593: 0s - loss: 0.3391 - accuracy\n",
      "Epoch 56/100\n",
      "235/235 [==============================] - 0s 1ms/step - loss: 0.3466 - accuracy: 0.8554\n",
      "Epoch 57/100\n",
      "235/235 [==============================] - 0s 1ms/step - loss: 0.3513 - accuracy: 0.8561\n",
      "Epoch 58/100\n",
      "235/235 [==============================] - 0s 1ms/step - loss: 0.3514 - accuracy: 0.8505\n",
      "Epoch 59/100\n",
      "235/235 [==============================] - 0s 1ms/step - loss: 0.3297 - accuracy: 0.8625\n",
      "Epoch 60/100\n",
      "235/235 [==============================] - 0s 1ms/step - loss: 0.3584 - accuracy: 0.8495\n",
      "Epoch 61/100\n",
      "235/235 [==============================] - 0s 1ms/step - loss: 0.3468 - accuracy: 0.8503\n",
      "Epoch 62/100\n",
      "235/235 [==============================] - 0s 1ms/step - loss: 0.3257 - accuracy: 0.8666: 0s - loss: 0.2940 - accu\n",
      "Epoch 63/100\n",
      "235/235 [==============================] - 0s 1ms/step - loss: 0.3381 - accuracy: 0.8599\n",
      "Epoch 64/100\n",
      "235/235 [==============================] - 0s 1ms/step - loss: 0.3413 - accuracy: 0.8548: 0s - loss: 0.3462 - accu\n",
      "Epoch 65/100\n",
      "235/235 [==============================] - 0s 1ms/step - loss: 0.3342 - accuracy: 0.8611\n",
      "Epoch 66/100\n",
      "235/235 [==============================] - 0s 1ms/step - loss: 0.3508 - accuracy: 0.8551\n",
      "Epoch 67/100\n",
      "235/235 [==============================] - 0s 1ms/step - loss: 0.3316 - accuracy: 0.8613\n",
      "Epoch 68/100\n",
      "235/235 [==============================] - 0s 1ms/step - loss: 0.3344 - accuracy: 0.8586\n",
      "Epoch 69/100\n",
      "235/235 [==============================] - 0s 1ms/step - loss: 0.3378 - accuracy: 0.8590\n",
      "Epoch 70/100\n",
      "235/235 [==============================] - 0s 1ms/step - loss: 0.3399 - accuracy: 0.8573\n",
      "Epoch 71/100\n",
      "235/235 [==============================] - 0s 1ms/step - loss: 0.3272 - accuracy: 0.8651\n",
      "Epoch 72/100\n",
      "235/235 [==============================] - 0s 1ms/step - loss: 0.3375 - accuracy: 0.8628\n",
      "Epoch 73/100\n",
      "235/235 [==============================] - 0s 1ms/step - loss: 0.3352 - accuracy: 0.8612\n",
      "Epoch 74/100\n",
      "235/235 [==============================] - 0s 1ms/step - loss: 0.3387 - accuracy: 0.8612\n",
      "Epoch 75/100\n",
      "235/235 [==============================] - 0s 1ms/step - loss: 0.3298 - accuracy: 0.8561\n",
      "Epoch 76/100\n",
      "235/235 [==============================] - 0s 1ms/step - loss: 0.3354 - accuracy: 0.8631\n",
      "Epoch 77/100\n",
      "235/235 [==============================] - 0s 1ms/step - loss: 0.3383 - accuracy: 0.8551\n",
      "Epoch 78/100\n",
      "235/235 [==============================] - 0s 1ms/step - loss: 0.3464 - accuracy: 0.8576\n",
      "Epoch 79/100\n",
      "235/235 [==============================] - 0s 1ms/step - loss: 0.3430 - accuracy: 0.8570\n",
      "Epoch 80/100\n"
     ]
    },
    {
     "name": "stdout",
     "output_type": "stream",
     "text": [
      "235/235 [==============================] - 0s 1ms/step - loss: 0.3425 - accuracy: 0.8578\n",
      "Epoch 81/100\n",
      "235/235 [==============================] - 0s 1ms/step - loss: 0.3412 - accuracy: 0.8589\n",
      "Epoch 82/100\n",
      "235/235 [==============================] - 0s 1ms/step - loss: 0.3376 - accuracy: 0.8625\n",
      "Epoch 83/100\n",
      "235/235 [==============================] - 0s 1ms/step - loss: 0.3409 - accuracy: 0.8624\n",
      "Epoch 84/100\n",
      "235/235 [==============================] - 0s 1ms/step - loss: 0.3410 - accuracy: 0.8562\n",
      "Epoch 85/100\n",
      "235/235 [==============================] - 0s 1ms/step - loss: 0.3274 - accuracy: 0.8643\n",
      "Epoch 86/100\n",
      "235/235 [==============================] - 0s 1ms/step - loss: 0.3287 - accuracy: 0.8644\n",
      "Epoch 87/100\n",
      "235/235 [==============================] - 0s 985us/step - loss: 0.3373 - accuracy: 0.8624\n",
      "Epoch 88/100\n",
      "235/235 [==============================] - 0s 1ms/step - loss: 0.3350 - accuracy: 0.8572\n",
      "Epoch 89/100\n",
      "235/235 [==============================] - 0s 2ms/step - loss: 0.3532 - accuracy: 0.8543\n",
      "Epoch 90/100\n",
      "235/235 [==============================] - 0s 2ms/step - loss: 0.3433 - accuracy: 0.8617\n",
      "Epoch 91/100\n",
      "235/235 [==============================] - 0s 1ms/step - loss: 0.3313 - accuracy: 0.8597\n",
      "Epoch 92/100\n",
      "235/235 [==============================] - 1s 2ms/step - loss: 0.3370 - accuracy: 0.8582\n",
      "Epoch 93/100\n",
      "235/235 [==============================] - 0s 2ms/step - loss: 0.3289 - accuracy: 0.8642\n",
      "Epoch 94/100\n",
      "235/235 [==============================] - 1s 2ms/step - loss: 0.3336 - accuracy: 0.8638\n",
      "Epoch 95/100\n",
      "235/235 [==============================] - 0s 2ms/step - loss: 0.3360 - accuracy: 0.8641\n",
      "Epoch 96/100\n",
      "235/235 [==============================] - 0s 2ms/step - loss: 0.3371 - accuracy: 0.8614\n",
      "Epoch 97/100\n",
      "235/235 [==============================] - 0s 2ms/step - loss: 0.3323 - accuracy: 0.8585\n",
      "Epoch 98/100\n",
      "235/235 [==============================] - 0s 2ms/step - loss: 0.3385 - accuracy: 0.8616\n",
      "Epoch 99/100\n",
      "235/235 [==============================] - 0s 2ms/step - loss: 0.3420 - accuracy: 0.8610\n",
      "Epoch 100/100\n",
      "235/235 [==============================] - 0s 2ms/step - loss: 0.3213 - accuracy: 0.8699\n"
     ]
    },
    {
     "data": {
      "text/plain": [
       "<tensorflow.python.keras.callbacks.History at 0x277925b1c48>"
      ]
     },
     "execution_count": 24,
     "metadata": {},
     "output_type": "execute_result"
    }
   ],
   "source": [
    "ann_regular.fit(ztrain,ytrain,epochs=100)"
   ]
  },
  {
   "cell_type": "code",
   "execution_count": 25,
   "metadata": {},
   "outputs": [
    {
     "name": "stdout",
     "output_type": "stream",
     "text": [
      "79/79 [==============================] - 0s 1ms/step - loss: 0.3906 - accuracy: 0.8412\n"
     ]
    },
    {
     "data": {
      "text/plain": [
       "[0.39055758714675903, 0.8411999940872192]"
      ]
     },
     "execution_count": 25,
     "metadata": {},
     "output_type": "execute_result"
    }
   ],
   "source": [
    "ann_regular.evaluate(ztest,ytest)"
   ]
  },
  {
   "cell_type": "code",
   "execution_count": 26,
   "metadata": {},
   "outputs": [],
   "source": [
    "import numpy as np\n",
    "y_pred = ann_regular.predict(ztest)\n",
    "y_pred = np.round(y_pred)"
   ]
  },
  {
   "cell_type": "code",
   "execution_count": 27,
   "metadata": {},
   "outputs": [
    {
     "name": "stdout",
     "output_type": "stream",
     "text": [
      "Classification Report: \n",
      "               precision    recall  f1-score   support\n",
      "\n",
      "           0       0.84      0.98      0.91      1950\n",
      "           1       0.81      0.37      0.50       550\n",
      "\n",
      "    accuracy                           0.84      2500\n",
      "   macro avg       0.83      0.67      0.70      2500\n",
      "weighted avg       0.84      0.84      0.82      2500\n",
      "\n"
     ]
    }
   ],
   "source": [
    "print(\"Classification Report: \\n\", classification_report(ytest, y_pred))"
   ]
  },
  {
   "cell_type": "markdown",
   "metadata": {},
   "source": [
    "### Functions for the upcoming actions"
   ]
  },
  {
   "cell_type": "code",
   "execution_count": 28,
   "metadata": {},
   "outputs": [],
   "source": [
    "def train_test(df,n):\n",
    "    \n",
    "    print('Churn value count : \\n')\n",
    "    \n",
    "    print(df['Exited'].value_counts())\n",
    "    z = df[['CreditScore','Geography',\n",
    "       'Gender', 'Age', 'Tenure', 'Balance', 'NumOfProducts', 'HasCrCard',\n",
    "       'IsActiveMember', 'EstimatedSalary']]\n",
    "    \n",
    "    mms = MinMaxScaler()\n",
    "    mms_columns = ['CreditScore', 'Age', 'Balance', 'EstimatedSalary']\n",
    "    z[mms_columns] = mms.fit_transform(z[mms_columns])\n",
    "    \n",
    "    y=df['Exited']\n",
    "    \n",
    "    from sklearn.model_selection import train_test_split\n",
    "    ztrain,ztest,ytrain,ytest = train_test_split(z,y)\n",
    "    \n",
    "    print(\"\\nShape of train test split\\n\")\n",
    "    \n",
    "    print(ztrain.shape)\n",
    "    print(ztest.shape)\n",
    "    print(ytrain.shape)\n",
    "    print(ytest.shape)\n",
    "\n",
    "    print('\\n Neural network starts\\n')\n",
    "    \n",
    "    ann_regular = keras.Sequential([\n",
    "        keras.layers.Dense(10, input_shape=(10,),activation='relu'),\n",
    "        keras.layers.Dense(10,activation='relu'),\n",
    "        keras.layers.Dense(1,activation='sigmoid')\n",
    "    ])\n",
    "    \n",
    "    ann_regular.compile(optimizer='adam',\n",
    "                   loss='binary_crossentropy',\n",
    "                   metrics=['accuracy'])\n",
    "    \n",
    "    ann_regular.fit(ztrain,ytrain,epochs=n)\n",
    "    \n",
    "    y_pred = ann_regular.predict(ztest)\n",
    "    y_pred = np.round(y_pred)\n",
    "    \n",
    "    return print(\"Classification Report: \\n\", classification_report(ytest, y_pred))"
   ]
  },
  {
   "cell_type": "markdown",
   "metadata": {},
   "source": [
    "### Imbalanced dataset : Undersampling technique"
   ]
  },
  {
   "cell_type": "code",
   "execution_count": 29,
   "metadata": {},
   "outputs": [
    {
     "data": {
      "text/plain": [
       "0    7963\n",
       "1    2037\n",
       "Name: Exited, dtype: int64"
      ]
     },
     "execution_count": 29,
     "metadata": {},
     "output_type": "execute_result"
    }
   ],
   "source": [
    "df['Exited'].value_counts()"
   ]
  },
  {
   "cell_type": "code",
   "execution_count": 30,
   "metadata": {},
   "outputs": [],
   "source": [
    "df_0_count,df_1_count = df['Exited'].value_counts()"
   ]
  },
  {
   "cell_type": "code",
   "execution_count": 31,
   "metadata": {},
   "outputs": [
    {
     "data": {
      "text/plain": [
       "(7963, 2037)"
      ]
     },
     "execution_count": 31,
     "metadata": {},
     "output_type": "execute_result"
    }
   ],
   "source": [
    "df_0_count,df_1_count"
   ]
  },
  {
   "cell_type": "code",
   "execution_count": 32,
   "metadata": {},
   "outputs": [],
   "source": [
    "df_0,df_1 = df[df['Exited'] == 0],df[df['Exited'] == 1]"
   ]
  },
  {
   "cell_type": "code",
   "execution_count": 33,
   "metadata": {},
   "outputs": [],
   "source": [
    "df_0_class = df_0.sample(df_1_count)"
   ]
  },
  {
   "cell_type": "code",
   "execution_count": 34,
   "metadata": {},
   "outputs": [
    {
     "data": {
      "text/plain": [
       "(2037, 14)"
      ]
     },
     "execution_count": 34,
     "metadata": {},
     "output_type": "execute_result"
    }
   ],
   "source": [
    "df_0_class.shape"
   ]
  },
  {
   "cell_type": "code",
   "execution_count": 35,
   "metadata": {},
   "outputs": [],
   "source": [
    "df_under = pd.concat([df_0_class,df_1],axis=0)"
   ]
  },
  {
   "cell_type": "code",
   "execution_count": 36,
   "metadata": {},
   "outputs": [
    {
     "data": {
      "text/plain": [
       "1    2037\n",
       "0    2037\n",
       "Name: Exited, dtype: int64"
      ]
     },
     "execution_count": 36,
     "metadata": {},
     "output_type": "execute_result"
    }
   ],
   "source": [
    "df_under['Exited'].value_counts()"
   ]
  },
  {
   "cell_type": "code",
   "execution_count": 37,
   "metadata": {},
   "outputs": [
    {
     "name": "stdout",
     "output_type": "stream",
     "text": [
      "Churn value count : \n",
      "\n",
      "1    2037\n",
      "0    2037\n",
      "Name: Exited, dtype: int64\n",
      "\n",
      "Shape of train test split\n",
      "\n",
      "(3055, 10)\n",
      "(1019, 10)\n",
      "(3055,)\n",
      "(1019,)\n",
      "\n",
      " Neural network starts\n",
      "\n",
      "Epoch 1/50\n",
      "96/96 [==============================] - 1s 1ms/step - loss: 0.8101 - accuracy: 0.5052\n",
      "Epoch 2/50\n",
      "96/96 [==============================] - 0s 1ms/step - loss: 0.6945 - accuracy: 0.5153\n",
      "Epoch 3/50\n",
      "96/96 [==============================] - 0s 1ms/step - loss: 0.6784 - accuracy: 0.5883\n",
      "Epoch 4/50\n",
      "96/96 [==============================] - 0s 1ms/step - loss: 0.6619 - accuracy: 0.6255\n",
      "Epoch 5/50\n",
      "96/96 [==============================] - 0s 1ms/step - loss: 0.6491 - accuracy: 0.6399\n",
      "Epoch 6/50\n",
      "96/96 [==============================] - 0s 1ms/step - loss: 0.6297 - accuracy: 0.6669\n",
      "Epoch 7/50\n",
      "96/96 [==============================] - 0s 1ms/step - loss: 0.6232 - accuracy: 0.6610\n",
      "Epoch 8/50\n",
      "96/96 [==============================] - 0s 1ms/step - loss: 0.6207 - accuracy: 0.6775\n",
      "Epoch 9/50\n",
      "96/96 [==============================] - 0s 1ms/step - loss: 0.6153 - accuracy: 0.6725\n",
      "Epoch 10/50\n",
      "96/96 [==============================] - 0s 1ms/step - loss: 0.6214 - accuracy: 0.6583\n",
      "Epoch 11/50\n",
      "96/96 [==============================] - 0s 1ms/step - loss: 0.5989 - accuracy: 0.6986\n",
      "Epoch 12/50\n",
      "96/96 [==============================] - 0s 1ms/step - loss: 0.6069 - accuracy: 0.6796\n",
      "Epoch 13/50\n",
      "96/96 [==============================] - 0s 1ms/step - loss: 0.5920 - accuracy: 0.6944\n",
      "Epoch 14/50\n",
      "96/96 [==============================] - 0s 1ms/step - loss: 0.5927 - accuracy: 0.6912\n",
      "Epoch 15/50\n",
      "96/96 [==============================] - 0s 1ms/step - loss: 0.5779 - accuracy: 0.7041\n",
      "Epoch 16/50\n",
      "96/96 [==============================] - 0s 1ms/step - loss: 0.5743 - accuracy: 0.7009\n",
      "Epoch 17/50\n",
      "96/96 [==============================] - 0s 1ms/step - loss: 0.5735 - accuracy: 0.7089: 0s - loss: 0.5738 - accuracy: 0.70\n",
      "Epoch 18/50\n",
      "96/96 [==============================] - 0s 1ms/step - loss: 0.5687 - accuracy: 0.7197\n",
      "Epoch 19/50\n",
      "96/96 [==============================] - 0s 1ms/step - loss: 0.5629 - accuracy: 0.7167\n",
      "Epoch 20/50\n",
      "96/96 [==============================] - 0s 1ms/step - loss: 0.5690 - accuracy: 0.7031\n",
      "Epoch 21/50\n",
      "96/96 [==============================] - 0s 1ms/step - loss: 0.5542 - accuracy: 0.7280\n",
      "Epoch 22/50\n",
      "96/96 [==============================] - 0s 1ms/step - loss: 0.5558 - accuracy: 0.7212\n",
      "Epoch 23/50\n",
      "96/96 [==============================] - 0s 1ms/step - loss: 0.5583 - accuracy: 0.7206\n",
      "Epoch 24/50\n",
      "96/96 [==============================] - 0s 1ms/step - loss: 0.5402 - accuracy: 0.7291\n",
      "Epoch 25/50\n",
      "96/96 [==============================] - 0s 1ms/step - loss: 0.5367 - accuracy: 0.7467\n",
      "Epoch 26/50\n",
      "96/96 [==============================] - 0s 1ms/step - loss: 0.5170 - accuracy: 0.7495\n",
      "Epoch 27/50\n",
      "96/96 [==============================] - 0s 1ms/step - loss: 0.5277 - accuracy: 0.7414\n",
      "Epoch 28/50\n",
      "96/96 [==============================] - 0s 1ms/step - loss: 0.5259 - accuracy: 0.7440\n",
      "Epoch 29/50\n",
      "96/96 [==============================] - 0s 1ms/step - loss: 0.5239 - accuracy: 0.7501\n",
      "Epoch 30/50\n",
      "96/96 [==============================] - 0s 1ms/step - loss: 0.5257 - accuracy: 0.7460\n",
      "Epoch 31/50\n",
      "96/96 [==============================] - 0s 1ms/step - loss: 0.5133 - accuracy: 0.7511\n",
      "Epoch 32/50\n",
      "96/96 [==============================] - 0s 1ms/step - loss: 0.5255 - accuracy: 0.7633\n",
      "Epoch 33/50\n",
      "96/96 [==============================] - 0s 1ms/step - loss: 0.5165 - accuracy: 0.7512\n",
      "Epoch 34/50\n",
      "96/96 [==============================] - 0s 1ms/step - loss: 0.5206 - accuracy: 0.7487\n",
      "Epoch 35/50\n",
      "96/96 [==============================] - 0s 1ms/step - loss: 0.5123 - accuracy: 0.7596\n",
      "Epoch 36/50\n",
      "96/96 [==============================] - 0s 1ms/step - loss: 0.5047 - accuracy: 0.7661\n",
      "Epoch 37/50\n",
      "96/96 [==============================] - 0s 1ms/step - loss: 0.4932 - accuracy: 0.7736\n",
      "Epoch 38/50\n",
      "96/96 [==============================] - 0s 1ms/step - loss: 0.4986 - accuracy: 0.7684\n",
      "Epoch 39/50\n",
      "96/96 [==============================] - 0s 1ms/step - loss: 0.4996 - accuracy: 0.7664\n",
      "Epoch 40/50\n",
      "96/96 [==============================] - 0s 1ms/step - loss: 0.5017 - accuracy: 0.7631\n",
      "Epoch 41/50\n",
      "96/96 [==============================] - 0s 1ms/step - loss: 0.5030 - accuracy: 0.7610\n",
      "Epoch 42/50\n",
      "96/96 [==============================] - 0s 1ms/step - loss: 0.4882 - accuracy: 0.7739\n",
      "Epoch 43/50\n",
      "96/96 [==============================] - 0s 1ms/step - loss: 0.4901 - accuracy: 0.7677\n",
      "Epoch 44/50\n",
      "96/96 [==============================] - 0s 1ms/step - loss: 0.4951 - accuracy: 0.7717\n",
      "Epoch 45/50\n",
      "96/96 [==============================] - 0s 1ms/step - loss: 0.4973 - accuracy: 0.7631\n",
      "Epoch 46/50\n",
      "96/96 [==============================] - 0s 1ms/step - loss: 0.4887 - accuracy: 0.7736\n",
      "Epoch 47/50\n",
      "96/96 [==============================] - 0s 1ms/step - loss: 0.4939 - accuracy: 0.7659\n",
      "Epoch 48/50\n",
      "96/96 [==============================] - 0s 1ms/step - loss: 0.4744 - accuracy: 0.7760\n",
      "Epoch 49/50\n",
      "96/96 [==============================] - 0s 1ms/step - loss: 0.5012 - accuracy: 0.7594\n",
      "Epoch 50/50\n",
      "96/96 [==============================] - 0s 1ms/step - loss: 0.4782 - accuracy: 0.7801\n",
      "Classification Report: \n",
      "               precision    recall  f1-score   support\n",
      "\n",
      "           0       0.70      0.80      0.74       493\n",
      "           1       0.78      0.67      0.72       526\n",
      "\n",
      "    accuracy                           0.73      1019\n",
      "   macro avg       0.74      0.74      0.73      1019\n",
      "weighted avg       0.74      0.73      0.73      1019\n",
      "\n"
     ]
    }
   ],
   "source": [
    "train_test(df_under,50)"
   ]
  },
  {
   "cell_type": "markdown",
   "metadata": {},
   "source": [
    "### Imbalanced dataset : Oversampling technique"
   ]
  },
  {
   "cell_type": "code",
   "execution_count": 38,
   "metadata": {},
   "outputs": [
    {
     "data": {
      "text/plain": [
       "(7963, 2037)"
      ]
     },
     "execution_count": 38,
     "metadata": {},
     "output_type": "execute_result"
    }
   ],
   "source": [
    "df_0_count,df_1_count = df['Exited'].value_counts()\n",
    "df_0_count,df_1_count"
   ]
  },
  {
   "cell_type": "code",
   "execution_count": 39,
   "metadata": {},
   "outputs": [],
   "source": [
    "df_0,df_1 = df[df['Exited']==0],df[df['Exited']==1]"
   ]
  },
  {
   "cell_type": "code",
   "execution_count": 40,
   "metadata": {},
   "outputs": [
    {
     "data": {
      "text/plain": [
       "1    7963\n",
       "0    7963\n",
       "Name: Exited, dtype: int64"
      ]
     },
     "execution_count": 40,
     "metadata": {},
     "output_type": "execute_result"
    }
   ],
   "source": [
    "df_1_class_over = df_1.sample(df_0_count,replace=True)\n",
    "df_over = pd.concat([df_0,df_1_class_over],axis=0)\n",
    "df_over['Exited'].value_counts()"
   ]
  },
  {
   "cell_type": "code",
   "execution_count": 41,
   "metadata": {},
   "outputs": [
    {
     "name": "stdout",
     "output_type": "stream",
     "text": [
      "Churn value count : \n",
      "\n",
      "1    7963\n",
      "0    7963\n",
      "Name: Exited, dtype: int64\n",
      "\n",
      "Shape of train test split\n",
      "\n",
      "(11944, 10)\n",
      "(3982, 10)\n",
      "(11944,)\n",
      "(3982,)\n",
      "\n",
      " Neural network starts\n",
      "\n",
      "Epoch 1/50\n",
      "374/374 [==============================] - 1s 1ms/step - loss: 0.6656 - accuracy: 0.5993\n",
      "Epoch 2/50\n",
      "374/374 [==============================] - 0s 1ms/step - loss: 0.6307 - accuracy: 0.6503\n",
      "Epoch 3/50\n",
      "374/374 [==============================] - 0s 1ms/step - loss: 0.6180 - accuracy: 0.6605\n",
      "Epoch 4/50\n",
      "374/374 [==============================] - 0s 1ms/step - loss: 0.6065 - accuracy: 0.6715\n",
      "Epoch 5/50\n",
      "374/374 [==============================] - 0s 1ms/step - loss: 0.5972 - accuracy: 0.6758\n",
      "Epoch 6/50\n",
      "374/374 [==============================] - 0s 1ms/step - loss: 0.5919 - accuracy: 0.6839\n",
      "Epoch 7/50\n",
      "374/374 [==============================] - 0s 1ms/step - loss: 0.5838 - accuracy: 0.6955\n",
      "Epoch 8/50\n",
      "374/374 [==============================] - 0s 1ms/step - loss: 0.5770 - accuracy: 0.6983\n",
      "Epoch 9/50\n",
      "374/374 [==============================] - 0s 1ms/step - loss: 0.5784 - accuracy: 0.6967\n",
      "Epoch 10/50\n",
      "374/374 [==============================] - 0s 1ms/step - loss: 0.5784 - accuracy: 0.7073\n",
      "Epoch 11/50\n",
      "374/374 [==============================] - 0s 1ms/step - loss: 0.5777 - accuracy: 0.7008\n",
      "Epoch 12/50\n",
      "374/374 [==============================] - 0s 1ms/step - loss: 0.5691 - accuracy: 0.7132\n",
      "Epoch 13/50\n",
      "374/374 [==============================] - 0s 1ms/step - loss: 0.5558 - accuracy: 0.7167\n",
      "Epoch 14/50\n",
      "374/374 [==============================] - 0s 1ms/step - loss: 0.5617 - accuracy: 0.7205\n",
      "Epoch 15/50\n",
      "374/374 [==============================] - 0s 1ms/step - loss: 0.5559 - accuracy: 0.7242\n",
      "Epoch 16/50\n",
      "374/374 [==============================] - 0s 1ms/step - loss: 0.5553 - accuracy: 0.7272\n",
      "Epoch 17/50\n",
      "374/374 [==============================] - 0s 1ms/step - loss: 0.5367 - accuracy: 0.7424\n",
      "Epoch 18/50\n",
      "374/374 [==============================] - 0s 1ms/step - loss: 0.5410 - accuracy: 0.7355\n",
      "Epoch 19/50\n",
      "374/374 [==============================] - 0s 1ms/step - loss: 0.5383 - accuracy: 0.7347\n",
      "Epoch 20/50\n",
      "374/374 [==============================] - 0s 1ms/step - loss: 0.5286 - accuracy: 0.7467\n",
      "Epoch 21/50\n",
      "374/374 [==============================] - 0s 1ms/step - loss: 0.5280 - accuracy: 0.7461\n",
      "Epoch 22/50\n",
      "374/374 [==============================] - 0s 1ms/step - loss: 0.5226 - accuracy: 0.7556\n",
      "Epoch 23/50\n",
      "374/374 [==============================] - 0s 1ms/step - loss: 0.5186 - accuracy: 0.7528\n",
      "Epoch 24/50\n",
      "374/374 [==============================] - 0s 1ms/step - loss: 0.5176 - accuracy: 0.7477\n",
      "Epoch 25/50\n",
      "374/374 [==============================] - 0s 1ms/step - loss: 0.5215 - accuracy: 0.7519\n",
      "Epoch 26/50\n",
      "374/374 [==============================] - 0s 1ms/step - loss: 0.5198 - accuracy: 0.7513\n",
      "Epoch 27/50\n",
      "374/374 [==============================] - 0s 1ms/step - loss: 0.5026 - accuracy: 0.7668\n",
      "Epoch 28/50\n",
      "374/374 [==============================] - 0s 1ms/step - loss: 0.5039 - accuracy: 0.7623\n",
      "Epoch 29/50\n",
      "374/374 [==============================] - 0s 1ms/step - loss: 0.5080 - accuracy: 0.7607\n",
      "Epoch 30/50\n",
      "374/374 [==============================] - 1s 1ms/step - loss: 0.5104 - accuracy: 0.7555\n",
      "Epoch 31/50\n",
      "374/374 [==============================] - 1s 1ms/step - loss: 0.5011 - accuracy: 0.7617\n",
      "Epoch 32/50\n",
      "374/374 [==============================] - 0s 1ms/step - loss: 0.5014 - accuracy: 0.7555\n",
      "Epoch 33/50\n",
      "374/374 [==============================] - 0s 1ms/step - loss: 0.4912 - accuracy: 0.7677\n",
      "Epoch 34/50\n",
      "374/374 [==============================] - 0s 1ms/step - loss: 0.5034 - accuracy: 0.7570\n",
      "Epoch 35/50\n",
      "374/374 [==============================] - 0s 1ms/step - loss: 0.4963 - accuracy: 0.7627\n",
      "Epoch 36/50\n",
      "374/374 [==============================] - 0s 1ms/step - loss: 0.4955 - accuracy: 0.7604\n",
      "Epoch 37/50\n",
      "374/374 [==============================] - 0s 1ms/step - loss: 0.5057 - accuracy: 0.7558\n",
      "Epoch 38/50\n",
      "374/374 [==============================] - 0s 1ms/step - loss: 0.4935 - accuracy: 0.7648\n",
      "Epoch 39/50\n",
      "374/374 [==============================] - 0s 1ms/step - loss: 0.4900 - accuracy: 0.7666\n",
      "Epoch 40/50\n",
      "374/374 [==============================] - 0s 1ms/step - loss: 0.4887 - accuracy: 0.7667\n",
      "Epoch 41/50\n",
      "374/374 [==============================] - 0s 1ms/step - loss: 0.4850 - accuracy: 0.7699\n",
      "Epoch 42/50\n",
      "374/374 [==============================] - 0s 1ms/step - loss: 0.4888 - accuracy: 0.7672\n",
      "Epoch 43/50\n",
      "374/374 [==============================] - 0s 1ms/step - loss: 0.4866 - accuracy: 0.7710\n",
      "Epoch 44/50\n",
      "374/374 [==============================] - 0s 1ms/step - loss: 0.4853 - accuracy: 0.7659\n",
      "Epoch 45/50\n",
      "374/374 [==============================] - 0s 1ms/step - loss: 0.4864 - accuracy: 0.7644\n",
      "Epoch 46/50\n",
      "374/374 [==============================] - 0s 1ms/step - loss: 0.4904 - accuracy: 0.7648\n",
      "Epoch 47/50\n",
      "374/374 [==============================] - 0s 1ms/step - loss: 0.4815 - accuracy: 0.7665\n",
      "Epoch 48/50\n",
      "374/374 [==============================] - 0s 1ms/step - loss: 0.4824 - accuracy: 0.7692\n",
      "Epoch 49/50\n",
      "374/374 [==============================] - 0s 1ms/step - loss: 0.4848 - accuracy: 0.7708\n",
      "Epoch 50/50\n",
      "374/374 [==============================] - 0s 1ms/step - loss: 0.4832 - accuracy: 0.7707\n",
      "Classification Report: \n",
      "               precision    recall  f1-score   support\n",
      "\n",
      "           0       0.75      0.77      0.76      1954\n",
      "           1       0.77      0.75      0.76      2028\n",
      "\n",
      "    accuracy                           0.76      3982\n",
      "   macro avg       0.76      0.76      0.76      3982\n",
      "weighted avg       0.76      0.76      0.76      3982\n",
      "\n"
     ]
    }
   ],
   "source": [
    "train_test(df_over,50)"
   ]
  },
  {
   "cell_type": "markdown",
   "metadata": {},
   "source": [
    "### Imbalanced Dataset Method : SMOTE "
   ]
  },
  {
   "cell_type": "code",
   "execution_count": 42,
   "metadata": {},
   "outputs": [],
   "source": [
    "z = df[['CreditScore','Geography',\n",
    "       'Gender', 'Age', 'Tenure', 'Balance', 'NumOfProducts', 'HasCrCard',\n",
    "       'IsActiveMember', 'EstimatedSalary']]\n",
    "    \n",
    "mms = MinMaxScaler()\n",
    "mms_columns = ['CreditScore', 'Age', 'Balance', 'EstimatedSalary']\n",
    "z[mms_columns] = mms.fit_transform(z[mms_columns])\n",
    "    \n",
    "y=df['Exited']"
   ]
  },
  {
   "cell_type": "code",
   "execution_count": 43,
   "metadata": {},
   "outputs": [
    {
     "data": {
      "text/plain": [
       "1    7963\n",
       "0    7963\n",
       "Name: Exited, dtype: int64"
      ]
     },
     "execution_count": 43,
     "metadata": {},
     "output_type": "execute_result"
    }
   ],
   "source": [
    "from imblearn.over_sampling import SMOTE\n",
    "\n",
    "smote = SMOTE(sampling_strategy='minority')\n",
    "z_sm, y_sm = smote.fit_sample(z,y)\n",
    "\n",
    "y_sm.value_counts()"
   ]
  },
  {
   "cell_type": "code",
   "execution_count": 44,
   "metadata": {
    "scrolled": true
   },
   "outputs": [
    {
     "name": "stdout",
     "output_type": "stream",
     "text": [
      "\n",
      "Shape of train test split\n",
      "\n",
      "(11944, 10)\n",
      "(3982, 10)\n",
      "(11944,)\n",
      "(3982,)\n",
      "\n",
      " Neural network starts\n",
      "\n",
      "Epoch 1/50\n",
      "374/374 [==============================] - 1s 1ms/step - loss: 0.6763 - accuracy: 0.5665\n",
      "Epoch 2/50\n",
      "374/374 [==============================] - 0s 1ms/step - loss: 0.6094 - accuracy: 0.6685\n",
      "Epoch 3/50\n",
      "374/374 [==============================] - 0s 1ms/step - loss: 0.5777 - accuracy: 0.7035\n",
      "Epoch 4/50\n",
      "374/374 [==============================] - 0s 1ms/step - loss: 0.5464 - accuracy: 0.7311\n",
      "Epoch 5/50\n",
      "374/374 [==============================] - 0s 1ms/step - loss: 0.5471 - accuracy: 0.7238\n",
      "Epoch 6/50\n",
      "374/374 [==============================] - 0s 1ms/step - loss: 0.5265 - accuracy: 0.7414\n",
      "Epoch 7/50\n",
      "374/374 [==============================] - 0s 1ms/step - loss: 0.5153 - accuracy: 0.7555\n",
      "Epoch 8/50\n",
      "374/374 [==============================] - 0s 1ms/step - loss: 0.5058 - accuracy: 0.7596\n",
      "Epoch 9/50\n",
      "374/374 [==============================] - 0s 1ms/step - loss: 0.5046 - accuracy: 0.7576\n",
      "Epoch 10/50\n",
      "374/374 [==============================] - 0s 1ms/step - loss: 0.4923 - accuracy: 0.7640\n",
      "Epoch 11/50\n",
      "374/374 [==============================] - 0s 1ms/step - loss: 0.4880 - accuracy: 0.7671\n",
      "Epoch 12/50\n",
      "374/374 [==============================] - 0s 1ms/step - loss: 0.4782 - accuracy: 0.7727\n",
      "Epoch 13/50\n",
      "374/374 [==============================] - 0s 1ms/step - loss: 0.4770 - accuracy: 0.7713\n",
      "Epoch 14/50\n",
      "374/374 [==============================] - 0s 1ms/step - loss: 0.4746 - accuracy: 0.7713\n",
      "Epoch 15/50\n",
      "374/374 [==============================] - 0s 1ms/step - loss: 0.4741 - accuracy: 0.7729\n",
      "Epoch 16/50\n",
      "374/374 [==============================] - 0s 1ms/step - loss: 0.4679 - accuracy: 0.7752\n",
      "Epoch 17/50\n",
      "374/374 [==============================] - 0s 1ms/step - loss: 0.4731 - accuracy: 0.7693\n",
      "Epoch 18/50\n",
      "374/374 [==============================] - 0s 1ms/step - loss: 0.4712 - accuracy: 0.7730\n",
      "Epoch 19/50\n",
      "374/374 [==============================] - 0s 1ms/step - loss: 0.4687 - accuracy: 0.7780\n",
      "Epoch 20/50\n",
      "374/374 [==============================] - 0s 1ms/step - loss: 0.4604 - accuracy: 0.7764\n",
      "Epoch 21/50\n",
      "374/374 [==============================] - 0s 1ms/step - loss: 0.4672 - accuracy: 0.7731\n",
      "Epoch 22/50\n",
      "374/374 [==============================] - 1s 1ms/step - loss: 0.4597 - accuracy: 0.7799\n",
      "Epoch 23/50\n",
      "374/374 [==============================] - 0s 1ms/step - loss: 0.4560 - accuracy: 0.7828\n",
      "Epoch 24/50\n",
      "374/374 [==============================] - 0s 1ms/step - loss: 0.4599 - accuracy: 0.7736\n",
      "Epoch 25/50\n",
      "374/374 [==============================] - 0s 1ms/step - loss: 0.4664 - accuracy: 0.7761\n",
      "Epoch 26/50\n",
      "374/374 [==============================] - 0s 1ms/step - loss: 0.4564 - accuracy: 0.7781\n",
      "Epoch 27/50\n",
      "374/374 [==============================] - 0s 1ms/step - loss: 0.4475 - accuracy: 0.7867\n",
      "Epoch 28/50\n",
      "374/374 [==============================] - 0s 1ms/step - loss: 0.4460 - accuracy: 0.7812\n",
      "Epoch 29/50\n",
      "374/374 [==============================] - 0s 1ms/step - loss: 0.4486 - accuracy: 0.7844\n",
      "Epoch 30/50\n",
      "374/374 [==============================] - 0s 1ms/step - loss: 0.4604 - accuracy: 0.7740\n",
      "Epoch 31/50\n",
      "374/374 [==============================] - 0s 1ms/step - loss: 0.4573 - accuracy: 0.7762\n",
      "Epoch 32/50\n",
      "374/374 [==============================] - 0s 1ms/step - loss: 0.4491 - accuracy: 0.7844\n",
      "Epoch 33/50\n",
      "374/374 [==============================] - 0s 1ms/step - loss: 0.4455 - accuracy: 0.7910\n",
      "Epoch 34/50\n",
      "374/374 [==============================] - 0s 1ms/step - loss: 0.4504 - accuracy: 0.7795\n",
      "Epoch 35/50\n",
      "374/374 [==============================] - 0s 1ms/step - loss: 0.4528 - accuracy: 0.7827\n",
      "Epoch 36/50\n",
      "374/374 [==============================] - 0s 1ms/step - loss: 0.4503 - accuracy: 0.7819\n",
      "Epoch 37/50\n",
      "374/374 [==============================] - 0s 1ms/step - loss: 0.4478 - accuracy: 0.7843\n",
      "Epoch 38/50\n",
      "374/374 [==============================] - 0s 1ms/step - loss: 0.4466 - accuracy: 0.7878\n",
      "Epoch 39/50\n",
      "374/374 [==============================] - 0s 1ms/step - loss: 0.4439 - accuracy: 0.7865\n",
      "Epoch 40/50\n",
      "374/374 [==============================] - 0s 1ms/step - loss: 0.4453 - accuracy: 0.7874\n",
      "Epoch 41/50\n",
      "374/374 [==============================] - 0s 1ms/step - loss: 0.4488 - accuracy: 0.7848\n",
      "Epoch 42/50\n",
      "374/374 [==============================] - 0s 1ms/step - loss: 0.4434 - accuracy: 0.7879\n",
      "Epoch 43/50\n",
      "374/374 [==============================] - 0s 1ms/step - loss: 0.4404 - accuracy: 0.7923\n",
      "Epoch 44/50\n",
      "374/374 [==============================] - 0s 1ms/step - loss: 0.4374 - accuracy: 0.7947\n",
      "Epoch 45/50\n",
      "374/374 [==============================] - 0s 1ms/step - loss: 0.4410 - accuracy: 0.7850\n",
      "Epoch 46/50\n",
      "374/374 [==============================] - 0s 1ms/step - loss: 0.4526 - accuracy: 0.7865\n",
      "Epoch 47/50\n",
      "374/374 [==============================] - 0s 1ms/step - loss: 0.4460 - accuracy: 0.7870\n",
      "Epoch 48/50\n",
      "374/374 [==============================] - 0s 1ms/step - loss: 0.4376 - accuracy: 0.7911\n",
      "Epoch 49/50\n",
      "374/374 [==============================] - 0s 1ms/step - loss: 0.4397 - accuracy: 0.7905\n",
      "Epoch 50/50\n",
      "374/374 [==============================] - 0s 1ms/step - loss: 0.4389 - accuracy: 0.7894\n"
     ]
    },
    {
     "data": {
      "text/plain": [
       "<tensorflow.python.keras.callbacks.History at 0x27794f6f988>"
      ]
     },
     "execution_count": 44,
     "metadata": {},
     "output_type": "execute_result"
    }
   ],
   "source": [
    "from sklearn.model_selection import train_test_split\n",
    "ztrain1,ztest1,ytrain1,ytest1 = train_test_split(z_sm, y_sm)\n",
    "print(\"\\nShape of train test split\\n\")\n",
    "\n",
    "print(ztrain1.shape)\n",
    "print(ztest1.shape)\n",
    "print(ytrain1.shape)\n",
    "print(ytest1.shape)\n",
    "\n",
    "print('\\n Neural network starts\\n')\n",
    "\n",
    "ann_regular = keras.Sequential([\n",
    "keras.layers.Dense(10, input_shape=(10,),activation='relu'),\n",
    "keras.layers.Dense(10,activation='relu'),\n",
    "keras.layers.Dense(1,activation='sigmoid')\n",
    "])\n",
    "\n",
    "ann_regular.compile(optimizer='adam',\n",
    "loss='binary_crossentropy',\n",
    "metrics=['accuracy'])\n",
    "\n",
    "ann_regular.fit(ztrain1,ytrain1,epochs=50)"
   ]
  },
  {
   "cell_type": "code",
   "execution_count": 45,
   "metadata": {},
   "outputs": [
    {
     "name": "stdout",
     "output_type": "stream",
     "text": [
      "Classification Report: \n",
      "               precision    recall  f1-score   support\n",
      "\n",
      "           0       0.82      0.70      0.76      1980\n",
      "           1       0.74      0.85      0.79      2002\n",
      "\n",
      "    accuracy                           0.78      3982\n",
      "   macro avg       0.78      0.78      0.78      3982\n",
      "weighted avg       0.78      0.78      0.78      3982\n",
      "\n"
     ]
    }
   ],
   "source": [
    "y_pred1 = ann_regular.predict(ztest1)\n",
    "y_pred1 = np.round(y_pred1)\n",
    "\n",
    "print(\"Classification Report: \\n\", classification_report(ytest1, y_pred1))"
   ]
  },
  {
   "cell_type": "markdown",
   "metadata": {},
   "source": [
    "### Imbalanced dataset - Ensemble method"
   ]
  },
  {
   "cell_type": "code",
   "execution_count": 46,
   "metadata": {},
   "outputs": [
    {
     "data": {
      "text/plain": [
       "0    7963\n",
       "1    2037\n",
       "Name: Exited, dtype: int64"
      ]
     },
     "execution_count": 46,
     "metadata": {},
     "output_type": "execute_result"
    }
   ],
   "source": [
    "df.Exited.value_counts()"
   ]
  },
  {
   "cell_type": "code",
   "execution_count": 47,
   "metadata": {},
   "outputs": [],
   "source": [
    "z2 = df[['CreditScore','Geography',\n",
    "       'Gender', 'Age', 'Tenure', 'Balance', 'NumOfProducts', 'HasCrCard',\n",
    "       'IsActiveMember', 'EstimatedSalary']]\n",
    "    \n",
    "mms = MinMaxScaler()\n",
    "mms_columns = ['CreditScore', 'Age', 'Balance', 'EstimatedSalary']\n",
    "z2[mms_columns] = mms.fit_transform(z2[mms_columns])\n",
    "    \n",
    "y2=df['Exited']"
   ]
  },
  {
   "cell_type": "code",
   "execution_count": 48,
   "metadata": {},
   "outputs": [],
   "source": [
    "ztrain2,ztest2,ytrain2,ytest2 = train_test_split(z2,y2)"
   ]
  },
  {
   "cell_type": "code",
   "execution_count": 49,
   "metadata": {},
   "outputs": [
    {
     "name": "stdout",
     "output_type": "stream",
     "text": [
      "(7500, 10)\n",
      "(2500, 10)\n",
      "(7500,)\n",
      "(2500,)\n"
     ]
    }
   ],
   "source": [
    "print(ztrain2.shape)\n",
    "print(ztest2.shape)\n",
    "print(ytrain2.shape)\n",
    "print(ytest2.shape)"
   ]
  },
  {
   "cell_type": "code",
   "execution_count": 50,
   "metadata": {},
   "outputs": [
    {
     "data": {
      "text/plain": [
       "0    5951\n",
       "1    1549\n",
       "Name: Exited, dtype: int64"
      ]
     },
     "execution_count": 50,
     "metadata": {},
     "output_type": "execute_result"
    }
   ],
   "source": [
    "ytrain2.value_counts()"
   ]
  },
  {
   "cell_type": "code",
   "execution_count": 51,
   "metadata": {},
   "outputs": [
    {
     "data": {
      "text/plain": [
       "4554"
      ]
     },
     "execution_count": 51,
     "metadata": {},
     "output_type": "execute_result"
    }
   ],
   "source": [
    "1518*3"
   ]
  },
  {
   "cell_type": "code",
   "execution_count": 52,
   "metadata": {},
   "outputs": [
    {
     "data": {
      "text/plain": [
       "1994.0"
      ]
     },
     "execution_count": 52,
     "metadata": {},
     "output_type": "execute_result"
    }
   ],
   "source": [
    "5982/3"
   ]
  },
  {
   "cell_type": "code",
   "execution_count": 53,
   "metadata": {},
   "outputs": [
    {
     "data": {
      "text/html": [
       "<div>\n",
       "<style scoped>\n",
       "    .dataframe tbody tr th:only-of-type {\n",
       "        vertical-align: middle;\n",
       "    }\n",
       "\n",
       "    .dataframe tbody tr th {\n",
       "        vertical-align: top;\n",
       "    }\n",
       "\n",
       "    .dataframe thead th {\n",
       "        text-align: right;\n",
       "    }\n",
       "</style>\n",
       "<table border=\"1\" class=\"dataframe\">\n",
       "  <thead>\n",
       "    <tr style=\"text-align: right;\">\n",
       "      <th></th>\n",
       "      <th>CreditScore</th>\n",
       "      <th>Geography</th>\n",
       "      <th>Gender</th>\n",
       "      <th>Age</th>\n",
       "      <th>Tenure</th>\n",
       "      <th>Balance</th>\n",
       "      <th>NumOfProducts</th>\n",
       "      <th>HasCrCard</th>\n",
       "      <th>IsActiveMember</th>\n",
       "      <th>EstimatedSalary</th>\n",
       "    </tr>\n",
       "  </thead>\n",
       "  <tbody>\n",
       "    <tr>\n",
       "      <th>1562</th>\n",
       "      <td>0.688</td>\n",
       "      <td>2</td>\n",
       "      <td>1</td>\n",
       "      <td>0.175676</td>\n",
       "      <td>6</td>\n",
       "      <td>0.434649</td>\n",
       "      <td>2</td>\n",
       "      <td>1</td>\n",
       "      <td>1</td>\n",
       "      <td>0.097196</td>\n",
       "    </tr>\n",
       "    <tr>\n",
       "      <th>2861</th>\n",
       "      <td>0.350</td>\n",
       "      <td>0</td>\n",
       "      <td>0</td>\n",
       "      <td>0.094595</td>\n",
       "      <td>6</td>\n",
       "      <td>0.000000</td>\n",
       "      <td>2</td>\n",
       "      <td>1</td>\n",
       "      <td>0</td>\n",
       "      <td>0.447818</td>\n",
       "    </tr>\n",
       "    <tr>\n",
       "      <th>4059</th>\n",
       "      <td>0.652</td>\n",
       "      <td>0</td>\n",
       "      <td>1</td>\n",
       "      <td>0.256757</td>\n",
       "      <td>10</td>\n",
       "      <td>0.423449</td>\n",
       "      <td>1</td>\n",
       "      <td>1</td>\n",
       "      <td>1</td>\n",
       "      <td>0.833413</td>\n",
       "    </tr>\n",
       "    <tr>\n",
       "      <th>5579</th>\n",
       "      <td>0.672</td>\n",
       "      <td>1</td>\n",
       "      <td>1</td>\n",
       "      <td>0.054054</td>\n",
       "      <td>8</td>\n",
       "      <td>0.000000</td>\n",
       "      <td>2</td>\n",
       "      <td>0</td>\n",
       "      <td>0</td>\n",
       "      <td>0.711669</td>\n",
       "    </tr>\n",
       "    <tr>\n",
       "      <th>6622</th>\n",
       "      <td>0.418</td>\n",
       "      <td>0</td>\n",
       "      <td>0</td>\n",
       "      <td>0.337838</td>\n",
       "      <td>1</td>\n",
       "      <td>0.000000</td>\n",
       "      <td>1</td>\n",
       "      <td>0</td>\n",
       "      <td>1</td>\n",
       "      <td>0.433155</td>\n",
       "    </tr>\n",
       "  </tbody>\n",
       "</table>\n",
       "</div>"
      ],
      "text/plain": [
       "      CreditScore  Geography  Gender       Age  Tenure   Balance  \\\n",
       "1562        0.688          2       1  0.175676       6  0.434649   \n",
       "2861        0.350          0       0  0.094595       6  0.000000   \n",
       "4059        0.652          0       1  0.256757      10  0.423449   \n",
       "5579        0.672          1       1  0.054054       8  0.000000   \n",
       "6622        0.418          0       0  0.337838       1  0.000000   \n",
       "\n",
       "      NumOfProducts  HasCrCard  IsActiveMember  EstimatedSalary  \n",
       "1562              2          1               1         0.097196  \n",
       "2861              2          1               0         0.447818  \n",
       "4059              1          1               1         0.833413  \n",
       "5579              2          0               0         0.711669  \n",
       "6622              1          0               1         0.433155  "
      ]
     },
     "execution_count": 53,
     "metadata": {},
     "output_type": "execute_result"
    }
   ],
   "source": [
    "df3 = ztrain.copy()\n",
    "df3.head()"
   ]
  },
  {
   "cell_type": "code",
   "execution_count": 54,
   "metadata": {},
   "outputs": [
    {
     "data": {
      "text/html": [
       "<div>\n",
       "<style scoped>\n",
       "    .dataframe tbody tr th:only-of-type {\n",
       "        vertical-align: middle;\n",
       "    }\n",
       "\n",
       "    .dataframe tbody tr th {\n",
       "        vertical-align: top;\n",
       "    }\n",
       "\n",
       "    .dataframe thead th {\n",
       "        text-align: right;\n",
       "    }\n",
       "</style>\n",
       "<table border=\"1\" class=\"dataframe\">\n",
       "  <thead>\n",
       "    <tr style=\"text-align: right;\">\n",
       "      <th></th>\n",
       "      <th>CreditScore</th>\n",
       "      <th>Geography</th>\n",
       "      <th>Gender</th>\n",
       "      <th>Age</th>\n",
       "      <th>Tenure</th>\n",
       "      <th>Balance</th>\n",
       "      <th>NumOfProducts</th>\n",
       "      <th>HasCrCard</th>\n",
       "      <th>IsActiveMember</th>\n",
       "      <th>EstimatedSalary</th>\n",
       "      <th>Exited</th>\n",
       "    </tr>\n",
       "  </thead>\n",
       "  <tbody>\n",
       "    <tr>\n",
       "      <th>1562</th>\n",
       "      <td>0.688</td>\n",
       "      <td>2</td>\n",
       "      <td>1</td>\n",
       "      <td>0.175676</td>\n",
       "      <td>6</td>\n",
       "      <td>0.434649</td>\n",
       "      <td>2</td>\n",
       "      <td>1</td>\n",
       "      <td>1</td>\n",
       "      <td>0.097196</td>\n",
       "      <td>1</td>\n",
       "    </tr>\n",
       "    <tr>\n",
       "      <th>2861</th>\n",
       "      <td>0.350</td>\n",
       "      <td>0</td>\n",
       "      <td>0</td>\n",
       "      <td>0.094595</td>\n",
       "      <td>6</td>\n",
       "      <td>0.000000</td>\n",
       "      <td>2</td>\n",
       "      <td>1</td>\n",
       "      <td>0</td>\n",
       "      <td>0.447818</td>\n",
       "      <td>0</td>\n",
       "    </tr>\n",
       "    <tr>\n",
       "      <th>4059</th>\n",
       "      <td>0.652</td>\n",
       "      <td>0</td>\n",
       "      <td>1</td>\n",
       "      <td>0.256757</td>\n",
       "      <td>10</td>\n",
       "      <td>0.423449</td>\n",
       "      <td>1</td>\n",
       "      <td>1</td>\n",
       "      <td>1</td>\n",
       "      <td>0.833413</td>\n",
       "      <td>0</td>\n",
       "    </tr>\n",
       "    <tr>\n",
       "      <th>5579</th>\n",
       "      <td>0.672</td>\n",
       "      <td>1</td>\n",
       "      <td>1</td>\n",
       "      <td>0.054054</td>\n",
       "      <td>8</td>\n",
       "      <td>0.000000</td>\n",
       "      <td>2</td>\n",
       "      <td>0</td>\n",
       "      <td>0</td>\n",
       "      <td>0.711669</td>\n",
       "      <td>0</td>\n",
       "    </tr>\n",
       "    <tr>\n",
       "      <th>6622</th>\n",
       "      <td>0.418</td>\n",
       "      <td>0</td>\n",
       "      <td>0</td>\n",
       "      <td>0.337838</td>\n",
       "      <td>1</td>\n",
       "      <td>0.000000</td>\n",
       "      <td>1</td>\n",
       "      <td>0</td>\n",
       "      <td>1</td>\n",
       "      <td>0.433155</td>\n",
       "      <td>0</td>\n",
       "    </tr>\n",
       "  </tbody>\n",
       "</table>\n",
       "</div>"
      ],
      "text/plain": [
       "      CreditScore  Geography  Gender       Age  Tenure   Balance  \\\n",
       "1562        0.688          2       1  0.175676       6  0.434649   \n",
       "2861        0.350          0       0  0.094595       6  0.000000   \n",
       "4059        0.652          0       1  0.256757      10  0.423449   \n",
       "5579        0.672          1       1  0.054054       8  0.000000   \n",
       "6622        0.418          0       0  0.337838       1  0.000000   \n",
       "\n",
       "      NumOfProducts  HasCrCard  IsActiveMember  EstimatedSalary  Exited  \n",
       "1562              2          1               1         0.097196       1  \n",
       "2861              2          1               0         0.447818       0  \n",
       "4059              1          1               1         0.833413       0  \n",
       "5579              2          0               0         0.711669       0  \n",
       "6622              1          0               1         0.433155       0  "
      ]
     },
     "execution_count": 54,
     "metadata": {},
     "output_type": "execute_result"
    }
   ],
   "source": [
    "df3['Exited'] = ytrain\n",
    "df3.head()"
   ]
  },
  {
   "cell_type": "code",
   "execution_count": 55,
   "metadata": {},
   "outputs": [],
   "source": [
    "df3_0 = df3[df3['Exited'] == 0]\n",
    "df3_1 = df3[df3['Exited'] == 1]"
   ]
  },
  {
   "cell_type": "code",
   "execution_count": 56,
   "metadata": {},
   "outputs": [],
   "source": [
    "def ensemble_imb(zero_class,ones_class,start,end):\n",
    "    df_ensemble = pd.concat([ones_class,zero_class[start:end]],axis=0)\n",
    "    ztrain_en = df_ensemble.drop('Exited', axis='columns')\n",
    "    ytrain_en = df_ensemble.Exited\n",
    "    return ztrain_en, ytrain_en"
   ]
  },
  {
   "cell_type": "markdown",
   "metadata": {},
   "source": [
    "#### Ensemble 1 : From the range 0 - 1990"
   ]
  },
  {
   "cell_type": "code",
   "execution_count": 57,
   "metadata": {
    "scrolled": true
   },
   "outputs": [
    {
     "name": "stdout",
     "output_type": "stream",
     "text": [
      "\n",
      " Neural network for Ensemple method - First set \n",
      "\n",
      "Epoch 1/50\n",
      "109/109 [==============================] - 1s 1ms/step - loss: 0.6898 - accuracy: 0.5548\n",
      "Epoch 2/50\n",
      "109/109 [==============================] - 0s 1ms/step - loss: 0.6673 - accuracy: 0.5923\n",
      "Epoch 3/50\n",
      "109/109 [==============================] - 0s 1ms/step - loss: 0.6581 - accuracy: 0.6107\n",
      "Epoch 4/50\n",
      "109/109 [==============================] - 0s 1ms/step - loss: 0.6386 - accuracy: 0.6491\n",
      "Epoch 5/50\n",
      "109/109 [==============================] - 0s 1ms/step - loss: 0.6296 - accuracy: 0.6494\n",
      "Epoch 6/50\n",
      "109/109 [==============================] - 0s 1ms/step - loss: 0.6094 - accuracy: 0.6704\n",
      "Epoch 7/50\n",
      "109/109 [==============================] - 0s 1ms/step - loss: 0.6071 - accuracy: 0.6692\n",
      "Epoch 8/50\n",
      "109/109 [==============================] - 0s 1ms/step - loss: 0.5986 - accuracy: 0.6790\n",
      "Epoch 9/50\n",
      "109/109 [==============================] - 0s 1ms/step - loss: 0.5923 - accuracy: 0.6787\n",
      "Epoch 10/50\n",
      "109/109 [==============================] - 0s 1ms/step - loss: 0.5938 - accuracy: 0.6849\n",
      "Epoch 11/50\n",
      "109/109 [==============================] - 0s 1ms/step - loss: 0.5845 - accuracy: 0.6931\n",
      "Epoch 12/50\n",
      "109/109 [==============================] - 0s 1ms/step - loss: 0.5670 - accuracy: 0.7085\n",
      "Epoch 13/50\n",
      "109/109 [==============================] - 0s 1ms/step - loss: 0.5728 - accuracy: 0.7073\n",
      "Epoch 14/50\n",
      "109/109 [==============================] - 0s 1ms/step - loss: 0.5591 - accuracy: 0.7083\n",
      "Epoch 15/50\n",
      "109/109 [==============================] - 0s 1ms/step - loss: 0.5646 - accuracy: 0.7084\n",
      "Epoch 16/50\n",
      "109/109 [==============================] - 0s 1ms/step - loss: 0.5712 - accuracy: 0.6993\n",
      "Epoch 17/50\n",
      "109/109 [==============================] - 0s 1ms/step - loss: 0.5531 - accuracy: 0.7298\n",
      "Epoch 18/50\n",
      "109/109 [==============================] - 0s 1ms/step - loss: 0.5603 - accuracy: 0.7070\n",
      "Epoch 19/50\n",
      "109/109 [==============================] - 0s 1ms/step - loss: 0.5506 - accuracy: 0.7276\n",
      "Epoch 20/50\n",
      "109/109 [==============================] - 0s 1ms/step - loss: 0.5423 - accuracy: 0.7286\n",
      "Epoch 21/50\n",
      "109/109 [==============================] - 0s 1ms/step - loss: 0.5481 - accuracy: 0.7236\n",
      "Epoch 22/50\n",
      "109/109 [==============================] - 0s 1ms/step - loss: 0.5566 - accuracy: 0.7207\n",
      "Epoch 23/50\n",
      "109/109 [==============================] - 0s 1ms/step - loss: 0.5401 - accuracy: 0.7307\n",
      "Epoch 24/50\n",
      "109/109 [==============================] - 0s 1ms/step - loss: 0.5434 - accuracy: 0.7277\n",
      "Epoch 25/50\n",
      "109/109 [==============================] - 0s 1ms/step - loss: 0.5354 - accuracy: 0.7290\n",
      "Epoch 26/50\n",
      "109/109 [==============================] - 0s 1ms/step - loss: 0.5433 - accuracy: 0.7221\n",
      "Epoch 27/50\n",
      "109/109 [==============================] - 0s 1ms/step - loss: 0.5400 - accuracy: 0.7273\n",
      "Epoch 28/50\n",
      "109/109 [==============================] - 0s 1ms/step - loss: 0.5344 - accuracy: 0.7360\n",
      "Epoch 29/50\n",
      "109/109 [==============================] - 0s 1ms/step - loss: 0.5233 - accuracy: 0.7450\n",
      "Epoch 30/50\n",
      "109/109 [==============================] - 0s 1ms/step - loss: 0.5279 - accuracy: 0.7435\n",
      "Epoch 31/50\n",
      "109/109 [==============================] - 0s 1ms/step - loss: 0.5233 - accuracy: 0.7401\n",
      "Epoch 32/50\n",
      "109/109 [==============================] - 0s 1ms/step - loss: 0.5364 - accuracy: 0.7385\n",
      "Epoch 33/50\n",
      "109/109 [==============================] - 0s 1ms/step - loss: 0.5240 - accuracy: 0.7504\n",
      "Epoch 34/50\n",
      "109/109 [==============================] - 0s 1ms/step - loss: 0.5363 - accuracy: 0.7391\n",
      "Epoch 35/50\n",
      "109/109 [==============================] - 0s 1ms/step - loss: 0.5361 - accuracy: 0.7370\n",
      "Epoch 36/50\n",
      "109/109 [==============================] - 0s 1ms/step - loss: 0.5122 - accuracy: 0.7536\n",
      "Epoch 37/50\n",
      "109/109 [==============================] - 0s 1ms/step - loss: 0.5198 - accuracy: 0.7417\n",
      "Epoch 38/50\n",
      "109/109 [==============================] - 0s 1ms/step - loss: 0.5098 - accuracy: 0.7520\n",
      "Epoch 39/50\n",
      "109/109 [==============================] - 0s 1ms/step - loss: 0.5253 - accuracy: 0.7382\n",
      "Epoch 40/50\n",
      "109/109 [==============================] - 0s 1ms/step - loss: 0.5056 - accuracy: 0.7482\n",
      "Epoch 41/50\n",
      "109/109 [==============================] - 0s 1ms/step - loss: 0.5044 - accuracy: 0.7545\n",
      "Epoch 42/50\n",
      "109/109 [==============================] - 0s 1ms/step - loss: 0.5056 - accuracy: 0.7562\n",
      "Epoch 43/50\n",
      "109/109 [==============================] - 0s 1ms/step - loss: 0.5047 - accuracy: 0.7570\n",
      "Epoch 44/50\n",
      "109/109 [==============================] - 0s 1ms/step - loss: 0.5058 - accuracy: 0.7551\n",
      "Epoch 45/50\n",
      "109/109 [==============================] - 0s 1ms/step - loss: 0.4976 - accuracy: 0.7584\n",
      "Epoch 46/50\n",
      "109/109 [==============================] - 0s 1ms/step - loss: 0.5076 - accuracy: 0.7519\n",
      "Epoch 47/50\n",
      "109/109 [==============================] - 0s 1ms/step - loss: 0.5023 - accuracy: 0.7652\n",
      "Epoch 48/50\n",
      "109/109 [==============================] - 0s 1ms/step - loss: 0.5042 - accuracy: 0.7640\n",
      "Epoch 49/50\n",
      "109/109 [==============================] - 0s 1ms/step - loss: 0.5095 - accuracy: 0.7546\n",
      "Epoch 50/50\n",
      "109/109 [==============================] - 0s 1ms/step - loss: 0.4929 - accuracy: 0.7678\n"
     ]
    },
    {
     "data": {
      "text/plain": [
       "<tensorflow.python.keras.callbacks.History at 0x27795024c48>"
      ]
     },
     "execution_count": 57,
     "metadata": {},
     "output_type": "execute_result"
    }
   ],
   "source": [
    "ztrain_en,ytrain_en = ensemble_imb(df3_0,df3_1,0,1990)\n",
    "\n",
    "print('\\n Neural network for Ensemple method - First set \\n')\n",
    "\n",
    "ann_regular2 = keras.Sequential([\n",
    "keras.layers.Dense(10, input_shape=(10,),activation='relu'),\n",
    "keras.layers.Dense(10,activation='relu'),\n",
    "keras.layers.Dense(1,activation='sigmoid')\n",
    "])\n",
    "\n",
    "ann_regular2.compile(optimizer='adam',\n",
    "loss='binary_crossentropy',\n",
    "metrics=['accuracy'])\n",
    "\n",
    "ann_regular2.fit(ztrain_en,ytrain_en,epochs=50)"
   ]
  },
  {
   "cell_type": "code",
   "execution_count": 58,
   "metadata": {},
   "outputs": [
    {
     "name": "stdout",
     "output_type": "stream",
     "text": [
      "Classification Report: \n",
      "               precision    recall  f1-score   support\n",
      "\n",
      "           0       0.92      0.79      0.85      2012\n",
      "           1       0.45      0.73      0.56       488\n",
      "\n",
      "    accuracy                           0.77      2500\n",
      "   macro avg       0.69      0.76      0.70      2500\n",
      "weighted avg       0.83      0.77      0.79      2500\n",
      "\n"
     ]
    }
   ],
   "source": [
    "y_pred_en = ann_regular2.predict(ztest2)\n",
    "y_pred_en = np.round(y_pred_en)\n",
    "\n",
    "print(\"Classification Report: \\n\", classification_report(ytest2, y_pred_en))"
   ]
  },
  {
   "cell_type": "markdown",
   "metadata": {},
   "source": [
    "#### Ensemble 2 : From the range 1991 - 3980"
   ]
  },
  {
   "cell_type": "code",
   "execution_count": 59,
   "metadata": {
    "scrolled": true
   },
   "outputs": [
    {
     "name": "stdout",
     "output_type": "stream",
     "text": [
      "\n",
      " Neural network for Ensemple method - Second set \n",
      "\n",
      "Epoch 1/50\n",
      "109/109 [==============================] - 1s 1ms/step - loss: 0.7562 - accuracy: 0.5213\n",
      "Epoch 2/50\n",
      "109/109 [==============================] - 0s 1ms/step - loss: 0.6512 - accuracy: 0.6078\n",
      "Epoch 3/50\n",
      "109/109 [==============================] - 0s 1ms/step - loss: 0.6231 - accuracy: 0.6566\n",
      "Epoch 4/50\n",
      "109/109 [==============================] - 0s 1ms/step - loss: 0.6283 - accuracy: 0.6488\n",
      "Epoch 5/50\n",
      "109/109 [==============================] - 0s 1ms/step - loss: 0.6132 - accuracy: 0.6635\n",
      "Epoch 6/50\n",
      "109/109 [==============================] - 0s 1ms/step - loss: 0.5985 - accuracy: 0.6739\n",
      "Epoch 7/50\n",
      "109/109 [==============================] - 0s 1ms/step - loss: 0.5977 - accuracy: 0.6774\n",
      "Epoch 8/50\n",
      "109/109 [==============================] - 0s 1ms/step - loss: 0.5905 - accuracy: 0.6804\n",
      "Epoch 9/50\n",
      "109/109 [==============================] - 0s 1ms/step - loss: 0.5840 - accuracy: 0.6847\n",
      "Epoch 10/50\n",
      "109/109 [==============================] - 0s 1ms/step - loss: 0.5776 - accuracy: 0.6895\n",
      "Epoch 11/50\n",
      "109/109 [==============================] - 0s 1ms/step - loss: 0.5759 - accuracy: 0.6916\n",
      "Epoch 12/50\n",
      "109/109 [==============================] - 0s 1ms/step - loss: 0.5792 - accuracy: 0.6896\n",
      "Epoch 13/50\n",
      "109/109 [==============================] - 0s 1ms/step - loss: 0.5593 - accuracy: 0.7077\n",
      "Epoch 14/50\n",
      "109/109 [==============================] - 0s 1ms/step - loss: 0.5710 - accuracy: 0.6943\n",
      "Epoch 15/50\n",
      "109/109 [==============================] - 0s 1ms/step - loss: 0.5673 - accuracy: 0.6950\n",
      "Epoch 16/50\n",
      "109/109 [==============================] - 0s 2ms/step - loss: 0.5747 - accuracy: 0.6881\n",
      "Epoch 17/50\n",
      "109/109 [==============================] - 0s 2ms/step - loss: 0.5603 - accuracy: 0.7079\n",
      "Epoch 18/50\n",
      "109/109 [==============================] - 0s 1ms/step - loss: 0.5587 - accuracy: 0.7029\n",
      "Epoch 19/50\n",
      "109/109 [==============================] - 0s 1ms/step - loss: 0.5598 - accuracy: 0.6945\n",
      "Epoch 20/50\n",
      "109/109 [==============================] - 0s 1ms/step - loss: 0.5632 - accuracy: 0.6998\n",
      "Epoch 21/50\n",
      "109/109 [==============================] - 0s 1ms/step - loss: 0.5562 - accuracy: 0.7099\n",
      "Epoch 22/50\n",
      "109/109 [==============================] - 0s 1ms/step - loss: 0.5567 - accuracy: 0.7069\n",
      "Epoch 23/50\n",
      "109/109 [==============================] - 0s 1ms/step - loss: 0.5374 - accuracy: 0.7258\n",
      "Epoch 24/50\n",
      "109/109 [==============================] - 0s 1ms/step - loss: 0.5493 - accuracy: 0.7220\n",
      "Epoch 25/50\n",
      "109/109 [==============================] - 0s 1ms/step - loss: 0.5631 - accuracy: 0.7117\n",
      "Epoch 26/50\n",
      "109/109 [==============================] - 0s 1ms/step - loss: 0.5453 - accuracy: 0.7223\n",
      "Epoch 27/50\n",
      "109/109 [==============================] - 0s 1ms/step - loss: 0.5515 - accuracy: 0.7183\n",
      "Epoch 28/50\n",
      "109/109 [==============================] - 0s 1ms/step - loss: 0.5431 - accuracy: 0.7196\n",
      "Epoch 29/50\n",
      "109/109 [==============================] - 0s 1ms/step - loss: 0.5408 - accuracy: 0.7219\n",
      "Epoch 30/50\n",
      "109/109 [==============================] - 0s 1ms/step - loss: 0.5328 - accuracy: 0.7285\n",
      "Epoch 31/50\n",
      "109/109 [==============================] - 0s 1ms/step - loss: 0.5396 - accuracy: 0.7234\n",
      "Epoch 32/50\n",
      "109/109 [==============================] - 0s 1ms/step - loss: 0.5358 - accuracy: 0.7300\n",
      "Epoch 33/50\n",
      "109/109 [==============================] - 0s 1ms/step - loss: 0.5407 - accuracy: 0.7238\n",
      "Epoch 34/50\n",
      "109/109 [==============================] - 0s 1ms/step - loss: 0.5443 - accuracy: 0.7243\n",
      "Epoch 35/50\n",
      "109/109 [==============================] - 0s 1ms/step - loss: 0.5457 - accuracy: 0.7248\n",
      "Epoch 36/50\n",
      "109/109 [==============================] - 0s 1ms/step - loss: 0.5336 - accuracy: 0.7347\n",
      "Epoch 37/50\n",
      "109/109 [==============================] - 0s 1ms/step - loss: 0.5344 - accuracy: 0.7249\n",
      "Epoch 38/50\n",
      "109/109 [==============================] - 0s 1ms/step - loss: 0.5373 - accuracy: 0.7302\n",
      "Epoch 39/50\n",
      "109/109 [==============================] - 0s 1ms/step - loss: 0.5419 - accuracy: 0.7211\n",
      "Epoch 40/50\n",
      "109/109 [==============================] - 0s 1ms/step - loss: 0.5358 - accuracy: 0.7313\n",
      "Epoch 41/50\n",
      "109/109 [==============================] - 0s 1ms/step - loss: 0.5234 - accuracy: 0.7361\n",
      "Epoch 42/50\n",
      "109/109 [==============================] - 0s 1ms/step - loss: 0.5303 - accuracy: 0.7299\n",
      "Epoch 43/50\n",
      "109/109 [==============================] - 0s 1ms/step - loss: 0.5135 - accuracy: 0.7479\n",
      "Epoch 44/50\n",
      "109/109 [==============================] - 0s 1ms/step - loss: 0.5064 - accuracy: 0.7475\n",
      "Epoch 45/50\n",
      "109/109 [==============================] - 0s 1ms/step - loss: 0.5261 - accuracy: 0.7379\n",
      "Epoch 46/50\n",
      "109/109 [==============================] - 0s 1ms/step - loss: 0.5228 - accuracy: 0.7381\n",
      "Epoch 47/50\n",
      "109/109 [==============================] - 0s 1ms/step - loss: 0.5334 - accuracy: 0.7325\n",
      "Epoch 48/50\n",
      "109/109 [==============================] - 0s 1ms/step - loss: 0.5318 - accuracy: 0.7285\n",
      "Epoch 49/50\n",
      "109/109 [==============================] - 0s 1ms/step - loss: 0.5072 - accuracy: 0.7552\n",
      "Epoch 50/50\n",
      "109/109 [==============================] - 0s 1ms/step - loss: 0.5105 - accuracy: 0.7480\n"
     ]
    },
    {
     "data": {
      "text/plain": [
       "<tensorflow.python.keras.callbacks.History at 0x27796765f08>"
      ]
     },
     "execution_count": 59,
     "metadata": {},
     "output_type": "execute_result"
    }
   ],
   "source": [
    "ztrain_en2,ytrain_en2 = ensemble_imb(df3_0,df3_1,1991,3980)\n",
    "\n",
    "print('\\n Neural network for Ensemple method - Second set \\n')\n",
    "\n",
    "ann_regular3 = keras.Sequential([\n",
    "keras.layers.Dense(10, input_shape=(10,),activation='relu'),\n",
    "keras.layers.Dense(10,activation='relu'),\n",
    "keras.layers.Dense(1,activation='sigmoid')\n",
    "])\n",
    "\n",
    "ann_regular3.compile(optimizer='adam',\n",
    "loss='binary_crossentropy',\n",
    "metrics=['accuracy'])\n",
    "\n",
    "ann_regular3.fit(ztrain_en2,ytrain_en2,epochs=50)"
   ]
  },
  {
   "cell_type": "code",
   "execution_count": 60,
   "metadata": {},
   "outputs": [
    {
     "name": "stdout",
     "output_type": "stream",
     "text": [
      "Classification Report: \n",
      "               precision    recall  f1-score   support\n",
      "\n",
      "           0       0.92      0.79      0.85      2012\n",
      "           1       0.45      0.73      0.56       488\n",
      "\n",
      "    accuracy                           0.77      2500\n",
      "   macro avg       0.69      0.76      0.70      2500\n",
      "weighted avg       0.83      0.77      0.79      2500\n",
      "\n"
     ]
    }
   ],
   "source": [
    "y_pred_en2 = ann_regular3.predict(ztest2)\n",
    "y_pred_en2 = np.round(y_pred_en)\n",
    "\n",
    "print(\"Classification Report: \\n\", classification_report(ytest2, y_pred_en2))"
   ]
  },
  {
   "cell_type": "markdown",
   "metadata": {},
   "source": [
    "#### Ensemble 2 : From the range 3980 - 5982"
   ]
  },
  {
   "cell_type": "code",
   "execution_count": 61,
   "metadata": {
    "scrolled": true
   },
   "outputs": [
    {
     "name": "stdout",
     "output_type": "stream",
     "text": [
      "\n",
      " Neural network for Ensemple method - Second set \n",
      "\n",
      "Epoch 1/50\n",
      "110/110 [==============================] - 1s 1ms/step - loss: 0.7663 - accuracy: 0.5592\n",
      "Epoch 2/50\n",
      "110/110 [==============================] - 0s 1ms/step - loss: 0.6764 - accuracy: 0.5855\n",
      "Epoch 3/50\n",
      "110/110 [==============================] - 0s 1ms/step - loss: 0.6650 - accuracy: 0.5945\n",
      "Epoch 4/50\n",
      "110/110 [==============================] - 0s 1ms/step - loss: 0.6509 - accuracy: 0.6044\n",
      "Epoch 5/50\n",
      "110/110 [==============================] - 0s 1ms/step - loss: 0.6324 - accuracy: 0.6551\n",
      "Epoch 6/50\n",
      "110/110 [==============================] - 0s 1ms/step - loss: 0.6224 - accuracy: 0.6653\n",
      "Epoch 7/50\n",
      "110/110 [==============================] - 0s 1ms/step - loss: 0.6126 - accuracy: 0.6623\n",
      "Epoch 8/50\n",
      "110/110 [==============================] - 0s 1ms/step - loss: 0.6073 - accuracy: 0.6712\n",
      "Epoch 9/50\n",
      "110/110 [==============================] - 0s 2ms/step - loss: 0.6027 - accuracy: 0.6788\n",
      "Epoch 10/50\n",
      "110/110 [==============================] - 0s 1ms/step - loss: 0.5826 - accuracy: 0.6909\n",
      "Epoch 11/50\n",
      "110/110 [==============================] - 0s 1ms/step - loss: 0.5945 - accuracy: 0.6872\n",
      "Epoch 12/50\n",
      "110/110 [==============================] - 0s 1ms/step - loss: 0.5682 - accuracy: 0.7017\n",
      "Epoch 13/50\n",
      "110/110 [==============================] - 0s 1ms/step - loss: 0.5629 - accuracy: 0.7180\n",
      "Epoch 14/50\n",
      "110/110 [==============================] - 0s 1ms/step - loss: 0.5491 - accuracy: 0.7227\n",
      "Epoch 15/50\n",
      "110/110 [==============================] - 0s 1ms/step - loss: 0.5473 - accuracy: 0.7137\n",
      "Epoch 16/50\n",
      "110/110 [==============================] - 0s 1ms/step - loss: 0.5384 - accuracy: 0.7280\n",
      "Epoch 17/50\n",
      "110/110 [==============================] - 0s 1ms/step - loss: 0.5268 - accuracy: 0.7272\n",
      "Epoch 18/50\n",
      "110/110 [==============================] - 0s 1ms/step - loss: 0.5114 - accuracy: 0.7468\n",
      "Epoch 19/50\n",
      "110/110 [==============================] - 0s 1ms/step - loss: 0.5231 - accuracy: 0.7336\n",
      "Epoch 20/50\n",
      "110/110 [==============================] - 0s 1ms/step - loss: 0.5194 - accuracy: 0.7481\n",
      "Epoch 21/50\n",
      "110/110 [==============================] - 0s 1ms/step - loss: 0.5084 - accuracy: 0.7482\n",
      "Epoch 22/50\n",
      "110/110 [==============================] - 0s 1ms/step - loss: 0.5109 - accuracy: 0.7511\n",
      "Epoch 23/50\n",
      "110/110 [==============================] - 0s 1ms/step - loss: 0.5131 - accuracy: 0.7418\n",
      "Epoch 24/50\n",
      "110/110 [==============================] - 0s 1ms/step - loss: 0.5164 - accuracy: 0.7370\n",
      "Epoch 25/50\n",
      "110/110 [==============================] - 0s 1ms/step - loss: 0.5022 - accuracy: 0.7497\n",
      "Epoch 26/50\n",
      "110/110 [==============================] - 0s 1ms/step - loss: 0.5269 - accuracy: 0.7305\n",
      "Epoch 27/50\n",
      "110/110 [==============================] - 0s 1ms/step - loss: 0.5225 - accuracy: 0.7282\n",
      "Epoch 28/50\n",
      "110/110 [==============================] - 0s 1ms/step - loss: 0.5023 - accuracy: 0.7554\n",
      "Epoch 29/50\n",
      "110/110 [==============================] - 0s 1ms/step - loss: 0.4940 - accuracy: 0.7567\n",
      "Epoch 30/50\n",
      "110/110 [==============================] - 0s 1ms/step - loss: 0.4948 - accuracy: 0.7582\n",
      "Epoch 31/50\n",
      "110/110 [==============================] - 0s 1ms/step - loss: 0.4950 - accuracy: 0.7688\n",
      "Epoch 32/50\n",
      "110/110 [==============================] - 0s 1ms/step - loss: 0.4846 - accuracy: 0.7688\n",
      "Epoch 33/50\n",
      "110/110 [==============================] - 0s 1ms/step - loss: 0.5102 - accuracy: 0.7527\n",
      "Epoch 34/50\n",
      "110/110 [==============================] - 0s 1ms/step - loss: 0.4880 - accuracy: 0.7631\n",
      "Epoch 35/50\n",
      "110/110 [==============================] - 0s 1ms/step - loss: 0.4809 - accuracy: 0.7642\n",
      "Epoch 36/50\n",
      "110/110 [==============================] - 0s 1ms/step - loss: 0.4992 - accuracy: 0.7509\n",
      "Epoch 37/50\n",
      "110/110 [==============================] - 0s 1ms/step - loss: 0.4943 - accuracy: 0.7542\n",
      "Epoch 38/50\n",
      "110/110 [==============================] - 0s 1ms/step - loss: 0.5007 - accuracy: 0.7553\n",
      "Epoch 39/50\n",
      "110/110 [==============================] - 0s 1ms/step - loss: 0.5019 - accuracy: 0.7475\n",
      "Epoch 40/50\n",
      "110/110 [==============================] - 0s 1ms/step - loss: 0.4711 - accuracy: 0.7648\n",
      "Epoch 41/50\n",
      "110/110 [==============================] - 0s 1ms/step - loss: 0.4909 - accuracy: 0.7534\n",
      "Epoch 42/50\n",
      "110/110 [==============================] - 0s 1ms/step - loss: 0.5065 - accuracy: 0.7302\n",
      "Epoch 43/50\n",
      "110/110 [==============================] - 0s 1ms/step - loss: 0.4832 - accuracy: 0.7605\n",
      "Epoch 44/50\n",
      "110/110 [==============================] - 0s 1ms/step - loss: 0.4931 - accuracy: 0.7456\n",
      "Epoch 45/50\n",
      "110/110 [==============================] - 0s 1ms/step - loss: 0.4849 - accuracy: 0.7672\n",
      "Epoch 46/50\n",
      "110/110 [==============================] - 0s 1ms/step - loss: 0.4850 - accuracy: 0.7700\n",
      "Epoch 47/50\n",
      "110/110 [==============================] - 0s 1ms/step - loss: 0.4913 - accuracy: 0.7560\n",
      "Epoch 48/50\n",
      "110/110 [==============================] - 0s 1ms/step - loss: 0.4833 - accuracy: 0.7557\n",
      "Epoch 49/50\n",
      "110/110 [==============================] - 0s 1ms/step - loss: 0.4726 - accuracy: 0.7759\n",
      "Epoch 50/50\n",
      "110/110 [==============================] - 0s 1ms/step - loss: 0.4880 - accuracy: 0.7542\n"
     ]
    },
    {
     "data": {
      "text/plain": [
       "<tensorflow.python.keras.callbacks.History at 0x2779788b3c8>"
      ]
     },
     "execution_count": 61,
     "metadata": {},
     "output_type": "execute_result"
    }
   ],
   "source": [
    "ztrain_en2,ytrain_en2 = ensemble_imb(df3_0,df3_1,3980,5982)\n",
    "\n",
    "print('\\n Neural network for Ensemple method - Second set \\n')\n",
    "\n",
    "ann_regular3 = keras.Sequential([\n",
    "keras.layers.Dense(10, input_shape=(10,),activation='relu'),\n",
    "keras.layers.Dense(10,activation='relu'),\n",
    "keras.layers.Dense(1,activation='sigmoid')\n",
    "])\n",
    "\n",
    "ann_regular3.compile(optimizer='adam',\n",
    "loss='binary_crossentropy',\n",
    "metrics=['accuracy'])\n",
    "\n",
    "ann_regular3.fit(ztrain_en2,ytrain_en2,epochs=50)"
   ]
  },
  {
   "cell_type": "code",
   "execution_count": 62,
   "metadata": {},
   "outputs": [
    {
     "name": "stdout",
     "output_type": "stream",
     "text": [
      "Classification Report: \n",
      "               precision    recall  f1-score   support\n",
      "\n",
      "           0       0.92      0.79      0.85      2012\n",
      "           1       0.45      0.73      0.56       488\n",
      "\n",
      "    accuracy                           0.77      2500\n",
      "   macro avg       0.69      0.76      0.70      2500\n",
      "weighted avg       0.83      0.77      0.79      2500\n",
      "\n"
     ]
    }
   ],
   "source": [
    "y_pred_en2 = ann_regular3.predict(ztest2)\n",
    "y_pred_en2 = np.round(y_pred_en)\n",
    "\n",
    "print(\"Classification Report: \\n\", classification_report(ytest2, y_pred_en2))"
   ]
  },
  {
   "cell_type": "markdown",
   "metadata": {},
   "source": [
    "#### *** According to the classification report SMOTE technique given the most accurate value"
   ]
  }
 ],
 "metadata": {
  "kernelspec": {
   "display_name": "Python 3",
   "language": "python",
   "name": "python3"
  },
  "language_info": {
   "codemirror_mode": {
    "name": "ipython",
    "version": 3
   },
   "file_extension": ".py",
   "mimetype": "text/x-python",
   "name": "python",
   "nbconvert_exporter": "python",
   "pygments_lexer": "ipython3",
   "version": "3.7.6"
  }
 },
 "nbformat": 4,
 "nbformat_minor": 4
}
